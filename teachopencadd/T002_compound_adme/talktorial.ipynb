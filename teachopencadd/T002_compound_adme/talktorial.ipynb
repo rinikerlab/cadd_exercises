{
 "cells": [
  {
   "cell_type": "markdown",
   "metadata": {},
   "source": [
    "# T002 · Molecular filtering: ADME and lead-likeness criteria\n",
    "\n",
    "Authors:\n",
    "\n",
    "- Michele Wichmann, CADD seminars 2017, Charité/FU Berlin\n",
    "- Mathias Wajnberg, CADD seminars 2018, Charité/FU Berlin\n",
    "- Dominique Sydow, 2018-2020, [Volkamer lab](https://volkamerlab.org), Charité\n",
    "- Andrea Volkamer, 2018-2020, [Volkamer lab](https://volkamerlab.org), Charité"
   ]
  },
  {
   "cell_type": "markdown",
   "metadata": {},
   "source": [
    "__Talktorial T002__: This talktorial is part of the TeachOpenCADD pipeline described in the [first TeachOpenCADD paper](https://jcheminf.biomedcentral.com/articles/10.1186/s13321-019-0351-x), comprising of talktorials T001-T010."
   ]
  },
  {
   "cell_type": "markdown",
   "metadata": {},
   "source": [
    "## Aim of this talktorial\n",
    "\n",
    "In the context of drug design, it is important to filter candidate molecules by e.g. their physicochemical properties. In this talktorial, the compounds acquired from ChEMBL (__Talktorial 001__) will be filtered by Lipinsik's rule of five to keep only orally bioavailable compounds."
   ]
  },
  {
   "cell_type": "markdown",
   "metadata": {},
   "source": [
    "### Contents in _Theory_\n",
    "\n",
    "* ADME - absorption, distribution, metabolism, and excretion\n",
    "* Lead-likeness and Lipinski's rule of five (Ro5)\n",
    "* Radar charts in the context of lead-likeness"
   ]
  },
  {
   "cell_type": "markdown",
   "metadata": {},
   "source": [
    "### Contents in _Practical_\n",
    "\n",
    "* Define and visualize example molecules\n",
    "* Calculate and plot molecular properties for Ro5\n",
    "* Investigate compliance with Ro5\n",
    "* Apply Ro5 to the EGFR dataset\n",
    "* Visualize Ro5 properties (radar plot)"
   ]
  },
  {
   "cell_type": "markdown",
   "metadata": {},
   "source": [
    "### References\n",
    "\n",
    "* ADME criteria ([Wikipedia](https://en.wikipedia.org/wiki/ADME) and [<i>Mol Pharm.</i> (2010), <b>7(5)</b>, 1388-1405](https://www.ncbi.nlm.nih.gov/pmc/articles/PMC3025274/))\n",
    "* [SwissADME](http://www.swissadme.ch/) webserver\n",
    "* What are lead compounds? ([Wikipedia](https://en.wikipedia.org/wiki/Lead_compound))\n",
    "* What is the LogP value? ([Wikipedia](https://en.wikipedia.org/wiki/Partition_coefficient))\n",
    "* Lipinski et al. \"Experimental and computational approaches to estimate solubility and permeability in drug discovery and development settings.\" ([<i>Adv. Drug Deliv. Rev.</i> (1997), <b>23</b>, 3-25](https://www.sciencedirect.com/science/article/pii/S0169409X96004231))\n",
    "* Ritchie et al. \"Graphical representation of ADME-related molecule properties for medicinal chemists\" ([<i>Drug. Discov. Today</i> (2011), <b>16</b>, 65-72](https://www.ncbi.nlm.nih.gov/pubmed/21074634))"
   ]
  },
  {
   "cell_type": "markdown",
   "metadata": {},
   "source": [
    "## Theory\n",
    "\n",
    "In a virtual screening, we aim to predict whether a compound might bind to and interact with a specific target. However, if we want to identify a new drug, it is also important that this compound reaches the target and is eventually removed from the body in a favorable way. Therefore, we should also consider whether a compound is actually taken up into the body and whether it is able to cross certain barriers in order to reach its target. Is it metabolically stable and how will it be excreted once it is not acting at the target anymore? These processes are investigated in the field of pharmacokinetics. In contrast to pharmacodynamics (_\"What does the drug do to our body?\"_), pharmacokinetics deals with the question _\"What happens to the drug in our body?\"_. "
   ]
  },
  {
   "cell_type": "markdown",
   "metadata": {},
   "source": [
    "### ADME - absorption, distribution, metabolism, and excretion\n",
    "\n",
    "Pharmacokinetics are mainly divided into four steps: \n",
    "<strong>A</strong>bsorption, \n",
    "<strong>D</strong>istribution, \n",
    "<strong>M</strong>etabolism, and \n",
    "<strong>E</strong>xcretion. \n",
    "These are summarized as <strong>ADME</strong>. \n",
    "Often, ADME also includes <strong>T</strong>oxicology and is thus referred to as ADMET or ADMETox. \n",
    "Below, the ADME steps are discussed in more detail ([Wikipedia](https://en.wikipedia.org/wiki/ADME) and [<i>Mol Pharm.</i> (2010), <b>7(5)</b>, 1388-1405](https://www.ncbi.nlm.nih.gov/pmc/articles/PMC3025274/))."
   ]
  },
  {
   "cell_type": "markdown",
   "metadata": {},
   "source": [
    "__Absorption__: The amount and the time of drug-uptake into the body depends on multiple factors which can vary between individuals and their conditions as well as on the properties of the substance. Factors such as (poor) compound solubility, gastric emptying time, intestinal transit time, chemical (in-)stability in the stomach, and (in-)ability to permeate the intestinal wall can all influence the extent to which a drug is absorbed after e.g. oral administration, inhalation, or contact to skin."
   ]
  },
  {
   "cell_type": "markdown",
   "metadata": {},
   "source": [
    "__Distribution__: The distribution of an absorbed substance, i.e. within the body, between blood and different tissues, and crossing the blood-brain barrier are affected by regional blood flow rates, molecular size and polarity of the compound, and binding to serum proteins and transporter enzymes. Critical effects in toxicology can be the accumulation of highly apolar substances in fatty tissue, or crossing of the blood-brain barrier."
   ]
  },
  {
   "cell_type": "markdown",
   "metadata": {},
   "source": [
    "__Metabolism__: After entering the body, the compound will be metabolized. This means that only part of this compound will actually reach its target. Mainly liver and kidney enzymes are responsible for the break-down of xenobiotics (substances that are extrinsic to the body)."
   ]
  },
  {
   "cell_type": "markdown",
   "metadata": {},
   "source": [
    "__Excretion__: Compounds and their metabolites need to be removed from the body via excretion, usually through the kidneys (urine) or in the feces. Incomplete excretion can result in accumulation of foreign substances or adverse interference with normal metabolism."
   ]
  },
  {
   "cell_type": "markdown",
   "metadata": {},
   "source": [
    "![ADME processes in the human body](images/adme.png)\n",
    "\n",
    "_Figure 1_: ADME processes in the human body (figure taken from [Openclipart](https://openclipart.org/) and adapted)."
   ]
  },
  {
   "cell_type": "markdown",
   "metadata": {},
   "source": [
    "###  Lead-likeness and Lipinski's rule of five (Ro5)\n",
    "\n",
    "[<strong>Lead</strong> compounds](https://en.wikipedia.org/wiki/Lead_compound) are developmental drug candidates with promising properties. They are used as starting structures and modified with the aim to develop effective drugs. Besides bioactivity (_compound binds to the target of interest_), also favorable ADME properties are important criteria for the design of efficient drugs. \n",
    "\n",
    "The bioavailability of a compound is an important ADME property. Lipinski's rule of five (Ro5, [<i>Adv. Drug Deliv. Rev.</i> (1997), <b>23</b>, 3-25](https://www.sciencedirect.com/science/article/pii/S0169409X96004231)) was introduced to estimate the bioavailability of a compound solely based on its chemical structure.\n",
    "The Ro5 states that poor absorption or permeation of a compound is more probable if the chemical structure violates more than one of the following rules:\n",
    "\n",
    "- Molecular weight (MWT) <= 500 Da\n",
    "- Number of hydrogen bond acceptors (HBAs) <= 10\n",
    "- Number of hydrogen bond donors (HBD) <= 5 \n",
    "- Calculated LogP (octanol-water coefficient) <= 5\n",
    "\n",
    "Note: All numbers in the Ro5 are multiples of five; this is the origin of the rule's name.\n",
    "\n",
    "Additional remarks:\n",
    "\n",
    "- [LogP](https://en.wikipedia.org/wiki/Partition_coefficient) is also called partition coefficient or octanol-water coefficient. It measures the distribution of a compound, usually between a hydrophobic (e.g. 1-octanol) and a hydrophilic (e.g. water) phase. \n",
    "- Hydrophobic molecules might have a reduced solubility in water, while more hydrophilic molecules (e.g. high number of hydrogen bond acceptors and donors) or large molecules (high molecular weight) might have more difficulties in passing phospholipid membranes."
   ]
  },
  {
   "cell_type": "markdown",
   "metadata": {},
   "source": [
    "### Radar charts in the context of lead-likeness\n",
    "\n",
    "Molecular properties, such as the Ro5 properties, can be visualized in multiple ways  (e.g. craig plots, flower plots, or golden triangle) to support the interpretation by medicinal chemists ([<i>Drug. Discov. Today</i> (2011), <b>16(1-2)</b>, 65-72](https://www.ncbi.nlm.nih.gov/pubmed/21074634)).\n",
    "\n",
    "Due to their appearance, [radar charts](https://en.wikipedia.org/wiki/Radar_chart) are sometimes also called \"spider\" or \"cobweb\" plots. \n",
    "They are arranged circularly in 360 degrees and have one axis, starting in the center, for each condition. The values for each parameter are plotted on the axis and connected with a line. \n",
    "A shaded area can indicate the region where the parameters meet the conditions.\n",
    "\n",
    "![Radar plot for physicochemical properties](images/radarplot.png)\n",
    "\n",
    "_Figure 2_: Radar plot displaying physico-chemical properties of a compound dataset\n"
   ]
  },
  {
   "cell_type": "markdown",
   "metadata": {},
   "source": [
    "## Practical"
   ]
  },
  {
   "cell_type": "code",
   "execution_count": 1,
   "metadata": {},
   "outputs": [],
   "source": [
    "from pathlib import Path\n",
    "import math\n",
    "\n",
    "import numpy as np\n",
    "import pandas as pd\n",
    "import matplotlib.pyplot as plt\n",
    "from matplotlib.lines import Line2D\n",
    "import matplotlib.patches as mpatches\n",
    "from rdkit import Chem\n",
    "from rdkit.Chem import Descriptors, Draw, PandasTools"
   ]
  },
  {
   "cell_type": "code",
   "execution_count": 2,
   "metadata": {},
   "outputs": [],
   "source": [
    "# Set path to this notebook\n",
    "HERE = Path(_dh[-1])\n",
    "DATA = HERE / \"data\""
   ]
  },
  {
   "cell_type": "markdown",
   "metadata": {},
   "source": [
    "### Define and visualize example molecules\n",
    "\n",
    "Before working with the whole dataset retrieved from ChEMBL, we pick four example compounds to investigate their chemical properties.\n",
    "We draw four example molecules from their SMILES."
   ]
  },
  {
   "cell_type": "code",
   "execution_count": 3,
   "metadata": {},
   "outputs": [],
   "source": [
    "smiles = [\n",
    "    \"CCC1C(=O)N(CC(=O)N(C(C(=O)NC(C(=O)N(C(C(=O)NC(C(=O)NC(C(=O)N(C(C(=O)N(C(C(=O)N(C(C(=O)N(C(C(=O)N1)C(C(C)CC=CC)O)C)C(C)C)C)CC(C)C)C)CC(C)C)C)C)C)CC(C)C)C)C(C)C)CC(C)C)C)C\",\n",
    "    \"CN1CCN(CC1)C2=C3C=CC=CC3=NC4=C(N2)C=C(C=C4)C\",\n",
    "    \"CC1=C(C(CCC1)(C)C)C=CC(=CC=CC(=CC=CC=C(C)C=CC=C(C)C=CC2=C(CCCC2(C)C)C)C)C\",\n",
    "    \"CCCCCC1=CC(=C(C(=C1)O)C2C=C(CCC2C(=C)C)C)O\",\n",
    "]\n",
    "names = [\"cyclosporine\", \"clozapine\", \"beta-carotene\", \"cannabidiol\"]"
   ]
  },
  {
   "cell_type": "markdown",
   "metadata": {},
   "source": [
    "First, we combine the names and SMILES of the molecules, together with their structure, in a DataFrame."
   ]
  },
  {
   "cell_type": "code",
   "execution_count": 4,
   "metadata": {},
   "outputs": [
    {
     "data": {
      "text/html": [
       "<div>\n",
       "<style scoped>\n",
       "    .dataframe tbody tr th:only-of-type {\n",
       "        vertical-align: middle;\n",
       "    }\n",
       "\n",
       "    .dataframe tbody tr th {\n",
       "        vertical-align: top;\n",
       "    }\n",
       "\n",
       "    .dataframe thead th {\n",
       "        text-align: right;\n",
       "    }\n",
       "</style>\n",
       "<table border=\"1\" class=\"dataframe\">\n",
       "  <thead>\n",
       "    <tr style=\"text-align: right;\">\n",
       "      <th></th>\n",
       "      <th>name</th>\n",
       "      <th>smiles</th>\n",
       "      <th>ROMol</th>\n",
       "    </tr>\n",
       "  </thead>\n",
       "  <tbody>\n",
       "    <tr>\n",
       "      <th>0</th>\n",
       "      <td>cyclosporine</td>\n",
       "      <td>CCC1C(=O)N(CC(=O)N(C(C(=O)NC(C(=O)N(C(C(=O)NC(...</td>\n",
       "      <td><img data-content=\"rdkit/molecule\" src=\"data:image/png;base64,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\" alt=\"Mol\"/></td>\n",
       "    </tr>\n",
       "    <tr>\n",
       "      <th>1</th>\n",
       "      <td>clozapine</td>\n",
       "      <td>CN1CCN(CC1)C2=C3C=CC=CC3=NC4=C(N2)C=C(C=C4)C</td>\n",
       "      <td><img data-content=\"rdkit/molecule\" src=\"data:image/png;base64,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\" alt=\"Mol\"/></td>\n",
       "    </tr>\n",
       "    <tr>\n",
       "      <th>2</th>\n",
       "      <td>beta-carotene</td>\n",
       "      <td>CC1=C(C(CCC1)(C)C)C=CC(=CC=CC(=CC=CC=C(C)C=CC=...</td>\n",
       "      <td><img data-content=\"rdkit/molecule\" src=\"data:image/png;base64,iVBORw0KGgoAAAANSUhEUgAAAMgAAADICAIAAAAiOjnJAAAABmJLR0QA/wD/AP+gvaeTAAASyElEQVR4nO3daVBTVxsH8OcmLKIIihisaCRg6wKWSlVEsA5WcGlQi6AiUjrioLUFxUrpJiBTNVPHFrXLoI5LaaUD6iCtW90K1A13wKqIoshaUAQhaiTJ++GZN5NBEpLICQSe3weHkXuWgT/n3nvuuSecUqkEQtobr6M7QLomChZhgoJFmKBgESYoWIQJChZhgoJFmKBgESYoWIQJChZhgoJFmKBgESYoWIQJChZhgoJFmKBgESYoWIQJChZhgoJFmKBgESYoWIQJChZhgoJFmKBgESYoWIQJChZhgoJFmKBgESYoWIQJChZhgoJFmKBgESYoWIQJChZhgoJFmKBgESYoWIQJChZhgoJFmKBgESYoWIQJChZhgoJFmKBgESYoWIQJChZhgoJFmKBgESYoWIQJChZhgoJFmKBgESYoWIQJChZhgoJFmKBgESYoWIQJChZhgoJFmKBgESYoWIQJChZhgoJFmKBgESYoWN2XUqlkV7nhwcrOzs7IyKisrGzH3hDjUCqVYWFhjo6OT548YdSE4cHasmXL3Llzz5w50469IcbBcVxJSUllZeWJEycYNWF4sOrq6gCgb9++7dcZYjwzZswAgEOHDjGq35SCtXDhwrFjx167ds1oLXZhGKw///yT0ZWWKQXr+vXrFy9eZHrJ2X24u7s7OjpWVlbm5+ezqN+UgkUn33bEcdz06dNB89mwpqYmMTExJiYmKCiosLBQ7waUBmlububxeHw+Xy6XG1aDAWxsbACgvr7eaC12bfv37wcAHx+fFv9fVlYWHR1tZWUFAGZmZgBgaWm5bt26Fy9e6F65gcGqra0FADs7O8OKG6C5uZnjOD6fr1AojNZo1/bkyRNLS0s+n19bW4v/c//+fVWkOI4Ti8W5ublxcXE8Hg8A3N3dr1y5omPlBgbr9u3bAODi4mJYcQPU1NQAQL9+/YzWYnfw7rvvAkBaWtq9e/eio6N79OgBADweTywWX7p0SXVYTk7O0KFDAcDc3DwhIaG5ubnNmg0MVl5eHgCMGTPGsOIGKCoqAoChQ4carcXuICEhAQcIc3NzAODz+aGhof/+++/LR9bX10dGRnIcBwCenp6tHqPOTO+LMgAAqKqqAgC86DEOunI3jFKpLC8vLy0traioKC8vf/DgQUVFxYMHD8rKyioqKmQyGcdxd+/e5TguODg4KSlp+PDhrdZjY2OTkpISFBS0ePHi8+fPe3h4JCYmrlq1is/na2xYL42NjcnJyQKBQCgUWllZpaSk6FuDyoYNG3bv3q3jwUeOHAGAqVOnGtxc9ySXyy0sLDTFDv9Qe/fufefOHR0rfPz4cUREBABwHHfmzBlNh+kRrIaGhvXr1/fv3x/7NGDAAPwiICCgoqJClxquXLkSHBz81VdfTZky5fjx4zj8isViXYqnpaUBwPz583XvMEHjxo0bO3bsrFmzoqKi1q9f/8svv5w6daqoqEgqld64cQMAhg8frm+du3fvBoBRo0ZpOkCnYDU0NCQnJzs4OGCSvLy8srKyFArF6tWr+/XrBwB9+vTRPnTl5ub6+/tj8V69euFfSWRkJBa3tbXVXryhoWHWrFkA4OPjY8wJji4PH/V6eXnpW/Dy5csAMHr0aE0HtBGshoYGiUSiurLx9vbOysrCb2VlZQGAp6enn58ffnfGjBllZWUtasjNzRWLxXiAtbV1dHT0zZs3IyMj8X8mTZo0depULcWxA3Z2dgCA//r4+Ny+fVvfHwRp1cGDB/Enr29BfHo9efJkTQdoC1ZGRobq8tzX1/fUqVPq383MzLS3t8fLuiVLluBvXX3oys3NxbtZHJ/i4uIePnyoKp6eno5nVRsbm/Dw8D59+gCAs7Ozahbu5UwnJiYOGjQIAKysrCQSiS43vUS7X3/9FQBCQ0P1Lbh3714AmDNnjqYDNAbr/v37ISEhHMd5e3ufOHGi1WOqq6vnzJmDv/h33nnH19dX9fXYsWPxazs7u6SkpMePH7daPCgoSDV0+fv779ixQ6lU1tbWJiQkYNTUh8mysjJvb29VixMmTLh165a+PxGibsuWLQDwySef6Ftw27ZtALB48WJNB2gM1smTJwFg/PjxbbaxZ88e1aXSypUr+/bta2trCwD29vYJCQl1dXXai6enp6tGvo0bN8bHx2NxjJR6psPDwwGgR48eixYtcnR0VA1ddNVlsKSkJABYvXq1vgW//fZbAIiNjdV0gMZg7du3DwACAwN1aaa6ujowMJDjuKNHj+7atQsA3NzcGhsbdexlVVXV7NmzMSiq662zZ8+2OEx9jm7MmDFz585V5a+oqEjHtjq5vLy8kydPvkoNOt6ho5iYGAD47rvv9G3liy++AIB169ZpOkBjsLZv3w4AERERujd2/vx55Suctn/77bcdO3bMnTv3woULWg7766+/hEIhDl1hYWE469GvX7+GhgZ9W+xsnj17NnLkSI7jIiMjnzx5onvB48ePP3jwoK6u7s6dO9bW1pGRkTr+ND788EMA2Llzp75dXbp0KQD8/PPPmg7QGKwNGzYAwKpVq/Rt0uDTtu5Uc3QA8P3330+bNm3w4MESiYRdi8bx4sULiURiaWkJAE5OTpoubdUdO3Zs3LhxAODq6jpgwICYmBicDnV2dv7777/bLP7ee+8BQGZmZm1trbu7e2Zmpo5dxdPF77//rukAjcH68ssvAWDt2rU6tqRi8GlbX4cPHxaLxTKZbPPmzQAQFRXFukXjKCgoGDNmDABoGbrkcvnevXvd3d3xr0sgELzxxhv4dWBg4OjRo7UXVyqV1dXVcXFxlpaWAoHAz8/vs88+w+KLFi1q9U6rBZxjOnr0qKYDNAbro48+AoCffvqpzTZaMPi0bbA1a9YAQHx8vNFaZA2HLhx7RCKR+lWXXC7Pysry8PBQRUoikTQ1Ncnl8pSUFJx8fu2118LDw1strlQqS0tLP/74Y1zIwHEcDpAODg5Lly5VFT9w4ICmvsnl8oyMDDs7O3Nzc7z4aZXGYM2fPx8A0tLS9PyZGH7aNtiKFSvwnGi0Fo2joKDg7bffVo099fX16enpI0aMwEgJhcLk5GSpVKpepLi4+J133sED/P3933rrLQDYuHEjfheXW6kiJRaLL168WFJSoppunD59upeXF34dHBz86NEj9crlcnlaWpqrqyse8MMPP2jpvMZg4YT4kSNH9P1x4LMX3c/Wrw6nIXbt2mW0Fo1GJpMlJCTgQ1XVxJ5IJNq6devz589bLYJDV8+ePQFg8ODBK1asaG5uLikpiY6OxsEJl1tdvnxZVUShUKSkpFhbW+PQFRYWhuH7+uuvVXW+nOmnT59q6bnGYOEloZaxThP8i8nOzta3oMFmzpwJAFpGb1OXn58/aNAgR0dHBweH5OTkZ8+etVnk+vXr+BvkOM7NzQ1XGJuZmYWFhd28ebPVIiUlJZMnT8boTJ069f33329sbMRIDRs2DP9/yJAhbUYKaQwWrhjMz89vs4oWRo0a9XLBhw8fFhQUHDx4cNu2bZs3b9a3Tu0mTpwIADk5Oe1bbacSGhqq7wWG6h5z/Pjx5ubmWiKl0mLoWrZsmbOzM0Zq6NChO3bskMlkOrauMVipqak2NjYikUjfsWfgwIE43RAWFubr6zts2DDVtCeytbXVq8I2ubm5AUBBQUH7Vtup4LxASEiIra1tcnKy7gVv375dWlp69+5d3YvcvXsXn87hExFnZ+eUlBS93qRQagnWjRs38BfG5/NjY2N1Gf3OnDkjFostLCxwclxd7969R44c6efnFx4eHh8f377Pj/HxzssrI7qSCRMmAAA+Wm33If9lcrkczzyxsbGGPTHTtrpBJpNJJBK8cnRxcdEydGVnZ6vuLHCt6rx583bu3Hn06NHr16+znhPHC9WmpiamrXQsvHAOCAgAgNTUVCO0iLeHp0+fNqx42wv9rl69inetPB4vMjKyxe9PfbkVro2Jj4/HeTbDOqSv58+f42VpTU2NcVrsEPjkasqUKfD/9+JZw8Xvbb40oYlOK0jxpheHopEjR+KtYm5uruomAiOF0x74yvaAAQOM8wKgQqHAx5oCgWDv3r1GaLFD4P2/p6fnq4wiesEFw1VVVYYV12PN+7lz53BANjMzc3JywkjZ29uvXbu2xdvJQ4YMAQDcZ8EI1Kf4goODu97QJZVKAcDKyuoVRxG94KSXLlMbrdLvLZ2nT5/iAyZXV1dcbtXqcyV89J2UlGRYnwywbNmyxYsX432yQCDYt2+f0Zo2gvLycgAYOHAgjiKVlZWsW2xqagKAnj17GlyDIS+slpeXFxcXa7lYPnDgABi0RN8w2dnZOFxNmzbNx8dHNXSp3hw3dbgnh6ur67x58yZNmqTLHforKisrAwBHR0eDazDwTWjtGhsbe/TowePxqqurWdT/svT0dNWi+4ULF6qm+Pbv32+cDrCjUCgkEgm0tnsHOwUFBQDg5uZmcA1MgqX8/6NG49wYo4qKCrwbBwBfX198oAEAe/bsMVof2pdCocjKysK3B4RCodGuWZVKZU5ODgBMnDjR4BpY7ZqMey8dPnyYUf0vw8UeW7dutbGxOXXqFJ/Px6cTqampCoXCaN1oFwqFIiMjw93dfebMmRcuXBg4cGBMTAzOWBrHo0eP4BU3NGjHmKvD7WgEAoHxdx26d++ev79/dnY2bgncq1cvI3fgVeByK1ypBwAODg4SiaTF2hgjyMnJ8fPze5UlbqyCpVQqDxw40GJBj5GVlpYCwKBBgzqwD7rDdQSqPTl0WZrSmTEMVofDbXC17C/QqaSmpmKkXFxctm/frvs6gs7JwG2MTIIJ7XxUVFQUERFha2u7adOm0NBQXD5l0rryR56YULDq6upkMtnw4cPffPNNnA41dSb/l6GFCQUL78J69erl4eEhEAiqq6s7ukevikasTgG7iisiTaLDbaJgdQrYVVzCYBIdblN3CdahQ4devHjR0T3SCLuKayopWJ3ao0ePcnNzAeDhw4enT58OCAjw8PC4dOmSvvXgNuCsYbBwxRsFq5Oqra1NTEx0cXHJz8/H3bk2bNjg5ORUWFjo5eWVlJTU5tD1zz//VFRUNDU13bp1SyQSLVmyBFdEsYPBQl0jWF1qgrSqqmrVqlX4njgA+Pv7h4WF4TAwYsSIDz74AD9hYdSoUeq746s7duzY+PHj8RiRSPTpp5+2WDernVQqxfdEampqPD09ddnVA+EuTiEhIaD2mqhJ6yLBwi0u8K0KAJgyZcq5c+fwW+fPn1ctfF2wYIFIJAIACwuLLVu2qIorFIrMzEx8nx0A7O3tcYksj8ebN28evq5pZmYWFxenaUXlf//9l5CQYG9vP3v27ODg4OXLl2PxqKgoXd7ymDRpEgBs2rQpMTFRl11iOj+TD1ZVVVVcXJz6x7/k5eW1OAYXvrYYunCBPC5Nwd1dAKB///64x4b6thxOTk4hISFY3NXVtUX95eXly5cvV3UAL8CFQmFERISmbTnUYaZxMdnVq1dZ/Ig6hMkHy9vbG8eGoKCga9euaTny7Nmz+IjXzMxs0aJFUqn05W1bWqwjyM/PxwM4jps9ezZuFaTafaS0tLTFRxrl5eUVFxfjm9kAEBAQgDsN4a4eLbY4bLEV0datW7vSdr0mH6w//vgjJCSksLBQl4OlUunKlSvxSkt1jSwUCn/88UdN57gWOwpFRUXJ5fKXP9JIfRWeXC5PTk7GlxGEQuHChQvx2d+aNWtUB6hnuqPWxjBl8sEyAA5dCxYs0H2Li0uXLuE6Oz6fP3r0aNVHGmnJtPq2HIGBgWKxGHexanMroq6hOwZLqVTKZDKpVKrX0hR8L9zCwsLDw4PH4wUHB9+4cUN7EfWtH4cMGRIbG/v6669jpLRvRdQFdNNgGaywsLC4uLi4uFivIrhuHa/QRSJRSkqKqS+3ahOnpM/uZq+5udnNze3WrVuff/75N998o/Gj2LqQLjjz3gmZmZnhG2lBQUHdIVVAwTIaE1pq0S4oWEbS3YJF11jGoFAocIZCJpPRqZC0m/r6eoVCYWNj001SBRQs4+hu50GgYBkHBgvnsboJCpYx0IhFmKBgESasra19fHyMuV1Mh6PpBsIEjViECQoWYYKCRZigYBEmKFiECQoWYYKCRZigYBEmKFiECQoWYYKCRZigYBEmKFiECQoWYYKCRZigYBEmKFiECQoWYYKCRZigYBEmKFiECQoWYYKCRZigYBEmKFiECQoWYYKCRZigYBEmKFiECQoWYYKCRZigYBEmKFiECQoWYYKCRZigYBEmKFiECQoWYYKCRZigYBEmKFiECQoWYYKCRZigYBEmKFiECQoWYYKCRZigYBEmKFiECQoWYYKCRZigYBEmKFiECQoWYYKCRZigYBEmKFiECQoWYYKCRZigYBEmKFiECQoWYYKCRZigYBEmKFiEif8BMFatLJL7jYMAAAAASUVORK5CYII=\" alt=\"Mol\"/></td>\n",
       "    </tr>\n",
       "    <tr>\n",
       "      <th>3</th>\n",
       "      <td>cannabidiol</td>\n",
       "      <td>CCCCCC1=CC(=C(C(=C1)O)C2C=C(CCC2C(=C)C)C)O</td>\n",
       "      <td><img data-content=\"rdkit/molecule\" src=\"data:image/png;base64,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\" alt=\"Mol\"/></td>\n",
       "    </tr>\n",
       "  </tbody>\n",
       "</table>\n",
       "</div>"
      ],
      "text/plain": [
       "            name                                             smiles  \\\n",
       "0   cyclosporine  CCC1C(=O)N(CC(=O)N(C(C(=O)NC(C(=O)N(C(C(=O)NC(...   \n",
       "1      clozapine       CN1CCN(CC1)C2=C3C=CC=CC3=NC4=C(N2)C=C(C=C4)C   \n",
       "2  beta-carotene  CC1=C(C(CCC1)(C)C)C=CC(=CC=CC(=CC=CC=C(C)C=CC=...   \n",
       "3    cannabidiol         CCCCCC1=CC(=C(C(=C1)O)C2C=C(CCC2C(=C)C)C)O   \n",
       "\n",
       "                                               ROMol  \n",
       "0  <img data-content=\"rdkit/molecule\" src=\"data:i...  \n",
       "1  <img data-content=\"rdkit/molecule\" src=\"data:i...  \n",
       "2  <img data-content=\"rdkit/molecule\" src=\"data:i...  \n",
       "3  <img data-content=\"rdkit/molecule\" src=\"data:i...  "
      ]
     },
     "execution_count": 4,
     "metadata": {},
     "output_type": "execute_result"
    }
   ],
   "source": [
    "molecules = pd.DataFrame({\"name\": names, \"smiles\": smiles})\n",
    "PandasTools.AddMoleculeColumnToFrame(molecules, \"smiles\")\n",
    "molecules"
   ]
  },
  {
   "cell_type": "markdown",
   "metadata": {},
   "source": [
    "### Calculate and plot molecular properties for Ro5\n",
    "\n",
    "1. Calculate molecular weight, number of hydrogen bond acceptors and donors, and logP using some of the [descriptors](http://www.rdkit.org/docs/GettingStartedInPython.html#descriptor-calculation) available in `rdkit`."
   ]
  },
  {
   "cell_type": "code",
   "execution_count": 16,
   "metadata": {},
   "outputs": [
    {
     "data": {
      "text/html": [
       "<div>\n",
       "<style scoped>\n",
       "    .dataframe tbody tr th:only-of-type {\n",
       "        vertical-align: middle;\n",
       "    }\n",
       "\n",
       "    .dataframe tbody tr th {\n",
       "        vertical-align: top;\n",
       "    }\n",
       "\n",
       "    .dataframe thead th {\n",
       "        text-align: right;\n",
       "    }\n",
       "</style>\n",
       "<table border=\"1\" class=\"dataframe\">\n",
       "  <thead>\n",
       "    <tr style=\"text-align: right;\">\n",
       "      <th></th>\n",
       "      <th>molecular_weight</th>\n",
       "      <th>n_hba</th>\n",
       "      <th>n_hbd</th>\n",
       "      <th>logp</th>\n",
       "    </tr>\n",
       "  </thead>\n",
       "  <tbody>\n",
       "    <tr>\n",
       "      <th>0</th>\n",
       "      <td>1201.841368</td>\n",
       "      <td>12</td>\n",
       "      <td>5</td>\n",
       "      <td>3.26900</td>\n",
       "    </tr>\n",
       "    <tr>\n",
       "      <th>1</th>\n",
       "      <td>306.184447</td>\n",
       "      <td>4</td>\n",
       "      <td>1</td>\n",
       "      <td>1.68492</td>\n",
       "    </tr>\n",
       "    <tr>\n",
       "      <th>2</th>\n",
       "      <td>536.438202</td>\n",
       "      <td>0</td>\n",
       "      <td>0</td>\n",
       "      <td>12.60580</td>\n",
       "    </tr>\n",
       "    <tr>\n",
       "      <th>3</th>\n",
       "      <td>314.224580</td>\n",
       "      <td>2</td>\n",
       "      <td>2</td>\n",
       "      <td>5.84650</td>\n",
       "    </tr>\n",
       "  </tbody>\n",
       "</table>\n",
       "</div>"
      ],
      "text/plain": [
       "   molecular_weight  n_hba  n_hbd      logp\n",
       "0       1201.841368     12      5   3.26900\n",
       "1        306.184447      4      1   1.68492\n",
       "2        536.438202      0      0  12.60580\n",
       "3        314.224580      2      2   5.84650"
      ]
     },
     "execution_count": 16,
     "metadata": {},
     "output_type": "execute_result"
    }
   ],
   "source": [
    "molecules[\"molecular_weight\"] = molecules[\"ROMol\"].apply(Descriptors.ExactMolWt)\n",
    "molecules[\"n_hba\"] = molecules[\"ROMol\"].apply(Descriptors.NumHAcceptors)\n",
    "molecules[\"n_hbd\"] = molecules[\"ROMol\"].apply(Descriptors.NumHDonors)\n",
    "molecules[\"logp\"] = molecules[\"ROMol\"].apply(Descriptors.MolLogP)\n",
    "# Colors are used for plotting the molecules later\n",
    "molecules[\"color\"] = [\"red\", \"green\", \"blue\", \"cyan\"]\n",
    "# NBVAL_CHECK_OUTPUT\n",
    "molecules[[\"molecular_weight\", \"n_hba\", \"n_hbd\", \"logp\"]]"
   ]
  },
  {
   "cell_type": "code",
   "execution_count": 8,
   "metadata": {},
   "outputs": [
    {
     "data": {
      "text/html": [
       "<div>\n",
       "<style scoped>\n",
       "    .dataframe tbody tr th:only-of-type {\n",
       "        vertical-align: middle;\n",
       "    }\n",
       "\n",
       "    .dataframe tbody tr th {\n",
       "        vertical-align: top;\n",
       "    }\n",
       "\n",
       "    .dataframe thead th {\n",
       "        text-align: right;\n",
       "    }\n",
       "</style>\n",
       "<table border=\"1\" class=\"dataframe\">\n",
       "  <thead>\n",
       "    <tr style=\"text-align: right;\">\n",
       "      <th></th>\n",
       "      <th>name</th>\n",
       "      <th>smiles</th>\n",
       "      <th>ROMol</th>\n",
       "      <th>molecular_weight</th>\n",
       "      <th>n_hba</th>\n",
       "      <th>n_hbd</th>\n",
       "      <th>logp</th>\n",
       "      <th>color</th>\n",
       "    </tr>\n",
       "  </thead>\n",
       "  <tbody>\n",
       "    <tr>\n",
       "      <th>0</th>\n",
       "      <td>cyclosporine</td>\n",
       "      <td>CCC1C(=O)N(CC(=O)N(C(C(=O)NC(C(=O)N(C(C(=O)NC(...</td>\n",
       "      <td><img data-content=\"rdkit/molecule\" src=\"data:image/png;base64,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\" alt=\"Mol\"/></td>\n",
       "      <td>1201.841368</td>\n",
       "      <td>12</td>\n",
       "      <td>5</td>\n",
       "      <td>3.26900</td>\n",
       "      <td>red</td>\n",
       "    </tr>\n",
       "    <tr>\n",
       "      <th>1</th>\n",
       "      <td>clozapine</td>\n",
       "      <td>CN1CCN(CC1)C2=C3C=CC=CC3=NC4=C(N2)C=C(C=C4)C</td>\n",
       "      <td><img data-content=\"rdkit/molecule\" src=\"data:image/png;base64,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\" alt=\"Mol\"/></td>\n",
       "      <td>306.184447</td>\n",
       "      <td>4</td>\n",
       "      <td>1</td>\n",
       "      <td>1.68492</td>\n",
       "      <td>green</td>\n",
       "    </tr>\n",
       "    <tr>\n",
       "      <th>2</th>\n",
       "      <td>beta-carotene</td>\n",
       "      <td>CC1=C(C(CCC1)(C)C)C=CC(=CC=CC(=CC=CC=C(C)C=CC=...</td>\n",
       "      <td><img data-content=\"rdkit/molecule\" src=\"data:image/png;base64,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\" alt=\"Mol\"/></td>\n",
       "      <td>536.438202</td>\n",
       "      <td>0</td>\n",
       "      <td>0</td>\n",
       "      <td>12.60580</td>\n",
       "      <td>blue</td>\n",
       "    </tr>\n",
       "    <tr>\n",
       "      <th>3</th>\n",
       "      <td>cannabidiol</td>\n",
       "      <td>CCCCCC1=CC(=C(C(=C1)O)C2C=C(CCC2C(=C)C)C)O</td>\n",
       "      <td><img data-content=\"rdkit/molecule\" src=\"data:image/png;base64,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\" alt=\"Mol\"/></td>\n",
       "      <td>314.224580</td>\n",
       "      <td>2</td>\n",
       "      <td>2</td>\n",
       "      <td>5.84650</td>\n",
       "      <td>cyan</td>\n",
       "    </tr>\n",
       "  </tbody>\n",
       "</table>\n",
       "</div>"
      ],
      "text/plain": [
       "            name                                             smiles  \\\n",
       "0   cyclosporine  CCC1C(=O)N(CC(=O)N(C(C(=O)NC(C(=O)N(C(C(=O)NC(...   \n",
       "1      clozapine       CN1CCN(CC1)C2=C3C=CC=CC3=NC4=C(N2)C=C(C=C4)C   \n",
       "2  beta-carotene  CC1=C(C(CCC1)(C)C)C=CC(=CC=CC(=CC=CC=C(C)C=CC=...   \n",
       "3    cannabidiol         CCCCCC1=CC(=C(C(=C1)O)C2C=C(CCC2C(=C)C)C)O   \n",
       "\n",
       "                                               ROMol  molecular_weight  n_hba  \\\n",
       "0  <img data-content=\"rdkit/molecule\" src=\"data:i...       1201.841368     12   \n",
       "1  <img data-content=\"rdkit/molecule\" src=\"data:i...        306.184447      4   \n",
       "2  <img data-content=\"rdkit/molecule\" src=\"data:i...        536.438202      0   \n",
       "3  <img data-content=\"rdkit/molecule\" src=\"data:i...        314.224580      2   \n",
       "\n",
       "   n_hbd      logp  color  \n",
       "0      5   3.26900    red  \n",
       "1      1   1.68492  green  \n",
       "2      0  12.60580   blue  \n",
       "3      2   5.84650   cyan  "
      ]
     },
     "execution_count": 8,
     "metadata": {},
     "output_type": "execute_result"
    }
   ],
   "source": [
    "# Full preview\n",
    "molecules"
   ]
  },
  {
   "cell_type": "markdown",
   "metadata": {},
   "source": [
    "2. Plot the molecule properties as bar plots."
   ]
  },
  {
   "cell_type": "code",
   "execution_count": 14,
   "metadata": {},
   "outputs": [],
   "source": [
    "ro5_properties = {\n",
    "    \"molecular_weight\": (500, \"molecular weight (Da)\"),\n",
    "    \"n_hba\": (10, \"# HBA\"),\n",
    "    \"n_hbd\": (5, \"# HBD\"),\n",
    "    \"logp\": (5, \"logP\"),\n",
    "}"
   ]
  },
  {
   "cell_type": "code",
   "execution_count": 15,
   "metadata": {},
   "outputs": [
    {
     "data": {
      "image/png": "[encoded data removed]",
      "text/plain": [
       "<Figure size 720x180 with 4 Axes>"
      ]
     },
     "metadata": {
      "needs_background": "light"
     },
     "output_type": "display_data"
    }
   ],
   "source": [
    "# Start 1x4 plot frame\n",
    "fig, axes = plt.subplots(figsize=(10, 2.5), nrows=1, ncols=4)\n",
    "x = np.arange(1, len(molecules) + 1)\n",
    "colors = [\"red\", \"green\", \"blue\", \"cyan\"]\n",
    "\n",
    "# Create subplots\n",
    "for index, (key, (threshold, title)) in enumerate(ro5_properties.items()):\n",
    "    axes[index].bar([1, 2, 3, 4], molecules[key], color=colors)\n",
    "    axes[index].axhline(y=threshold, color=\"black\", linestyle=\"dashed\")\n",
    "    axes[index].set_title(title)\n",
    "    axes[index].set_xticks([])\n",
    "\n",
    "# Add legend\n",
    "legend_elements = [\n",
    "    mpatches.Patch(color=row[\"color\"], label=row[\"name\"]) for index, row in molecules.iterrows()\n",
    "]\n",
    "legend_elements.append(Line2D([0], [0], color=\"black\", ls=\"dashed\", label=\"Threshold\"))\n",
    "fig.legend(handles=legend_elements, bbox_to_anchor=(1.2, 0.8))\n",
    "\n",
    "# Fit subplots and legend into figure\n",
    "plt.tight_layout()\n",
    "plt.show()"
   ]
  },
  {
   "cell_type": "markdown",
   "metadata": {},
   "source": [
    "In the bar chart, we compared the Ro5 properties for four example molecules with different properties. In the next steps, we will investigate for each compound whether it violates the Ro5."
   ]
  },
  {
   "cell_type": "markdown",
   "metadata": {},
   "source": [
    "### Investigate compliance with Ro5"
   ]
  },
  {
   "cell_type": "code",
   "execution_count": 8,
   "metadata": {},
   "outputs": [],
   "source": [
    "def calculate_ro5_properties(smiles):\n",
    "    \"\"\"\n",
    "    Test if input molecule (SMILES) fulfills Lipinski's rule of five.\n",
    "\n",
    "    Parameters\n",
    "    ----------\n",
    "    smiles : str\n",
    "        SMILES for a molecule.\n",
    "\n",
    "    Returns\n",
    "    -------\n",
    "    pandas.Series\n",
    "        Molecular weight, number of hydrogen bond acceptors/donor and logP value\n",
    "        and Lipinski's rule of five compliance for input molecule.\n",
    "    \"\"\"\n",
    "    # RDKit molecule from SMILES\n",
    "    molecule = Chem.MolFromSmiles(smiles)\n",
    "    # Calculate Ro5-relevant chemical properties\n",
    "    molecular_weight = Descriptors.ExactMolWt(molecule)\n",
    "    n_hba = Descriptors.NumHAcceptors(molecule)\n",
    "    n_hbd = Descriptors.NumHDonors(molecule)\n",
    "    logp = Descriptors.MolLogP(molecule)\n",
    "    # Check if Ro5 conditions fulfilled\n",
    "    conditions = [molecular_weight <= 500, n_hba <= 10, n_hbd <= 5, logp <= 5]\n",
    "    ro5_fulfilled = sum(conditions) >= 3\n",
    "    # Return True if no more than one out of four conditions is violated\n",
    "    return pd.Series(\n",
    "        [molecular_weight, n_hba, n_hbd, logp, ro5_fulfilled],\n",
    "        index=[\"molecular_weight\", \"n_hba\", \"n_hbd\", \"logp\", \"ro5_fulfilled\"],\n",
    "    )"
   ]
  },
  {
   "cell_type": "code",
   "execution_count": 9,
   "metadata": {},
   "outputs": [
    {
     "name": "stdout",
     "output_type": "stream",
     "text": [
      "Ro5 fulfilled for cyclosporine: False\n",
      "Ro5 fulfilled for clozapine: True\n",
      "Ro5 fulfilled for beta-carotene: False\n",
      "Ro5 fulfilled for cannabidiol: True\n"
     ]
    }
   ],
   "source": [
    "# NBVAL_CHECK_OUTPUT\n",
    "for name, smiles in zip(molecules[\"name\"], molecules[\"smiles\"]):\n",
    "    print(f\"Ro5 fulfilled for {name}: {calculate_ro5_properties(smiles)['ro5_fulfilled']}\")"
   ]
  },
  {
   "cell_type": "markdown",
   "metadata": {},
   "source": [
    "According to the Ro5, cyclosporin and betacarotene are estimated to have poor bioavailability. However, since all of them are approved drugs, they are good examples of how the Ro5 can be used as an alert but should not necessarily be used as a filter."
   ]
  },
  {
   "cell_type": "markdown",
   "metadata": {},
   "source": [
    "### Apply Ro5 to the EGFR dataset\n",
    "\n",
    "The `calculate_ro5_properties` function can be applied to the EGFR dataset for Ro5-compliant compounds."
   ]
  },
  {
   "cell_type": "code",
   "execution_count": 10,
   "metadata": {
    "scrolled": true
   },
   "outputs": [
    {
     "name": "stdout",
     "output_type": "stream",
     "text": [
      "(5444, 5)\n"
     ]
    },
    {
     "data": {
      "text/html": [
       "<div>\n",
       "<style scoped>\n",
       "    .dataframe tbody tr th:only-of-type {\n",
       "        vertical-align: middle;\n",
       "    }\n",
       "\n",
       "    .dataframe tbody tr th {\n",
       "        vertical-align: top;\n",
       "    }\n",
       "\n",
       "    .dataframe thead th {\n",
       "        text-align: right;\n",
       "    }\n",
       "</style>\n",
       "<table border=\"1\" class=\"dataframe\">\n",
       "  <thead>\n",
       "    <tr style=\"text-align: right;\">\n",
       "      <th></th>\n",
       "      <th>molecule_chembl_id</th>\n",
       "      <th>IC50</th>\n",
       "      <th>units</th>\n",
       "      <th>smiles</th>\n",
       "      <th>pIC50</th>\n",
       "    </tr>\n",
       "  </thead>\n",
       "  <tbody>\n",
       "    <tr>\n",
       "      <th>0</th>\n",
       "      <td>CHEMBL63786</td>\n",
       "      <td>0.003</td>\n",
       "      <td>nM</td>\n",
       "      <td>Brc1cccc(Nc2ncnc3cc4ccccc4cc23)c1</td>\n",
       "      <td>11.522879</td>\n",
       "    </tr>\n",
       "    <tr>\n",
       "      <th>1</th>\n",
       "      <td>CHEMBL35820</td>\n",
       "      <td>0.006</td>\n",
       "      <td>nM</td>\n",
       "      <td>CCOc1cc2ncnc(Nc3cccc(Br)c3)c2cc1OCC</td>\n",
       "      <td>11.221849</td>\n",
       "    </tr>\n",
       "    <tr>\n",
       "      <th>2</th>\n",
       "      <td>CHEMBL53711</td>\n",
       "      <td>0.006</td>\n",
       "      <td>nM</td>\n",
       "      <td>CN(C)c1cc2c(Nc3cccc(Br)c3)ncnc2cn1</td>\n",
       "      <td>11.221849</td>\n",
       "    </tr>\n",
       "    <tr>\n",
       "      <th>3</th>\n",
       "      <td>CHEMBL53753</td>\n",
       "      <td>0.008</td>\n",
       "      <td>nM</td>\n",
       "      <td>CNc1cc2c(Nc3cccc(Br)c3)ncnc2cn1</td>\n",
       "      <td>11.096910</td>\n",
       "    </tr>\n",
       "    <tr>\n",
       "      <th>4</th>\n",
       "      <td>CHEMBL66031</td>\n",
       "      <td>0.008</td>\n",
       "      <td>nM</td>\n",
       "      <td>Brc1cccc(Nc2ncnc3cc4[nH]cnc4cc23)c1</td>\n",
       "      <td>11.096910</td>\n",
       "    </tr>\n",
       "  </tbody>\n",
       "</table>\n",
       "</div>"
      ],
      "text/plain": [
       "  molecule_chembl_id   IC50 units                               smiles  \\\n",
       "0        CHEMBL63786  0.003    nM    Brc1cccc(Nc2ncnc3cc4ccccc4cc23)c1   \n",
       "1        CHEMBL35820  0.006    nM  CCOc1cc2ncnc(Nc3cccc(Br)c3)c2cc1OCC   \n",
       "2        CHEMBL53711  0.006    nM   CN(C)c1cc2c(Nc3cccc(Br)c3)ncnc2cn1   \n",
       "3        CHEMBL53753  0.008    nM      CNc1cc2c(Nc3cccc(Br)c3)ncnc2cn1   \n",
       "4        CHEMBL66031  0.008    nM  Brc1cccc(Nc2ncnc3cc4[nH]cnc4cc23)c1   \n",
       "\n",
       "       pIC50  \n",
       "0  11.522879  \n",
       "1  11.221849  \n",
       "2  11.221849  \n",
       "3  11.096910  \n",
       "4  11.096910  "
      ]
     },
     "execution_count": 10,
     "metadata": {},
     "output_type": "execute_result"
    }
   ],
   "source": [
    "molecules = pd.read_csv(HERE / \"../T001_query_chembl/data/EGFR_compounds.csv\", index_col=0)\n",
    "print(molecules.shape)\n",
    "molecules.head()"
   ]
  },
  {
   "cell_type": "markdown",
   "metadata": {},
   "source": [
    "Apply the Ro5 to all molecules."
   ]
  },
  {
   "cell_type": "code",
   "execution_count": 11,
   "metadata": {},
   "outputs": [
    {
     "data": {
      "text/html": [
       "<div>\n",
       "<style scoped>\n",
       "    .dataframe tbody tr th:only-of-type {\n",
       "        vertical-align: middle;\n",
       "    }\n",
       "\n",
       "    .dataframe tbody tr th {\n",
       "        vertical-align: top;\n",
       "    }\n",
       "\n",
       "    .dataframe thead th {\n",
       "        text-align: right;\n",
       "    }\n",
       "</style>\n",
       "<table border=\"1\" class=\"dataframe\">\n",
       "  <thead>\n",
       "    <tr style=\"text-align: right;\">\n",
       "      <th></th>\n",
       "      <th>molecular_weight</th>\n",
       "      <th>n_hba</th>\n",
       "      <th>n_hbd</th>\n",
       "      <th>logp</th>\n",
       "      <th>ro5_fulfilled</th>\n",
       "    </tr>\n",
       "  </thead>\n",
       "  <tbody>\n",
       "    <tr>\n",
       "      <th>0</th>\n",
       "      <td>349.021459</td>\n",
       "      <td>3</td>\n",
       "      <td>1</td>\n",
       "      <td>5.2891</td>\n",
       "      <td>True</td>\n",
       "    </tr>\n",
       "    <tr>\n",
       "      <th>1</th>\n",
       "      <td>387.058239</td>\n",
       "      <td>5</td>\n",
       "      <td>1</td>\n",
       "      <td>4.9333</td>\n",
       "      <td>True</td>\n",
       "    </tr>\n",
       "    <tr>\n",
       "      <th>2</th>\n",
       "      <td>343.043258</td>\n",
       "      <td>5</td>\n",
       "      <td>1</td>\n",
       "      <td>3.5969</td>\n",
       "      <td>True</td>\n",
       "    </tr>\n",
       "    <tr>\n",
       "      <th>3</th>\n",
       "      <td>329.027607</td>\n",
       "      <td>5</td>\n",
       "      <td>2</td>\n",
       "      <td>3.5726</td>\n",
       "      <td>True</td>\n",
       "    </tr>\n",
       "    <tr>\n",
       "      <th>4</th>\n",
       "      <td>339.011957</td>\n",
       "      <td>4</td>\n",
       "      <td>2</td>\n",
       "      <td>4.0122</td>\n",
       "      <td>True</td>\n",
       "    </tr>\n",
       "  </tbody>\n",
       "</table>\n",
       "</div>"
      ],
      "text/plain": [
       "   molecular_weight  n_hba  n_hbd    logp  ro5_fulfilled\n",
       "0        349.021459      3      1  5.2891           True\n",
       "1        387.058239      5      1  4.9333           True\n",
       "2        343.043258      5      1  3.5969           True\n",
       "3        329.027607      5      2  3.5726           True\n",
       "4        339.011957      4      2  4.0122           True"
      ]
     },
     "execution_count": 11,
     "metadata": {},
     "output_type": "execute_result"
    }
   ],
   "source": [
    "# This takes a couple of seconds\n",
    "ro5_properties = molecules[\"smiles\"].apply(calculate_ro5_properties)\n",
    "ro5_properties.head()"
   ]
  },
  {
   "cell_type": "markdown",
   "metadata": {},
   "source": [
    "Concatenate molecules with Ro5 data."
   ]
  },
  {
   "cell_type": "code",
   "execution_count": 12,
   "metadata": {},
   "outputs": [
    {
     "data": {
      "text/html": [
       "<div>\n",
       "<style scoped>\n",
       "    .dataframe tbody tr th:only-of-type {\n",
       "        vertical-align: middle;\n",
       "    }\n",
       "\n",
       "    .dataframe tbody tr th {\n",
       "        vertical-align: top;\n",
       "    }\n",
       "\n",
       "    .dataframe thead th {\n",
       "        text-align: right;\n",
       "    }\n",
       "</style>\n",
       "<table border=\"1\" class=\"dataframe\">\n",
       "  <thead>\n",
       "    <tr style=\"text-align: right;\">\n",
       "      <th></th>\n",
       "      <th>molecule_chembl_id</th>\n",
       "      <th>IC50</th>\n",
       "      <th>units</th>\n",
       "      <th>smiles</th>\n",
       "      <th>pIC50</th>\n",
       "      <th>molecular_weight</th>\n",
       "      <th>n_hba</th>\n",
       "      <th>n_hbd</th>\n",
       "      <th>logp</th>\n",
       "      <th>ro5_fulfilled</th>\n",
       "    </tr>\n",
       "  </thead>\n",
       "  <tbody>\n",
       "    <tr>\n",
       "      <th>0</th>\n",
       "      <td>CHEMBL63786</td>\n",
       "      <td>0.003</td>\n",
       "      <td>nM</td>\n",
       "      <td>Brc1cccc(Nc2ncnc3cc4ccccc4cc23)c1</td>\n",
       "      <td>11.522879</td>\n",
       "      <td>349.021459</td>\n",
       "      <td>3</td>\n",
       "      <td>1</td>\n",
       "      <td>5.2891</td>\n",
       "      <td>True</td>\n",
       "    </tr>\n",
       "    <tr>\n",
       "      <th>1</th>\n",
       "      <td>CHEMBL35820</td>\n",
       "      <td>0.006</td>\n",
       "      <td>nM</td>\n",
       "      <td>CCOc1cc2ncnc(Nc3cccc(Br)c3)c2cc1OCC</td>\n",
       "      <td>11.221849</td>\n",
       "      <td>387.058239</td>\n",
       "      <td>5</td>\n",
       "      <td>1</td>\n",
       "      <td>4.9333</td>\n",
       "      <td>True</td>\n",
       "    </tr>\n",
       "    <tr>\n",
       "      <th>2</th>\n",
       "      <td>CHEMBL53711</td>\n",
       "      <td>0.006</td>\n",
       "      <td>nM</td>\n",
       "      <td>CN(C)c1cc2c(Nc3cccc(Br)c3)ncnc2cn1</td>\n",
       "      <td>11.221849</td>\n",
       "      <td>343.043258</td>\n",
       "      <td>5</td>\n",
       "      <td>1</td>\n",
       "      <td>3.5969</td>\n",
       "      <td>True</td>\n",
       "    </tr>\n",
       "    <tr>\n",
       "      <th>3</th>\n",
       "      <td>CHEMBL53753</td>\n",
       "      <td>0.008</td>\n",
       "      <td>nM</td>\n",
       "      <td>CNc1cc2c(Nc3cccc(Br)c3)ncnc2cn1</td>\n",
       "      <td>11.096910</td>\n",
       "      <td>329.027607</td>\n",
       "      <td>5</td>\n",
       "      <td>2</td>\n",
       "      <td>3.5726</td>\n",
       "      <td>True</td>\n",
       "    </tr>\n",
       "    <tr>\n",
       "      <th>4</th>\n",
       "      <td>CHEMBL66031</td>\n",
       "      <td>0.008</td>\n",
       "      <td>nM</td>\n",
       "      <td>Brc1cccc(Nc2ncnc3cc4[nH]cnc4cc23)c1</td>\n",
       "      <td>11.096910</td>\n",
       "      <td>339.011957</td>\n",
       "      <td>4</td>\n",
       "      <td>2</td>\n",
       "      <td>4.0122</td>\n",
       "      <td>True</td>\n",
       "    </tr>\n",
       "  </tbody>\n",
       "</table>\n",
       "</div>"
      ],
      "text/plain": [
       "  molecule_chembl_id   IC50 units                               smiles  \\\n",
       "0        CHEMBL63786  0.003    nM    Brc1cccc(Nc2ncnc3cc4ccccc4cc23)c1   \n",
       "1        CHEMBL35820  0.006    nM  CCOc1cc2ncnc(Nc3cccc(Br)c3)c2cc1OCC   \n",
       "2        CHEMBL53711  0.006    nM   CN(C)c1cc2c(Nc3cccc(Br)c3)ncnc2cn1   \n",
       "3        CHEMBL53753  0.008    nM      CNc1cc2c(Nc3cccc(Br)c3)ncnc2cn1   \n",
       "4        CHEMBL66031  0.008    nM  Brc1cccc(Nc2ncnc3cc4[nH]cnc4cc23)c1   \n",
       "\n",
       "       pIC50  molecular_weight  n_hba  n_hbd    logp  ro5_fulfilled  \n",
       "0  11.522879        349.021459      3      1  5.2891           True  \n",
       "1  11.221849        387.058239      5      1  4.9333           True  \n",
       "2  11.221849        343.043258      5      1  3.5969           True  \n",
       "3  11.096910        329.027607      5      2  3.5726           True  \n",
       "4  11.096910        339.011957      4      2  4.0122           True  "
      ]
     },
     "execution_count": 12,
     "metadata": {},
     "output_type": "execute_result"
    }
   ],
   "source": [
    "molecules = pd.concat([molecules, ro5_properties], axis=1)\n",
    "molecules.head()"
   ]
  },
  {
   "cell_type": "code",
   "execution_count": 13,
   "metadata": {},
   "outputs": [
    {
     "name": "stdout",
     "output_type": "stream",
     "text": [
      "# compounds in unfiltered data set: 5444\n",
      "# compounds in filtered data set: 4525\n",
      "# compounds not compliant with the Ro5: 919\n"
     ]
    }
   ],
   "source": [
    "# Note that the column \"ro5_fulfilled\" contains boolean values.\n",
    "# Thus, we can use the column values directly to subset data.\n",
    "# Note that ~ negates boolean values.\n",
    "molecules_ro5_fulfilled = molecules[molecules[\"ro5_fulfilled\"]]\n",
    "molecules_ro5_violated = molecules[~molecules[\"ro5_fulfilled\"]]\n",
    "\n",
    "print(f\"# compounds in unfiltered data set: {molecules.shape[0]}\")\n",
    "print(f\"# compounds in filtered data set: {molecules_ro5_fulfilled.shape[0]}\")\n",
    "print(f\"# compounds not compliant with the Ro5: {molecules_ro5_violated.shape[0]}\")\n",
    "# NBVAL_CHECK_OUTPUT"
   ]
  },
  {
   "cell_type": "code",
   "execution_count": 14,
   "metadata": {},
   "outputs": [
    {
     "data": {
      "text/html": [
       "<div>\n",
       "<style scoped>\n",
       "    .dataframe tbody tr th:only-of-type {\n",
       "        vertical-align: middle;\n",
       "    }\n",
       "\n",
       "    .dataframe tbody tr th {\n",
       "        vertical-align: top;\n",
       "    }\n",
       "\n",
       "    .dataframe thead th {\n",
       "        text-align: right;\n",
       "    }\n",
       "</style>\n",
       "<table border=\"1\" class=\"dataframe\">\n",
       "  <thead>\n",
       "    <tr style=\"text-align: right;\">\n",
       "      <th></th>\n",
       "      <th>molecule_chembl_id</th>\n",
       "      <th>IC50</th>\n",
       "      <th>units</th>\n",
       "      <th>smiles</th>\n",
       "      <th>pIC50</th>\n",
       "      <th>molecular_weight</th>\n",
       "      <th>n_hba</th>\n",
       "      <th>n_hbd</th>\n",
       "      <th>logp</th>\n",
       "      <th>ro5_fulfilled</th>\n",
       "    </tr>\n",
       "  </thead>\n",
       "  <tbody>\n",
       "    <tr>\n",
       "      <th>0</th>\n",
       "      <td>CHEMBL63786</td>\n",
       "      <td>0.003</td>\n",
       "      <td>nM</td>\n",
       "      <td>Brc1cccc(Nc2ncnc3cc4ccccc4cc23)c1</td>\n",
       "      <td>11.522879</td>\n",
       "      <td>349.021459</td>\n",
       "      <td>3</td>\n",
       "      <td>1</td>\n",
       "      <td>5.2891</td>\n",
       "      <td>True</td>\n",
       "    </tr>\n",
       "    <tr>\n",
       "      <th>1</th>\n",
       "      <td>CHEMBL35820</td>\n",
       "      <td>0.006</td>\n",
       "      <td>nM</td>\n",
       "      <td>CCOc1cc2ncnc(Nc3cccc(Br)c3)c2cc1OCC</td>\n",
       "      <td>11.221849</td>\n",
       "      <td>387.058239</td>\n",
       "      <td>5</td>\n",
       "      <td>1</td>\n",
       "      <td>4.9333</td>\n",
       "      <td>True</td>\n",
       "    </tr>\n",
       "    <tr>\n",
       "      <th>2</th>\n",
       "      <td>CHEMBL53711</td>\n",
       "      <td>0.006</td>\n",
       "      <td>nM</td>\n",
       "      <td>CN(C)c1cc2c(Nc3cccc(Br)c3)ncnc2cn1</td>\n",
       "      <td>11.221849</td>\n",
       "      <td>343.043258</td>\n",
       "      <td>5</td>\n",
       "      <td>1</td>\n",
       "      <td>3.5969</td>\n",
       "      <td>True</td>\n",
       "    </tr>\n",
       "    <tr>\n",
       "      <th>3</th>\n",
       "      <td>CHEMBL53753</td>\n",
       "      <td>0.008</td>\n",
       "      <td>nM</td>\n",
       "      <td>CNc1cc2c(Nc3cccc(Br)c3)ncnc2cn1</td>\n",
       "      <td>11.096910</td>\n",
       "      <td>329.027607</td>\n",
       "      <td>5</td>\n",
       "      <td>2</td>\n",
       "      <td>3.5726</td>\n",
       "      <td>True</td>\n",
       "    </tr>\n",
       "    <tr>\n",
       "      <th>4</th>\n",
       "      <td>CHEMBL66031</td>\n",
       "      <td>0.008</td>\n",
       "      <td>nM</td>\n",
       "      <td>Brc1cccc(Nc2ncnc3cc4[nH]cnc4cc23)c1</td>\n",
       "      <td>11.096910</td>\n",
       "      <td>339.011957</td>\n",
       "      <td>4</td>\n",
       "      <td>2</td>\n",
       "      <td>4.0122</td>\n",
       "      <td>True</td>\n",
       "    </tr>\n",
       "  </tbody>\n",
       "</table>\n",
       "</div>"
      ],
      "text/plain": [
       "  molecule_chembl_id   IC50 units                               smiles  \\\n",
       "0        CHEMBL63786  0.003    nM    Brc1cccc(Nc2ncnc3cc4ccccc4cc23)c1   \n",
       "1        CHEMBL35820  0.006    nM  CCOc1cc2ncnc(Nc3cccc(Br)c3)c2cc1OCC   \n",
       "2        CHEMBL53711  0.006    nM   CN(C)c1cc2c(Nc3cccc(Br)c3)ncnc2cn1   \n",
       "3        CHEMBL53753  0.008    nM      CNc1cc2c(Nc3cccc(Br)c3)ncnc2cn1   \n",
       "4        CHEMBL66031  0.008    nM  Brc1cccc(Nc2ncnc3cc4[nH]cnc4cc23)c1   \n",
       "\n",
       "       pIC50  molecular_weight  n_hba  n_hbd    logp  ro5_fulfilled  \n",
       "0  11.522879        349.021459      3      1  5.2891           True  \n",
       "1  11.221849        387.058239      5      1  4.9333           True  \n",
       "2  11.221849        343.043258      5      1  3.5969           True  \n",
       "3  11.096910        329.027607      5      2  3.5726           True  \n",
       "4  11.096910        339.011957      4      2  4.0122           True  "
      ]
     },
     "execution_count": 14,
     "metadata": {},
     "output_type": "execute_result"
    }
   ],
   "source": [
    "# Save filtered data\n",
    "molecules_ro5_fulfilled.to_csv(DATA / \"EGFR_compounds_lipinski.csv\")\n",
    "molecules_ro5_fulfilled.head()"
   ]
  },
  {
   "cell_type": "markdown",
   "metadata": {},
   "source": [
    "### Visualize Ro5 properties (radar plot)"
   ]
  },
  {
   "cell_type": "markdown",
   "metadata": {},
   "source": [
    "#### Calculate statistics on Ro5 properties "
   ]
  },
  {
   "cell_type": "markdown",
   "metadata": {},
   "source": [
    "Define a helper function to calculate the mean and standard deviation for an input DataFrame."
   ]
  },
  {
   "cell_type": "code",
   "execution_count": 15,
   "metadata": {},
   "outputs": [],
   "source": [
    "def calculate_mean_std(dataframe):\n",
    "    \"\"\"\n",
    "    Calculate the mean and standard deviation of a dataset.\n",
    "\n",
    "    Parameters\n",
    "    ----------\n",
    "    dataframe : pd.DataFrame\n",
    "        Properties (columns) for a set of items (rows).\n",
    "\n",
    "    Returns\n",
    "    -------\n",
    "    pd.DataFrame\n",
    "        Mean and standard deviation (columns) for different properties (rows).\n",
    "    \"\"\"\n",
    "    # Generate descriptive statistics for property columns\n",
    "    stats = dataframe.describe()\n",
    "    # Transpose DataFrame (statistical measures = columns)\n",
    "    stats = stats.T\n",
    "    # Select mean and standard deviation\n",
    "    stats = stats[[\"mean\", \"std\"]]\n",
    "    return stats"
   ]
  },
  {
   "cell_type": "markdown",
   "metadata": {},
   "source": [
    "We calculate the statistic for the dataset of compounds that are __fulfilling the Ro5__."
   ]
  },
  {
   "cell_type": "code",
   "execution_count": 16,
   "metadata": {},
   "outputs": [
    {
     "data": {
      "text/html": [
       "<div>\n",
       "<style scoped>\n",
       "    .dataframe tbody tr th:only-of-type {\n",
       "        vertical-align: middle;\n",
       "    }\n",
       "\n",
       "    .dataframe tbody tr th {\n",
       "        vertical-align: top;\n",
       "    }\n",
       "\n",
       "    .dataframe thead th {\n",
       "        text-align: right;\n",
       "    }\n",
       "</style>\n",
       "<table border=\"1\" class=\"dataframe\">\n",
       "  <thead>\n",
       "    <tr style=\"text-align: right;\">\n",
       "      <th></th>\n",
       "      <th>mean</th>\n",
       "      <th>std</th>\n",
       "    </tr>\n",
       "  </thead>\n",
       "  <tbody>\n",
       "    <tr>\n",
       "      <th>molecular_weight</th>\n",
       "      <td>412.988138</td>\n",
       "      <td>87.897323</td>\n",
       "    </tr>\n",
       "    <tr>\n",
       "      <th>n_hba</th>\n",
       "      <td>5.964199</td>\n",
       "      <td>1.873910</td>\n",
       "    </tr>\n",
       "    <tr>\n",
       "      <th>n_hbd</th>\n",
       "      <td>1.880884</td>\n",
       "      <td>1.011516</td>\n",
       "    </tr>\n",
       "    <tr>\n",
       "      <th>logp</th>\n",
       "      <td>4.070748</td>\n",
       "      <td>1.193878</td>\n",
       "    </tr>\n",
       "  </tbody>\n",
       "</table>\n",
       "</div>"
      ],
      "text/plain": [
       "                        mean        std\n",
       "molecular_weight  412.988138  87.897323\n",
       "n_hba               5.964199   1.873910\n",
       "n_hbd               1.880884   1.011516\n",
       "logp                4.070748   1.193878"
      ]
     },
     "execution_count": 16,
     "metadata": {},
     "output_type": "execute_result"
    }
   ],
   "source": [
    "molecules_ro5_fulfilled_stats = calculate_mean_std(\n",
    "    molecules_ro5_fulfilled[[\"molecular_weight\", \"n_hba\", \"n_hbd\", \"logp\"]]\n",
    ")\n",
    "molecules_ro5_fulfilled_stats\n",
    "# NBVAL_CHECK_OUTPUT"
   ]
  },
  {
   "cell_type": "markdown",
   "metadata": {},
   "source": [
    "We calculate the statistic for the dataset of compounds that are __violating the Ro5__."
   ]
  },
  {
   "cell_type": "code",
   "execution_count": 17,
   "metadata": {},
   "outputs": [
    {
     "data": {
      "text/html": [
       "<div>\n",
       "<style scoped>\n",
       "    .dataframe tbody tr th:only-of-type {\n",
       "        vertical-align: middle;\n",
       "    }\n",
       "\n",
       "    .dataframe tbody tr th {\n",
       "        vertical-align: top;\n",
       "    }\n",
       "\n",
       "    .dataframe thead th {\n",
       "        text-align: right;\n",
       "    }\n",
       "</style>\n",
       "<table border=\"1\" class=\"dataframe\">\n",
       "  <thead>\n",
       "    <tr style=\"text-align: right;\">\n",
       "      <th></th>\n",
       "      <th>mean</th>\n",
       "      <th>std</th>\n",
       "    </tr>\n",
       "  </thead>\n",
       "  <tbody>\n",
       "    <tr>\n",
       "      <th>molecular_weight</th>\n",
       "      <td>588.382737</td>\n",
       "      <td>102.482194</td>\n",
       "    </tr>\n",
       "    <tr>\n",
       "      <th>n_hba</th>\n",
       "      <td>7.963003</td>\n",
       "      <td>2.374231</td>\n",
       "    </tr>\n",
       "    <tr>\n",
       "      <th>n_hbd</th>\n",
       "      <td>2.297062</td>\n",
       "      <td>1.730132</td>\n",
       "    </tr>\n",
       "    <tr>\n",
       "      <th>logp</th>\n",
       "      <td>5.975196</td>\n",
       "      <td>1.433220</td>\n",
       "    </tr>\n",
       "  </tbody>\n",
       "</table>\n",
       "</div>"
      ],
      "text/plain": [
       "                        mean         std\n",
       "molecular_weight  588.382737  102.482194\n",
       "n_hba               7.963003    2.374231\n",
       "n_hbd               2.297062    1.730132\n",
       "logp                5.975196    1.433220"
      ]
     },
     "execution_count": 17,
     "metadata": {},
     "output_type": "execute_result"
    }
   ],
   "source": [
    "molecules_ro5_violated_stats = calculate_mean_std(\n",
    "    molecules_ro5_violated[[\"molecular_weight\", \"n_hba\", \"n_hbd\", \"logp\"]]\n",
    ")\n",
    "molecules_ro5_violated_stats"
   ]
  },
  {
   "cell_type": "markdown",
   "metadata": {},
   "source": [
    "#### Define helper functions to prepare data for radar plotting"
   ]
  },
  {
   "cell_type": "markdown",
   "metadata": {},
   "source": [
    "In the following, we will define a few helper functions that are only used for radar plotting."
   ]
  },
  {
   "cell_type": "markdown",
   "metadata": {},
   "source": [
    "__Prepare y values__: \n",
    "The properties used for the Ro5 criteria are of different magnitudes. \n",
    "The MWT has a __threshold of 500__, whereas the number of HBAs and HBDs and the LogP have __thresholds of only 10, 5, and 5__, respectively. In order to visualize these different scales most simplistically, we will scale all property values to a __scaled threshold of 5__:\n",
    "\n",
    "`scaled property value` = `property value` / `property threshold` * `scaled property threshold`\n",
    "\n",
    "- scaled MWT = MWT / 500 * 5 = MWT / 100\n",
    "- scaled HBA = HBA / 10 * 5 = HBA / 2\n",
    "- scaled HBD = HBD / 5 * 5 = HBD\n",
    "- scaled LogP = LogP / 5 * 5 = LogP\n",
    "\n",
    "This results in a downscaling of the MWT by 100, HBA by 2, while HBD and LogP stay unchanged.\n",
    "\n",
    "The following helper function performs such a scaling and will be used later during radar plotting."
   ]
  },
  {
   "cell_type": "code",
   "execution_count": 18,
   "metadata": {},
   "outputs": [],
   "source": [
    "def _scale_by_thresholds(stats, thresholds, scaled_threshold):\n",
    "    \"\"\"\n",
    "    Scale values for different properties that have each an individually defined threshold.\n",
    "\n",
    "    Parameters\n",
    "    ----------\n",
    "    stats : pd.DataFrame\n",
    "        Dataframe with \"mean\" and \"std\" (columns) for each physicochemical property (rows).\n",
    "    thresholds : dict of str: int\n",
    "        Thresholds defined for each property.\n",
    "    scaled_threshold : int or float\n",
    "        Scaled thresholds across all properties.\n",
    "\n",
    "    Returns\n",
    "    -------\n",
    "    pd.DataFrame\n",
    "        DataFrame with scaled means and standard deviations for each physiochemical property.\n",
    "    \"\"\"\n",
    "    # Raise error if scaling keys and data_stats indicies are not matching\n",
    "    for property_name in stats.index:\n",
    "        if property_name not in thresholds.keys():\n",
    "            raise KeyError(f\"Add property '{property_name}' to scaling variable.\")\n",
    "    # Scale property data\n",
    "    stats_scaled = stats.apply(lambda x: x / thresholds[x.name] * scaled_threshold, axis=1)\n",
    "    return stats_scaled"
   ]
  },
  {
   "cell_type": "markdown",
   "metadata": {},
   "source": [
    "__Prepare x values:__\n",
    "The following helper function returns the __angles of the physicochemical property axes for the radar chart__. For example, if we want to generate a radar plot for 4 properties, we want to set the axes at 0°, 90°, 180°, and 270°. The helper function returns such angles as radians."
   ]
  },
  {
   "cell_type": "code",
   "execution_count": 19,
   "metadata": {},
   "outputs": [],
   "source": [
    "def _define_radial_axes_angles(n_axes):\n",
    "    \"\"\"Define angles (radians) for radial (x-)axes depending on the number of axes.\"\"\"\n",
    "    x_angles = [i / float(n_axes) * 2 * math.pi for i in range(n_axes)]\n",
    "    x_angles += x_angles[:1]\n",
    "    return x_angles"
   ]
  },
  {
   "cell_type": "markdown",
   "metadata": {},
   "source": [
    "Both functions will be used as helper functions in the radar plotting function, which is defined next."
   ]
  },
  {
   "cell_type": "markdown",
   "metadata": {},
   "source": [
    "#### Generate radar plots, finally!"
   ]
  },
  {
   "cell_type": "markdown",
   "metadata": {},
   "source": [
    "Now, we define a function that visualizes the compounds' chemical properties in the form of a radar chart. \n",
    "We followed [these instructions on stackoverflow](https://stackoverflow.com/questions/42227409/tutorial-for-python-radar-chart-plot)."
   ]
  },
  {
   "cell_type": "code",
   "execution_count": 20,
   "metadata": {},
   "outputs": [],
   "source": [
    "def plot_radar(\n",
    "    y,\n",
    "    thresholds,\n",
    "    scaled_threshold,\n",
    "    properties_labels,\n",
    "    y_max=None,\n",
    "    output_path=None,\n",
    "):\n",
    "    \"\"\"\n",
    "    Plot a radar chart based on the mean and standard deviation of a data set's properties.\n",
    "\n",
    "    Parameters\n",
    "    ----------\n",
    "    y : pd.DataFrame\n",
    "        Dataframe with \"mean\" and \"std\" (columns) for each physicochemical property (rows).\n",
    "    thresholds : dict of str: int\n",
    "        Thresholds defined for each property.\n",
    "    scaled_threshold : int or float\n",
    "        Scaled thresholds across all properties.\n",
    "    properties_labels : list of str\n",
    "        List of property names to be used as labels in the plot.\n",
    "    y_max : None or int or float\n",
    "        Set maximum y value. If None, let matplotlib decide.\n",
    "    output_path : None or pathlib.Path\n",
    "        If not None, save plot to file.\n",
    "    \"\"\"\n",
    "\n",
    "    # Define radial x-axes angles -- uses our helper function!\n",
    "    x = _define_radial_axes_angles(len(y))\n",
    "    # Scale y-axis values with respect to a defined threshold -- uses our helper function!\n",
    "    y = _scale_by_thresholds(y, thresholds, scaled_threshold)\n",
    "    # Since our chart will be circular we append the first value of each property to the end\n",
    "    y = y.append(y.iloc[0])\n",
    "\n",
    "    # Set figure and subplot axis\n",
    "    plt.figure(figsize=(6, 6))\n",
    "    ax = plt.subplot(111, polar=True)\n",
    "\n",
    "    # Plot data\n",
    "    ax.fill(x, [scaled_threshold] * 5, \"cornflowerblue\", alpha=0.2)\n",
    "    ax.plot(x, y[\"mean\"], \"b\", lw=3, ls=\"-\")\n",
    "    ax.plot(x, y[\"mean\"] + y[\"std\"], \"orange\", lw=2, ls=\"--\")\n",
    "    ax.plot(x, y[\"mean\"] - y[\"std\"], \"orange\", lw=2, ls=\"-.\")\n",
    "\n",
    "    # From here on, we only do plot cosmetics\n",
    "    # Set 0° to 12 o'clock\n",
    "    ax.set_theta_offset(math.pi / 2)\n",
    "    # Set clockwise rotation\n",
    "    ax.set_theta_direction(-1)\n",
    "\n",
    "    # Set y-labels next to 180° radius axis\n",
    "    ax.set_rlabel_position(180)\n",
    "    # Set number of radial axes' ticks and remove labels\n",
    "    plt.xticks(x, [])\n",
    "    # Get maximal y-ticks value\n",
    "    if not y_max:\n",
    "        y_max = int(ax.get_yticks()[-1])\n",
    "    # Set axes limits\n",
    "    plt.ylim(0, y_max)\n",
    "    # Set number and labels of y axis ticks\n",
    "    plt.yticks(\n",
    "        range(1, y_max),\n",
    "        [\"5\" if i == scaled_threshold else \"\" for i in range(1, y_max)],\n",
    "        fontsize=16,\n",
    "    )\n",
    "\n",
    "    # Draw ytick labels to make sure they fit properly\n",
    "    # Note that we use [:1] to exclude the last element which equals the first element (not needed here)\n",
    "    for i, (angle, label) in enumerate(zip(x[:-1], properties_labels)):\n",
    "        if angle == 0:\n",
    "            ha = \"center\"\n",
    "        elif 0 < angle < math.pi:\n",
    "            ha = \"left\"\n",
    "        elif angle == math.pi:\n",
    "            ha = \"center\"\n",
    "        else:\n",
    "            ha = \"right\"\n",
    "        ax.text(\n",
    "            x=angle,\n",
    "            y=y_max + 1,\n",
    "            s=label,\n",
    "            size=16,\n",
    "            horizontalalignment=ha,\n",
    "            verticalalignment=\"center\",\n",
    "        )\n",
    "\n",
    "    # Add legend relative to top-left plot\n",
    "    labels = (\"mean\", \"mean + std\", \"mean - std\", \"rule of five area\")\n",
    "    ax.legend(labels, loc=(1.1, 0.7), labelspacing=0.3, fontsize=16)\n",
    "\n",
    "    # Save plot - use bbox_inches to include text boxes\n",
    "    if output_path:\n",
    "        plt.savefig(output_path, dpi=300, bbox_inches=\"tight\", transparent=True)\n",
    "\n",
    "    plt.show()"
   ]
  },
  {
   "cell_type": "markdown",
   "metadata": {},
   "source": [
    "In the following, we want to plot the radar chart for our two datasets:\n",
    "1. Compounds that fulfill the Ro5\n",
    "2. Compounds that violate the Ro5\n",
    "\n",
    "Define input parameters that should stay the same for both radar charts:"
   ]
  },
  {
   "cell_type": "code",
   "execution_count": 21,
   "metadata": {},
   "outputs": [],
   "source": [
    "thresholds = {\"molecular_weight\": 500, \"n_hba\": 10, \"n_hbd\": 5, \"logp\": 5}\n",
    "scaled_threshold = 5\n",
    "properties_labels = [\n",
    "    \"Molecular weight (Da) / 100\",\n",
    "    \"# HBA / 2\",\n",
    "    \"# HBD\",\n",
    "    \"LogP\",\n",
    "]\n",
    "y_max = 8"
   ]
  },
  {
   "cell_type": "markdown",
   "metadata": {},
   "source": [
    "1. We plot the radarplot for the dataset of compounds that __fulfill the Ro5__."
   ]
  },
  {
   "cell_type": "code",
   "execution_count": 22,
   "metadata": {},
   "outputs": [
    {
     "data": {
      "image/png": "[encoded data removed]",
      "text/plain": [
       "<Figure size 432x432 with 1 Axes>"
      ]
     },
     "metadata": {
      "needs_background": "light"
     },
     "output_type": "display_data"
    }
   ],
   "source": [
    "plot_radar(\n",
    "    molecules_ro5_fulfilled_stats,\n",
    "    thresholds,\n",
    "    scaled_threshold,\n",
    "    properties_labels,\n",
    "    y_max,\n",
    ")"
   ]
  },
  {
   "cell_type": "markdown",
   "metadata": {},
   "source": [
    "The blue square shows the area where a molecule's physicochemical properties are compliant with the Ro5. \n",
    "The blue line highlights the mean values, while the orange dashed lines show the standard deviations. \n",
    "We can see that the mean values never violate any of Lipinski's rules. \n",
    "However, according to the standard deviation, some properties have larger values then the Ro5 thresholds. \n",
    "This is acceptable because, according to the Ro5, one of the four rules can be violated."
   ]
  },
  {
   "cell_type": "markdown",
   "metadata": {},
   "source": [
    "2. We plot the radarplot for the dataset of compounds that __violate the Ro5__."
   ]
  },
  {
   "cell_type": "code",
   "execution_count": 23,
   "metadata": {
    "tags": [
     "nbsphinx-thumbnail"
    ]
   },
   "outputs": [
    {
     "data": {
      "image/png": "[encoded data removed]",
      "text/plain": [
       "<Figure size 432x432 with 1 Axes>"
      ]
     },
     "metadata": {
      "needs_background": "light"
     },
     "output_type": "display_data"
    }
   ],
   "source": [
    "plot_radar(\n",
    "    molecules_ro5_violated_stats,\n",
    "    thresholds,\n",
    "    scaled_threshold,\n",
    "    properties_labels,\n",
    "    y_max,\n",
    ")"
   ]
  },
  {
   "cell_type": "markdown",
   "metadata": {},
   "source": [
    "We see that compounds mostly violate the Ro5 because of their logP values and their molecular weight."
   ]
  },
  {
   "cell_type": "markdown",
   "metadata": {},
   "source": [
    "## Discussion\n",
    "\n",
    "In this talktorial, we have learned about Lipinski's Ro5 as a measure to estimate a compound's oral bioavailability and we have applied the rule on a dataset using `rdkit`.\n",
    "Note that drugs can also be administered via alternative routes, i.e. inhalation, skin penetration and injection. \n",
    "\n",
    "In this talktorial, we have looked at only one of many more ADME properties. Webservers such as [SwissADME](http://www.swissadme.ch/) give a more comprehensive view on compound properties."
   ]
  },
  {
   "cell_type": "markdown",
   "metadata": {},
   "source": [
    "## Quiz\n",
    "* In what way can the chemical properties described by the Ro5 affect ADME?\n",
    "* Find or design a molecule which violates three or four rules. \n",
    "* How can you plot information for an additional molecule in the radar charts that we have created in this talktorial?"
   ]
  }
 ],
 "metadata": {
  "kernelspec": {
   "display_name": "Python 3",
   "language": "python",
   "name": "python3"
  },
  "language_info": {
   "codemirror_mode": {
    "name": "ipython",
    "version": 3
   },
   "file_extension": ".py",
   "mimetype": "text/x-python",
   "name": "python",
   "nbconvert_exporter": "python",
   "pygments_lexer": "ipython3",
   "version": "3.9.4"
  },
  "widgets": {
   "application/vnd.jupyter.widget-state+json": {
    "state": {},
    "version_major": 2,
    "version_minor": 0
   }
  }
 },
 "nbformat": 4,
 "nbformat_minor": 4
}
