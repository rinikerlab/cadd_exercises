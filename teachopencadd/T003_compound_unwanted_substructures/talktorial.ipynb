{
 "cells": [
  {
   "cell_type": "markdown",
   "metadata": {},
   "source": [
    "# T003 · Molecular filtering: unwanted substructures\n",
    "\n",
    "Authors:\n",
    "\n",
    "- Maximilian Driller, CADD seminar, 2017, Charité/FU Berlin\n",
    "- Sandra Krüger, CADD seminar, 2018, Charité/FU Berlin"
   ]
  },
  {
   "cell_type": "markdown",
   "metadata": {},
   "source": [
    "__Talktorial T003__: This talktorial is part of the TeachOpenCADD pipeline described in the first TeachOpenCADD publication ([_J. Cheminform._ (2019), **11**, 1-7](https://jcheminf.biomedcentral.com/articles/10.1186/s13321-019-0351-x)), comprising of talktorials T001-T010."
   ]
  },
  {
   "cell_type": "markdown",
   "metadata": {},
   "source": [
    "## Aim of this talktorial\n",
    "\n",
    "There are some substructures we prefer not to include into our screening library. In this talktorial, we learn about different types of such unwanted substructures and how to find, highlight and remove them with RDKit."
   ]
  },
  {
   "cell_type": "markdown",
   "metadata": {},
   "source": [
    "### Contents in Theory\n",
    "\n",
    "* Unwanted substructures\n",
    "* Pan Assay Interference Compounds (PAINS)  "
   ]
  },
  {
   "cell_type": "markdown",
   "metadata": {},
   "source": [
    "### Contents in Practical\n",
    "\n",
    "* Load and visualize data\n",
    "* Filter for PAINS\n",
    "* Filter for unwanted substructures\n",
    "* Highlight substructures\n",
    "* Substructure statistics"
   ]
  },
  {
   "cell_type": "markdown",
   "metadata": {},
   "source": [
    "### References\n",
    "\n",
    "* Pan Assay Interference compounds ([wikipedia](https://en.wikipedia.org/wiki/Pan-assay_interference_compounds), [_J. Med. Chem._ (2010), **53**, 2719-2740](https://pubs.acs.org/doi/abs/10.1021/jm901137j)) \n",
    "* Unwanted substructures according to Brenk *et al.* ([_Chem. Med. Chem._ (2008), **3**, 435-44](https://onlinelibrary.wiley.com/doi/full/10.1002/cmdc.200700139))\n",
    "* Inspired by a Teach-Discover-Treat tutorial ([repository](https://github.com/sriniker/TDT-tutorial-2014/blob/master/TDT_challenge_tutorial.ipynb))\n",
    "* RDKit ([repository](https://github.com/rdkit/rdkit), [documentation](https://www.rdkit.org/docs/index.html))"
   ]
  },
  {
   "cell_type": "markdown",
   "metadata": {},
   "source": [
    "## Theory"
   ]
  },
  {
   "cell_type": "markdown",
   "metadata": {},
   "source": [
    "### Unwanted substructures\n",
    "\n",
    "Substructures can be unfavorable, e.g., because they are toxic or reactive, due to unfavorable pharmacokinetic properties, or because they likely interfere with certain assays.\n",
    "Nowadays, drug discovery campaigns often involve [high throughput screening](https://en.wikipedia.org/wiki/High-throughput_screening). Filtering unwanted substructures can support assembling more efficient screening libraries, which can save time and resources. \n",
    "\n",
    "Brenk *et al.* ([_Chem. Med. Chem._ (2008), **3**, 435-44](https://onlinelibrary.wiley.com/doi/full/10.1002/cmdc.200700139)) have assembled a list of unfavorable substructures to filter their libraries used to screen for compounds to treat neglected diseases. Examples of such unwanted features are nitro groups (mutagenic), sulfates and phosphates (likely resulting in unfavorable pharmacokinetic properties), 2-halopyridines and thiols (reactive). This list of undesired substructures was published in the above mentioned paper and will be used in the practical part of this talktorial."
   ]
  },
  {
   "cell_type": "markdown",
   "metadata": {},
   "source": [
    "### Pan Assay Interference Compounds (PAINS)\n",
    "\n",
    "[PAINS](https://en.wikipedia.org/wiki/Pan-assay_interference_compounds) are compounds that often occur as hits in HTS even though they actually are false positives. PAINS show activity at numerous targets rather than one specific target. Such behavior results from unspecific binding or interaction with assay components. Baell *et al.* ([_J. Med. Chem._ (2010), **53**, 2719-2740](https://pubs.acs.org/doi/abs/10.1021/jm901137j)) focused on substructures interfering in assay signaling. They described substructures which can help to identify such PAINS and provided a list which can be used for substructure filtering.\n",
    "\n",
    "![PAINS](images/PAINS_Figure.jpeg)\n",
    "\n",
    "Figure 1: Specific and unspecific binding in the context of PAINS. Figure taken from [Wikipedia](https://commons.wikimedia.org/wiki/File:PAINS_Figure.tif)."
   ]
  },
  {
   "cell_type": "markdown",
   "metadata": {},
   "source": [
    "## Practical"
   ]
  },
  {
   "cell_type": "markdown",
   "metadata": {},
   "source": [
    "### Load and visualize data"
   ]
  },
  {
   "cell_type": "markdown",
   "metadata": {},
   "source": [
    "First, we import the required libraries, load our filtered dataset from **Talktorial T2** and draw the first molecules."
   ]
  },
  {
   "cell_type": "code",
   "execution_count": 1,
   "metadata": {},
   "outputs": [
    {
     "name": "stderr",
     "output_type": "stream",
     "text": [
      "<frozen importlib._bootstrap>:219: RuntimeWarning: to-Python converter for boost::shared_ptr<RDKit::FilterCatalogEntry const> already registered; second conversion method ignored.\n"
     ]
    }
   ],
   "source": [
    "from pathlib import Path\n",
    "\n",
    "import pandas as pd\n",
    "from tqdm.auto import tqdm\n",
    "from rdkit import Chem\n",
    "from rdkit.Chem import PandasTools\n",
    "from rdkit.Chem.FilterCatalog import FilterCatalog, FilterCatalogParams"
   ]
  },
  {
   "cell_type": "code",
   "execution_count": 2,
   "metadata": {},
   "outputs": [],
   "source": [
    "# define paths\n",
    "HERE = Path(_dh[-1])\n",
    "DATA = HERE / \"data\""
   ]
  },
  {
   "cell_type": "code",
   "execution_count": 3,
   "metadata": {
    "scrolled": true
   },
   "outputs": [
    {
     "name": "stdout",
     "output_type": "stream",
     "text": [
      "Dataframe shape: (4525, 10)\n"
     ]
    },
    {
     "data": {
      "text/html": [
       "<div>\n",
       "<style scoped>\n",
       "    .dataframe tbody tr th:only-of-type {\n",
       "        vertical-align: middle;\n",
       "    }\n",
       "\n",
       "    .dataframe tbody tr th {\n",
       "        vertical-align: top;\n",
       "    }\n",
       "\n",
       "    .dataframe thead th {\n",
       "        text-align: right;\n",
       "    }\n",
       "</style>\n",
       "<table border=\"1\" class=\"dataframe\">\n",
       "  <thead>\n",
       "    <tr style=\"text-align: right;\">\n",
       "      <th></th>\n",
       "      <th>molecule_chembl_id</th>\n",
       "      <th>IC50</th>\n",
       "      <th>units</th>\n",
       "      <th>smiles</th>\n",
       "      <th>pIC50</th>\n",
       "      <th>ro5_fulfilled</th>\n",
       "    </tr>\n",
       "  </thead>\n",
       "  <tbody>\n",
       "    <tr>\n",
       "      <th>0</th>\n",
       "      <td>CHEMBL63786</td>\n",
       "      <td>0.003</td>\n",
       "      <td>nM</td>\n",
       "      <td>Brc1cccc(Nc2ncnc3cc4ccccc4cc23)c1</td>\n",
       "      <td>11.522879</td>\n",
       "      <td>True</td>\n",
       "    </tr>\n",
       "    <tr>\n",
       "      <th>1</th>\n",
       "      <td>CHEMBL35820</td>\n",
       "      <td>0.006</td>\n",
       "      <td>nM</td>\n",
       "      <td>CCOc1cc2ncnc(Nc3cccc(Br)c3)c2cc1OCC</td>\n",
       "      <td>11.221849</td>\n",
       "      <td>True</td>\n",
       "    </tr>\n",
       "    <tr>\n",
       "      <th>2</th>\n",
       "      <td>CHEMBL53711</td>\n",
       "      <td>0.006</td>\n",
       "      <td>nM</td>\n",
       "      <td>CN(C)c1cc2c(Nc3cccc(Br)c3)ncnc2cn1</td>\n",
       "      <td>11.221849</td>\n",
       "      <td>True</td>\n",
       "    </tr>\n",
       "    <tr>\n",
       "      <th>3</th>\n",
       "      <td>CHEMBL53753</td>\n",
       "      <td>0.008</td>\n",
       "      <td>nM</td>\n",
       "      <td>CNc1cc2c(Nc3cccc(Br)c3)ncnc2cn1</td>\n",
       "      <td>11.096910</td>\n",
       "      <td>True</td>\n",
       "    </tr>\n",
       "    <tr>\n",
       "      <th>4</th>\n",
       "      <td>CHEMBL66031</td>\n",
       "      <td>0.008</td>\n",
       "      <td>nM</td>\n",
       "      <td>Brc1cccc(Nc2ncnc3cc4[nH]cnc4cc23)c1</td>\n",
       "      <td>11.096910</td>\n",
       "      <td>True</td>\n",
       "    </tr>\n",
       "  </tbody>\n",
       "</table>\n",
       "</div>"
      ],
      "text/plain": [
       "  molecule_chembl_id   IC50 units                               smiles  \\\n",
       "0        CHEMBL63786  0.003    nM    Brc1cccc(Nc2ncnc3cc4ccccc4cc23)c1   \n",
       "1        CHEMBL35820  0.006    nM  CCOc1cc2ncnc(Nc3cccc(Br)c3)c2cc1OCC   \n",
       "2        CHEMBL53711  0.006    nM   CN(C)c1cc2c(Nc3cccc(Br)c3)ncnc2cn1   \n",
       "3        CHEMBL53753  0.008    nM      CNc1cc2c(Nc3cccc(Br)c3)ncnc2cn1   \n",
       "4        CHEMBL66031  0.008    nM  Brc1cccc(Nc2ncnc3cc4[nH]cnc4cc23)c1   \n",
       "\n",
       "       pIC50  ro5_fulfilled  \n",
       "0  11.522879           True  \n",
       "1  11.221849           True  \n",
       "2  11.221849           True  \n",
       "3  11.096910           True  \n",
       "4  11.096910           True  "
      ]
     },
     "execution_count": 3,
     "metadata": {},
     "output_type": "execute_result"
    }
   ],
   "source": [
    "# load data from Talktorial T2\n",
    "egfr_data = pd.read_csv(\n",
    "    HERE / \"../T002_compound_adme/data/EGFR_compounds_lipinski.csv\",\n",
    "    index_col=0,\n",
    ")\n",
    "# Drop unnecessary information\n",
    "print(\"Dataframe shape:\", egfr_data.shape)\n",
    "egfr_data.drop(columns=[\"molecular_weight\", \"n_hbd\", \"n_hba\", \"logp\"], inplace=True)\n",
    "egfr_data.head()"
   ]
  },
  {
   "cell_type": "code",
   "execution_count": 4,
   "metadata": {
    "scrolled": true
   },
   "outputs": [
    {
     "data": {
      "image/png": "[encoded data removed]",
      "text/plain": [
       "<PIL.PngImagePlugin.PngImageFile image mode=RGB size=600x200 at 0x7FD07E18E7F0>"
      ]
     },
     "execution_count": 4,
     "metadata": {},
     "output_type": "execute_result"
    }
   ],
   "source": [
    "# Add molecule column\n",
    "PandasTools.AddMoleculeColumnToFrame(egfr_data, smilesCol=\"smiles\")\n",
    "# Draw first 3 molecules\n",
    "Chem.Draw.MolsToGridImage(\n",
    "    list(egfr_data.head(3).ROMol),\n",
    "    legends=list(egfr_data.head(3).molecule_chembl_id),\n",
    ")"
   ]
  },
  {
   "cell_type": "markdown",
   "metadata": {},
   "source": [
    "### Filter for PAINS\n",
    "\n",
    "The PAINS filter is already implemented in RDKit ([documentation](http://rdkit.org/docs/source/rdkit.Chem.rdfiltercatalog.html)). Such pre-defined filters can be applied via the `FilterCatalog` class. Let's learn how it can be used."
   ]
  },
  {
   "cell_type": "code",
   "execution_count": 5,
   "metadata": {},
   "outputs": [],
   "source": [
    "# initialize filter\n",
    "params = FilterCatalogParams()\n",
    "params.AddCatalog(FilterCatalogParams.FilterCatalogs.PAINS)\n",
    "catalog = FilterCatalog(params)"
   ]
  },
  {
   "cell_type": "code",
   "execution_count": 6,
   "metadata": {},
   "outputs": [
    {
     "data": {
      "application/vnd.jupyter.widget-view+json": {
       "model_id": "d345df241438401a8fa76a38488f30f1",
       "version_major": 2,
       "version_minor": 0
      },
      "text/plain": [
       "HBox(children=(HTML(value=''), FloatProgress(value=0.0, max=4525.0), HTML(value='')))"
      ]
     },
     "metadata": {},
     "output_type": "display_data"
    },
    {
     "name": "stdout",
     "output_type": "stream",
     "text": [
      "\n"
     ]
    }
   ],
   "source": [
    "# search for PAINS\n",
    "matches = []\n",
    "clean = []\n",
    "for index, row in tqdm(egfr_data.iterrows(), total=egfr_data.shape[0]):\n",
    "    molecule = Chem.MolFromSmiles(row.smiles)\n",
    "    entry = catalog.GetFirstMatch(molecule)  # Get the first matching PAINS\n",
    "    if entry is not None:\n",
    "        # store PAINS information\n",
    "        matches.append(\n",
    "            {\n",
    "                \"chembl_id\": row.molecule_chembl_id,\n",
    "                \"rdkit_molecule\": molecule,\n",
    "                \"pains\": entry.GetDescription().capitalize(),\n",
    "            }\n",
    "        )\n",
    "    else:\n",
    "        # collect indices of molecules without PAINS\n",
    "        clean.append(index)\n",
    "\n",
    "matches = pd.DataFrame(matches)\n",
    "egfr_data = egfr_data.loc[clean]  # keep molecules without PAINS"
   ]
  },
  {
   "cell_type": "code",
   "execution_count": 7,
   "metadata": {},
   "outputs": [
    {
     "name": "stdout",
     "output_type": "stream",
     "text": [
      "Number of compounds with PAINS: 396\n",
      "Number of compounds without PAINS: 4129\n"
     ]
    }
   ],
   "source": [
    "# NBVAL_CHECK_OUTPUT\n",
    "print(f\"Number of compounds with PAINS: {len(matches)}\")\n",
    "print(f\"Number of compounds without PAINS: {len(egfr_data)}\")"
   ]
  },
  {
   "cell_type": "markdown",
   "metadata": {},
   "source": [
    "Let's have a look at the first 3 identified PAINS."
   ]
  },
  {
   "cell_type": "code",
   "execution_count": 8,
   "metadata": {},
   "outputs": [
    {
     "data": {
      "image/png": "[encoded data removed]",
      "text/plain": [
       "<PIL.PngImagePlugin.PngImageFile image mode=RGB size=600x200 at 0x7FD07DEFCFA0>"
      ]
     },
     "execution_count": 8,
     "metadata": {},
     "output_type": "execute_result"
    }
   ],
   "source": [
    "Chem.Draw.MolsToGridImage(\n",
    "    list(matches.head(3).rdkit_molecule),\n",
    "    legends=list(matches.head(3)[\"pains\"]),\n",
    ")"
   ]
  },
  {
   "cell_type": "markdown",
   "metadata": {},
   "source": [
    "### Filter and highlight unwanted substructures\n",
    "\n",
    "Some lists of unwanted substructures, like PAINS, are already implemented in RDKit. However, it is also possible to use an external list and get the substructure matches manually. \n",
    "Here, we use the list provided in the supporting information from Brenk *et al.* ([_Chem. Med. Chem._ (2008), **3**, 535-44](https://onlinelibrary.wiley.com/doi/full/10.1002/cmdc.200700139))."
   ]
  },
  {
   "cell_type": "code",
   "execution_count": 9,
   "metadata": {},
   "outputs": [
    {
     "name": "stdout",
     "output_type": "stream",
     "text": [
      "Number of unwanted substructures in collection: 104\n"
     ]
    }
   ],
   "source": [
    "substructures = pd.read_csv(DATA / \"unwanted_substructures.csv\", sep=\"\\s+\")\n",
    "substructures[\"rdkit_molecule\"] = substructures.smarts.apply(Chem.MolFromSmarts)\n",
    "print(\"Number of unwanted substructures in collection:\", len(substructures))\n",
    "# NBVAL_CHECK_OUTPUT"
   ]
  },
  {
   "cell_type": "markdown",
   "metadata": {},
   "source": [
    "Let's have a look at a few substructures."
   ]
  },
  {
   "cell_type": "code",
   "execution_count": 10,
   "metadata": {},
   "outputs": [
    {
     "data": {
      "image/png": "[encoded data removed]",
      "text/plain": [
       "<PIL.PngImagePlugin.PngImageFile image mode=RGB size=600x200 at 0x7FD07DE91130>"
      ]
     },
     "execution_count": 10,
     "metadata": {},
     "output_type": "execute_result"
    }
   ],
   "source": [
    "Chem.Draw.MolsToGridImage(\n",
    "    list(substructures.head(3).rdkit_molecule),\n",
    "    legends=list(substructures.head(3).name),\n",
    ")"
   ]
  },
  {
   "cell_type": "markdown",
   "metadata": {},
   "source": [
    "Search our filtered dataframe for matches with these unwanted substructures."
   ]
  },
  {
   "cell_type": "code",
   "execution_count": 11,
   "metadata": {},
   "outputs": [
    {
     "data": {
      "application/vnd.jupyter.widget-view+json": {
       "model_id": "6417faeadc9f471b9452cb2a0cfbc258",
       "version_major": 2,
       "version_minor": 0
      },
      "text/plain": [
       "HBox(children=(HTML(value=''), FloatProgress(value=0.0, max=4129.0), HTML(value='')))"
      ]
     },
     "metadata": {},
     "output_type": "display_data"
    },
    {
     "name": "stdout",
     "output_type": "stream",
     "text": [
      "\n"
     ]
    }
   ],
   "source": [
    "# search for unwanted substructure\n",
    "matches = []\n",
    "clean = []\n",
    "for index, row in tqdm(egfr_data.iterrows(), total=egfr_data.shape[0]):\n",
    "    molecule = Chem.MolFromSmiles(row.smiles)\n",
    "    match = False\n",
    "    for _, substructure in substructures.iterrows():\n",
    "        if molecule.HasSubstructMatch(substructure.rdkit_molecule):\n",
    "            matches.append(\n",
    "                {\n",
    "                    \"chembl_id\": row.molecule_chembl_id,\n",
    "                    \"rdkit_molecule\": molecule,\n",
    "                    \"substructure\": substructure.rdkit_molecule,\n",
    "                    \"substructure_name\": substructure[\"name\"],\n",
    "                }\n",
    "            )\n",
    "            match = True\n",
    "    if not match:\n",
    "        clean.append(index)\n",
    "\n",
    "matches = pd.DataFrame(matches)\n",
    "egfr_data = egfr_data.loc[clean]"
   ]
  },
  {
   "cell_type": "code",
   "execution_count": 12,
   "metadata": {},
   "outputs": [
    {
     "name": "stdout",
     "output_type": "stream",
     "text": [
      "Number of found unwanted substructure: 3108\n",
      "Number of compounds without unwanted substructure: 2077\n"
     ]
    }
   ],
   "source": [
    "# NBVAL_CHECK_OUTPUT\n",
    "print(f\"Number of found unwanted substructure: {len(matches)}\")\n",
    "print(f\"Number of compounds without unwanted substructure: {len(egfr_data)}\")"
   ]
  },
  {
   "cell_type": "markdown",
   "metadata": {},
   "source": [
    "### Highlight substructures"
   ]
  },
  {
   "cell_type": "markdown",
   "metadata": {},
   "source": [
    "Let's have a look at the first 3 identified unwanted substructures. Since we have access to the underlying SMARTS patterns we can highlight the substructures within the rdkit molecules."
   ]
  },
  {
   "cell_type": "code",
   "execution_count": 13,
   "metadata": {
    "tags": [
     "nbsphinx-thumbnail"
    ]
   },
   "outputs": [
    {
     "data": {
      "image/png": "[encoded data removed]",
      "text/plain": [
       "<PIL.PngImagePlugin.PngImageFile image mode=RGB size=600x200 at 0x7FD07DEFC880>"
      ]
     },
     "execution_count": 13,
     "metadata": {},
     "output_type": "execute_result"
    }
   ],
   "source": [
    "to_highlight = [\n",
    "    row.rdkit_molecule.GetSubstructMatch(row.substructure) for _, row in matches.head(3).iterrows()\n",
    "]\n",
    "Chem.Draw.MolsToGridImage(\n",
    "    list(matches.head(3).rdkit_molecule),\n",
    "    highlightAtomLists=to_highlight,\n",
    "    legends=list(matches.head(3).substructure_name),\n",
    ")"
   ]
  },
  {
   "cell_type": "markdown",
   "metadata": {},
   "source": [
    "### Substructure statistics"
   ]
  },
  {
   "cell_type": "markdown",
   "metadata": {},
   "source": [
    "Finally, we want to find the most frequent substructure found in our data set. The Pandas `DataFrame` provides convenient methods to group containing data and to retrieve group sizes."
   ]
  },
  {
   "cell_type": "code",
   "execution_count": 14,
   "metadata": {},
   "outputs": [
    {
     "data": {
      "text/plain": [
       "substructure_name\n",
       "Michael-acceptor               1031\n",
       "Aliphatic-long-chain            487\n",
       "Oxygen-nitrogen-single-bond     352\n",
       "triple-bond                     250\n",
       "nitro-group                     172\n",
       "imine                           140\n",
       "Thiocarbonyl-group              114\n",
       "aniline                          62\n",
       "halogenated-ring                 62\n",
       "conjugated-nitrile-group         59\n",
       "dtype: int64"
      ]
     },
     "execution_count": 14,
     "metadata": {},
     "output_type": "execute_result"
    }
   ],
   "source": [
    "# NBVAL_CHECK_OUTPUT\n",
    "groups = matches.groupby(\"substructure_name\")\n",
    "group_frequencies = groups.size()\n",
    "group_frequencies.sort_values(ascending=False, inplace=True)\n",
    "group_frequencies.head(10)"
   ]
  },
  {
   "cell_type": "markdown",
   "metadata": {},
   "source": [
    "## Discussion\n",
    "In this talktorial we learned two possibilities to perform a search for unwanted substructures with RDKit: \n",
    "\n",
    "* The `FilterCatalog` class can be used to search for predefined collections of substructures, e.g., PAINS.\n",
    "* The `HasSubstructMatch()` function to perform manual substructure searches.\n",
    "\n",
    "Actually, PAINS filtering could also be implemented via manual substructure searches with `HasSubstructMatch()`. Furthermore, the substructures defined by Brenk *et al.* ([_Chem. Med. Chem._ (2008), **3**, 535-44](https://onlinelibrary.wiley.com/doi/full/10.1002/cmdc.200700139)) are already implemented as a `FilterCatalog`. Additional pre-defined collections can be found in the RDKit [documentation](http://rdkit.org/docs/source/rdkit.Chem.rdfiltercatalog.html). \n",
    "\n",
    "So far, we have been using the `HasSubstructMatch()` function, which only yields one match per compound. With the `GetSubstructMatches()` function ([documentation](https://www.rdkit.org/docs/source/rdkit.Chem.rdchem.html)) we have the opportunity to identify all occurrences of a particular substructure in a compound.\n",
    "In case of PAINS, we have only looked at the first match per molecule (`GetFirstMatch()`). If we simply want to filter out all PAINS this is enough. However, we could also use `GetMatches()` in order to see all critical substructures of a molecule.\n",
    "\n",
    "Detected substructures can be handled in two different fashions: \n",
    "\n",
    "* Either, the substructure search is applied as a filter and the compounds are excluded from further testing to save time and money. \n",
    "* Or, they can be used as warnings, since ~5 % of FDA-approved drugs were found to contain PAINS ([_ACS. Chem. Biol._ (2018), **13**, 36-44](https://pubs.acs.org/doi/10.1021/acschembio.7b00903)). In this case experts can judge manually, if an identified substructure is critical or not."
   ]
  },
  {
   "cell_type": "markdown",
   "metadata": {},
   "source": [
    "## Quiz\n",
    "* Why should we consider removing \"PAINS\" from a screening library? What is the issue with these compounds?\n",
    "* Can you find situations when some unwanted substructures would not need to be removed?\n",
    "* How are the substructures we used in this tutorial encoded?"
   ]
  }
 ],
 "metadata": {
  "kernelspec": {
   "display_name": "Python 3",
   "language": "python",
   "name": "python3"
  },
  "language_info": {
   "codemirror_mode": {
    "name": "ipython",
    "version": 3
   },
   "file_extension": ".py",
   "mimetype": "text/x-python",
   "name": "python",
   "nbconvert_exporter": "python",
   "pygments_lexer": "ipython3",
   "version": "3.8.6"
  },
  "toc-autonumbering": true
 },
 "nbformat": 4,
 "nbformat_minor": 4
}
