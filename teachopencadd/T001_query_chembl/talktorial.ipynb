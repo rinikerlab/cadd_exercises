{
 "cells": [
  {
   "cell_type": "markdown",
   "metadata": {},
   "source": [
    "# T001 · Compound data acquisition (ChEMBL)\n",
    "\n",
    "Authors:\n",
    "\n",
    "- Svetlana Leng, CADD seminar 2017, Volkamer lab, Charité/FU Berlin \n",
    "- Paula Junge, CADD seminar 2018, Volkamer lab, Charité/FU Berlin\n",
    "- Dominique Sydow, 2019-2020, [Volkamer lab, Charité](https://volkamerlab.org/)\n",
    "- Andrea Volkamer, 2020, [Volkamer lab, Charité](https://volkamerlab.org/)\n",
    "- Yonghui Chen, 2020, [Volkamer lab, Charité](https://volkamerlab.org/)"
   ]
  },
  {
   "cell_type": "markdown",
   "metadata": {},
   "source": [
    "__Talktorial T001__: This talktorial is part of the TeachOpenCADD pipeline described in the [first TeachOpenCADD paper](https://jcheminf.biomedcentral.com/articles/10.1186/s13321-019-0351-x), comprising of talktorials T001-T010."
   ]
  },
  {
   "cell_type": "markdown",
   "metadata": {},
   "source": [
    "## Aim of this talktorial\n",
    "\n",
    "In this notebook, we will learn more about the ChEMBL database and how to extract data from ChEMBL, i.e. (compound, activity data) pairs for a target of interest. These data sets can be used for many cheminformatics tasks, such as similarity search, clustering or machine learning.\n",
    "\n",
    "Our work here will include finding compounds which were tested against a certain target and filtering available bioactivity data."
   ]
  },
  {
   "cell_type": "markdown",
   "metadata": {},
   "source": [
    "### Contents in *Theory*\n",
    "\n",
    "* ChEMBL database\n",
    "    * ChEMBL web services\n",
    "    * ChEMBL webresource client\n",
    "* Compound activity measures\n",
    "    * IC50 measure\n",
    "    * pIC50 value"
   ]
  },
  {
   "cell_type": "markdown",
   "metadata": {},
   "source": [
    "### Contents in *Practical*\n",
    "    \n",
    "**Goal: Get a list of compounds with bioactivity data for a given target**\n",
    "\n",
    "* Connect to ChEMBL database\n",
    "* Get target data (example: EGFR kinase)\n",
    "    * Fetch and download target data\n",
    "    * Select target ChEMBL ID\n",
    "* Get bioactivity data\n",
    "    * Fetch and download bioactivity data for target\n",
    "    * Preprocess and filter bioactivities\n",
    "* Get compound data\n",
    "    * Fetch and download compound data\n",
    "    * Preprocess and filter compound data\n",
    "* Output bioactivity-compound data\n",
    "    * Merge bioactivity and compound data, and add pIC50 values\n",
    "    * Draw molecules with highest pIC50\n",
    "    * Write output file"
   ]
  },
  {
   "cell_type": "markdown",
   "metadata": {},
   "source": [
    "### References\n",
    "\n",
    "* ChEMBL bioactivity database: [Gaulton *et al.*, <i>Nucleic Acids Res.</i> (2017), 45(Database issue), D945–D954](https://www.ncbi.nlm.nih.gov/pmc/articles/PMC5210557/)\n",
    "* ChEMBL web services: [Davies *et al.*, <i>Nucleic Acids Res.</i> (2015), <b>43</b>, 612-620](https://academic.oup.com/nar/article/43/W1/W612/2467881) \n",
    "* [ChEMBL web-interface](https://www.ebi.ac.uk/chembl/)\n",
    "*  GitHub [ChEMBL webrescource client](https://github.com/chembl/chembl_webresource_client)\n",
    "* [myChEMBL web services version 2.x](https://github.com/chembl/mychembl/blob/master/ipython_notebooks/09_myChEMBL_web_services.ipynb)\n",
    "* The EBI RDF platform: [Jupp *et al.*, <i>Bioinformatics </i> (2014), 30(9), 1338-9](https://www.ncbi.nlm.nih.gov/pubmed/24413672)\n",
    "* Info on half maximal inhibitory concentration: [(p)IC50](https://en.wikipedia.org/wiki/IC50)\n",
    "* [UniProt website](https://www.uniprot.org/)"
   ]
  },
  {
   "cell_type": "markdown",
   "metadata": {},
   "source": [
    "## Theory"
   ]
  },
  {
   "cell_type": "markdown",
   "metadata": {},
   "source": [
    "### ChEMBL database\n",
    ">\"ChEMBL is a manually curated database of bioactive molecules with drug-like properties. It brings together chemical, bioactivity and genomic data to aid the translation of genomic information into effective new drugs.\" ([ChEMBL website](https://www.ebi.ac.uk/chembl/))\n",
    "\n",
    "* Open large-scale bioactivity database\n",
    "* **Current data content (as of 09.2020, ChEMBL 27):**\n",
    "    * \\>1.9 million distinct compounds\n",
    "    * \\>16 million activity values\n",
    "    * Assays are mapped to ~13,000 targets\n",
    "* **Data sources** include scientific literature, PubChem bioassays, Drugs for Neglected Diseases Initiative (DNDi), BindingDB database, ...\n",
    "* ChEMBL data can be accessed via a [web-interface](https://www.ebi.ac.uk/chembl/), the [EBI-RDF platform](https://www.ncbi.nlm.nih.gov/pubmed/24413672) and the [ChEMBL web services](https://github.com/chembl/mychembl/blob/master/ipython_notebooks/09_myChEMBL_web_services.ipynb)"
   ]
  },
  {
   "cell_type": "markdown",
   "metadata": {},
   "source": [
    "#### ChEMBL web services\n",
    "\n",
    "* RESTful web service\n",
    "* ChEMBL web service version 2.x resource schema: \n",
    "\n",
    "![ChEMBL web service schema](images/chembl_webservices_schema_diagram.jpg)\n",
    "\n",
    "*Figure 1:* \n",
    "\"[ChEMBL web service schema diagram](https://www.ncbi.nlm.nih.gov/pmc/articles/PMC4489243/figure/F2/). The oval shapes represent ChEMBL web service resources and the line between two resources indicates that they share a common attribute. The arrow direction shows where the primary information about a resource type can be found. A dashed line indicates the relationship between two resources behaves differently. For example, the `Image` resource provides a graphical based representation of a `Molecule`.\"\n",
    "Figure and description taken from: [<i>Nucleic Acids Res.</i> (2015), <b>43</b>, 612-620](https://academic.oup.com/nar/article/43/W1/W612/2467881)."
   ]
  },
  {
   "cell_type": "markdown",
   "metadata": {},
   "source": [
    "#### ChEMBL webresource client\n",
    "\n",
    "* Python client library for accessing ChEMBL data\n",
    "* Handles interaction with the HTTPS protocol\n",
    "* Lazy evaluation of results -> reduced number of network requests"
   ]
  },
  {
   "cell_type": "markdown",
   "metadata": {},
   "source": [
    "### Compound activity measures"
   ]
  },
  {
   "cell_type": "markdown",
   "metadata": {},
   "source": [
    "#### IC50 measure\n",
    "\n",
    "* [Half maximal inhibitory concentration](https://en.wikipedia.org/wiki/IC50)\n",
    "* Indicates how much of a particular drug or other substance is needed to inhibit a given biological process by half\n",
    "\n",
    "![Wiki_Example_IC50_curve_demonstrating_visually_how_IC50_is_derived](images/Wiki_Example_IC50_curve_demonstrating_visually_how_IC50_is_derived.png)\n",
    "\n",
    "*Figure 2:* Visual demonstration of how to derive an IC50 value: \n",
    "(i) Arrange inhibition data on y-axis and log(concentration) on x-axis. (ii) Identify maximum and minimum inhibition. (iii) The IC50 is the concentration at which the curve passes through the 50% inhibition level. Figure [\"Example IC50 curve demonstrating visually how IC50 is derived\"](https://en.wikipedia.org/wiki/IC50#/media/File:Example_IC50_curve_demonstrating_visually_how_IC50_is_derived.png) by JesseAlanGordon is licensed under [CC BY-SA 3.0](https://creativecommons.org/licenses/by-sa/3.0/)."
   ]
  },
  {
   "cell_type": "markdown",
   "metadata": {},
   "source": [
    "#### pIC50 value\n",
    "\n",
    "* To facilitate the comparison of IC50 values, which have a large value range and are given in different units (M, nM, ...), often pIC50 values are used\n",
    "* The pIC50 is the negative log of the IC50 value when converted to molar units: \n",
    "    $ pIC_{50} = -log_{10}(IC_{50}) $, where $ IC_{50}$ is specified in units of M\n",
    "* Higher pIC50 values indicate exponentially greater potency of the drug\n",
    "* Note that the conversion can be adapted to the respective IC50 unit, e.g. for nM: $pIC_{50} = -log_{10}(IC_{50}*10^{-9})= 9-log_{10}(IC_{50}) $\n",
    "\n",
    "Other activity measures:\n",
    "\n",
    "Besides, IC50 and pIC50, other bioactivity measures are used, such as the equilibrium constant [KI](https://en.wikipedia.org/wiki/Equilibrium_constant) and the half maximal effective concentration  [EC50](https://en.wikipedia.org/wiki/EC50)."
   ]
  },
  {
   "cell_type": "markdown",
   "metadata": {},
   "source": [
    "## Practical\n",
    "\n",
    "In the following, we want to download all molecules that have been tested against our target of interest, the **epidermal growth factor receptor** ([**EGFR**](https://www.uniprot.org/uniprot/P00533)) kinase."
   ]
  },
  {
   "cell_type": "markdown",
   "metadata": {},
   "source": [
    "### Connect to ChEMBL database"
   ]
  },
  {
   "cell_type": "markdown",
   "metadata": {},
   "source": [
    "First, the ChEMBL webresource client as well as other python libraries are imported."
   ]
  },
  {
   "cell_type": "code",
   "execution_count": 1,
   "metadata": {},
   "outputs": [],
   "source": [
    "import math\n",
    "import pickle\n",
    "from pathlib import Path\n",
    "from zipfile import ZipFile\n",
    "from tempfile import TemporaryDirectory\n",
    "import numpy as np\n",
    "import pandas as pd\n",
    "from rdkit.Chem import PandasTools\n",
    "from chembl_webresource_client.new_client import new_client"
   ]
  },
  {
   "cell_type": "code",
   "execution_count": 2,
   "metadata": {},
   "outputs": [],
   "source": [
    "HERE = Path(_dh[-1])\n",
    "DATA = HERE / \"data\""
   ]
  },
  {
   "cell_type": "markdown",
   "metadata": {},
   "source": [
    "Next, we create resource objects for API access."
   ]
  },
  {
   "cell_type": "code",
   "execution_count": 3,
   "metadata": {},
   "outputs": [],
   "source": [
    "targets_api = new_client.target\n",
    "compounds_api = new_client.molecule\n",
    "bioactivities_api = new_client.activity"
   ]
  },
  {
   "cell_type": "code",
   "execution_count": 4,
   "metadata": {},
   "outputs": [
    {
     "data": {
      "text/plain": [
       "chembl_webresource_client.query_set.QuerySet"
      ]
     },
     "execution_count": 4,
     "metadata": {},
     "output_type": "execute_result"
    }
   ],
   "source": [
    "type(targets_api)"
   ]
  },
  {
   "cell_type": "markdown",
   "metadata": {},
   "source": [
    "### Get target data (EGFR kinase)\n",
    "\n",
    "* Get UniProt ID of the target of interest (EGFR kinase:  [P00533](http://www.uniprot.org/uniprot/P00533)) from [UniProt website](https://www.uniprot.org/)\n",
    "* Use UniProt ID to get target information\n",
    "\n",
    "Select a different UniProt ID, if you are interested in another target."
   ]
  },
  {
   "cell_type": "code",
   "execution_count": 5,
   "metadata": {},
   "outputs": [],
   "source": [
    "uniprot_id = \"P00533\""
   ]
  },
  {
   "cell_type": "markdown",
   "metadata": {},
   "source": [
    "#### Fetch target data from ChEMBL"
   ]
  },
  {
   "cell_type": "code",
   "execution_count": 6,
   "metadata": {},
   "outputs": [
    {
     "name": "stdout",
     "output_type": "stream",
     "text": [
      "The type of the targets is \"<class 'chembl_webresource_client.query_set.QuerySet'>\"\n"
     ]
    }
   ],
   "source": [
    "# Get target information from ChEMBL but restrict it to specified values only\n",
    "targets = targets_api.get(target_components__accession=uniprot_id).only(\n",
    "    \"target_chembl_id\", \"organism\", \"pref_name\", \"target_type\"\n",
    ")\n",
    "print(f'The type of the targets is \"{type(targets)}\"')"
   ]
  },
  {
   "cell_type": "markdown",
   "metadata": {},
   "source": [
    "#### Download target data from ChEMBL\n",
    "\n",
    "The results of the query are stored in `targets`, a `QuerySet`, i.e. the results are not fetched from ChEMBL until we ask for it (here using `pandas.DataFrame.from_records`).\n",
    "\n",
    "More information about the `QuerySet` datatype:\n",
    "\n",
    "> QuerySets are lazy – the act of creating a QuerySet does not involve any database activity. You can stack filters together all day long, and Django will actually not run the query until the QuerySet is evaluated. \n",
    "([querysets-are-lazy](https://docs.djangoproject.com/en/3.0/topics/db/queries/#querysets-are-lazy))"
   ]
  },
  {
   "cell_type": "code",
   "execution_count": 7,
   "metadata": {},
   "outputs": [
    {
     "data": {
      "text/html": [
       "<div>\n",
       "<style scoped>\n",
       "    .dataframe tbody tr th:only-of-type {\n",
       "        vertical-align: middle;\n",
       "    }\n",
       "\n",
       "    .dataframe tbody tr th {\n",
       "        vertical-align: top;\n",
       "    }\n",
       "\n",
       "    .dataframe thead th {\n",
       "        text-align: right;\n",
       "    }\n",
       "</style>\n",
       "<table border=\"1\" class=\"dataframe\">\n",
       "  <thead>\n",
       "    <tr style=\"text-align: right;\">\n",
       "      <th></th>\n",
       "      <th>organism</th>\n",
       "      <th>pref_name</th>\n",
       "      <th>target_chembl_id</th>\n",
       "      <th>target_type</th>\n",
       "    </tr>\n",
       "  </thead>\n",
       "  <tbody>\n",
       "    <tr>\n",
       "      <th>0</th>\n",
       "      <td>Homo sapiens</td>\n",
       "      <td>Epidermal growth factor receptor erbB1</td>\n",
       "      <td>CHEMBL203</td>\n",
       "      <td>SINGLE PROTEIN</td>\n",
       "    </tr>\n",
       "    <tr>\n",
       "      <th>1</th>\n",
       "      <td>Homo sapiens</td>\n",
       "      <td>Epidermal growth factor receptor erbB1</td>\n",
       "      <td>CHEMBL203</td>\n",
       "      <td>SINGLE PROTEIN</td>\n",
       "    </tr>\n",
       "    <tr>\n",
       "      <th>2</th>\n",
       "      <td>Homo sapiens</td>\n",
       "      <td>Epidermal growth factor receptor and ErbB2 (HE...</td>\n",
       "      <td>CHEMBL2111431</td>\n",
       "      <td>PROTEIN FAMILY</td>\n",
       "    </tr>\n",
       "    <tr>\n",
       "      <th>3</th>\n",
       "      <td>Homo sapiens</td>\n",
       "      <td>Epidermal growth factor receptor</td>\n",
       "      <td>CHEMBL2363049</td>\n",
       "      <td>PROTEIN FAMILY</td>\n",
       "    </tr>\n",
       "    <tr>\n",
       "      <th>4</th>\n",
       "      <td>Homo sapiens</td>\n",
       "      <td>MER intracellular domain/EGFR extracellular do...</td>\n",
       "      <td>CHEMBL3137284</td>\n",
       "      <td>CHIMERIC PROTEIN</td>\n",
       "    </tr>\n",
       "    <tr>\n",
       "      <th>5</th>\n",
       "      <td>Homo sapiens</td>\n",
       "      <td>Protein cereblon/Epidermal growth factor receptor</td>\n",
       "      <td>CHEMBL4523680</td>\n",
       "      <td>PROTEIN-PROTEIN INTERACTION</td>\n",
       "    </tr>\n",
       "    <tr>\n",
       "      <th>6</th>\n",
       "      <td>Homo sapiens</td>\n",
       "      <td>EGFR/PPP1CA</td>\n",
       "      <td>CHEMBL4523747</td>\n",
       "      <td>PROTEIN-PROTEIN INTERACTION</td>\n",
       "    </tr>\n",
       "    <tr>\n",
       "      <th>7</th>\n",
       "      <td>Homo sapiens</td>\n",
       "      <td>VHL/EGFR</td>\n",
       "      <td>CHEMBL4523998</td>\n",
       "      <td>PROTEIN-PROTEIN INTERACTION</td>\n",
       "    </tr>\n",
       "    <tr>\n",
       "      <th>8</th>\n",
       "      <td>Homo sapiens</td>\n",
       "      <td>Baculoviral IAP repeat-containing protein 2/Ep...</td>\n",
       "      <td>CHEMBL4802031</td>\n",
       "      <td>PROTEIN-PROTEIN INTERACTION</td>\n",
       "    </tr>\n",
       "  </tbody>\n",
       "</table>\n",
       "</div>"
      ],
      "text/plain": [
       "       organism                                          pref_name  \\\n",
       "0  Homo sapiens             Epidermal growth factor receptor erbB1   \n",
       "1  Homo sapiens             Epidermal growth factor receptor erbB1   \n",
       "2  Homo sapiens  Epidermal growth factor receptor and ErbB2 (HE...   \n",
       "3  Homo sapiens                   Epidermal growth factor receptor   \n",
       "4  Homo sapiens  MER intracellular domain/EGFR extracellular do...   \n",
       "5  Homo sapiens  Protein cereblon/Epidermal growth factor receptor   \n",
       "6  Homo sapiens                                        EGFR/PPP1CA   \n",
       "7  Homo sapiens                                           VHL/EGFR   \n",
       "8  Homo sapiens  Baculoviral IAP repeat-containing protein 2/Ep...   \n",
       "\n",
       "  target_chembl_id                  target_type  \n",
       "0        CHEMBL203               SINGLE PROTEIN  \n",
       "1        CHEMBL203               SINGLE PROTEIN  \n",
       "2    CHEMBL2111431               PROTEIN FAMILY  \n",
       "3    CHEMBL2363049               PROTEIN FAMILY  \n",
       "4    CHEMBL3137284             CHIMERIC PROTEIN  \n",
       "5    CHEMBL4523680  PROTEIN-PROTEIN INTERACTION  \n",
       "6    CHEMBL4523747  PROTEIN-PROTEIN INTERACTION  \n",
       "7    CHEMBL4523998  PROTEIN-PROTEIN INTERACTION  \n",
       "8    CHEMBL4802031  PROTEIN-PROTEIN INTERACTION  "
      ]
     },
     "execution_count": 7,
     "metadata": {},
     "output_type": "execute_result"
    }
   ],
   "source": [
    "targets = pd.DataFrame.from_records(targets)\n",
    "targets"
   ]
  },
  {
   "cell_type": "markdown",
   "metadata": {},
   "source": [
    "#### Select target (target ChEMBL ID)\n",
    "\n",
    "After checking the entries, we select the first entry as our target of interest:\n",
    "\n",
    "`CHEMBL203`: It is a single protein and represents the human Epidermal growth factor receptor (EGFR, also named erbB1) "
   ]
  },
  {
   "cell_type": "code",
   "execution_count": 8,
   "metadata": {},
   "outputs": [
    {
     "data": {
      "text/plain": [
       "organism                                      Homo sapiens\n",
       "pref_name           Epidermal growth factor receptor erbB1\n",
       "target_chembl_id                                 CHEMBL203\n",
       "target_type                                 SINGLE PROTEIN\n",
       "Name: 0, dtype: object"
      ]
     },
     "execution_count": 8,
     "metadata": {},
     "output_type": "execute_result"
    }
   ],
   "source": [
    "target = targets.iloc[0]\n",
    "target"
   ]
  },
  {
   "cell_type": "markdown",
   "metadata": {},
   "source": [
    "Save selected ChEMBL ID."
   ]
  },
  {
   "cell_type": "code",
   "execution_count": 9,
   "metadata": {},
   "outputs": [
    {
     "name": "stdout",
     "output_type": "stream",
     "text": [
      "The target ChEMBL ID is CHEMBL203\n"
     ]
    }
   ],
   "source": [
    "chembl_id = target.target_chembl_id\n",
    "print(f\"The target ChEMBL ID is {chembl_id}\")\n",
    "# NBVAL_CHECK_OUTPUT"
   ]
  },
  {
   "cell_type": "markdown",
   "metadata": {},
   "source": [
    "### Get bioactivity data\n",
    "\n",
    "Now, we want to query bioactivity data for the target of interest."
   ]
  },
  {
   "cell_type": "markdown",
   "metadata": {},
   "source": [
    "#### Fetch bioactivity data for the target from ChEMBL"
   ]
  },
  {
   "cell_type": "markdown",
   "metadata": {},
   "source": [
    "In this step, we fetch the bioactivity data and filter it to only consider\n",
    "\n",
    "* human proteins, \n",
    "* bioactivity type IC50, \n",
    "* exact measurements (relation `'='`), and\n",
    "* binding data (assay type `'B'`)."
   ]
  },
  {
   "cell_type": "code",
   "execution_count": 10,
   "metadata": {},
   "outputs": [
    {
     "name": "stdout",
     "output_type": "stream",
     "text": [
      "Length and type of bioactivities object: 9429, <class 'chembl_webresource_client.query_set.QuerySet'>\n"
     ]
    }
   ],
   "source": [
    "bioactivities = bioactivities_api.filter(\n",
    "    target_chembl_id=chembl_id, type=\"IC50\", relation=\"=\", assay_type=\"B\"\n",
    ").only(\n",
    "    \"activity_id\",\n",
    "    \"assay_chembl_id\",\n",
    "    \"assay_description\",\n",
    "    \"assay_type\",\n",
    "    \"molecule_chembl_id\",\n",
    "    \"type\",\n",
    "    \"standard_units\",\n",
    "    \"relation\",\n",
    "    \"standard_value\",\n",
    "    \"target_chembl_id\",\n",
    "    \"target_organism\",\n",
    ")\n",
    "\n",
    "print(f\"Length and type of bioactivities object: {len(bioactivities)}, {type(bioactivities)}\")\n",
    "# NBVAL_CHECK_OUTPUT"
   ]
  },
  {
   "cell_type": "markdown",
   "metadata": {},
   "source": [
    "Our bioactivity set contains 8816 entries, each holding the following information."
   ]
  },
  {
   "cell_type": "code",
   "execution_count": 11,
   "metadata": {},
   "outputs": [
    {
     "name": "stdout",
     "output_type": "stream",
     "text": [
      "Length and type of first element: 13, <class 'dict'>\n"
     ]
    },
    {
     "data": {
      "text/plain": [
       "{'activity_id': 32260,\n",
       " 'assay_chembl_id': 'CHEMBL674637',\n",
       " 'assay_description': 'Inhibitory activity towards tyrosine phosphorylation for the epidermal growth factor-receptor kinase',\n",
       " 'assay_type': 'B',\n",
       " 'molecule_chembl_id': 'CHEMBL68920',\n",
       " 'relation': '=',\n",
       " 'standard_units': 'nM',\n",
       " 'standard_value': '41.0',\n",
       " 'target_chembl_id': 'CHEMBL203',\n",
       " 'target_organism': 'Homo sapiens',\n",
       " 'type': 'IC50',\n",
       " 'units': 'uM',\n",
       " 'value': '0.041'}"
      ]
     },
     "execution_count": 11,
     "metadata": {},
     "output_type": "execute_result"
    }
   ],
   "source": [
    "print(f\"Length and type of first element: {len(bioactivities[0])}, {type(bioactivities[0])}\")\n",
    "bioactivities[0]"
   ]
  },
  {
   "cell_type": "markdown",
   "metadata": {},
   "source": [
    "#### Download bioactivity data from ChEMBL"
   ]
  },
  {
   "cell_type": "markdown",
   "metadata": {},
   "source": [
    "Finally, we download the `QuerySet` in the form of a `pandas` `DataFrame`. \n",
    "\n",
    "> **Note**: This step should not take more than 2 minutes, if so try to rerun all cells starting from _\"Fetch bioactivity data for the target from ChEMBL\"_ or read this message below:\n",
    "\n",
    "<details>\n",
    "    \n",
    "<summary>Load a local version of the data (in case you encounter any problems while fetching the data)</summary>\n",
    "    \n",
    "If you experience difficulties to query the ChEMBL database, we also provide the resulting dataframe you will construct in the cell below. If you want to use the saved version, use the following code instead to obtain `bioactivities_df`:\n",
    "  \n",
    "```python\n",
    "# replace first line in cell below with this other line\n",
    "bioactivities_df = pd.read_csv(DATA / \"EGFR_compounds_CHEMBL27.csv.zip\", index_col=0)\n",
    "```\n",
    "\n",
    "</details>"
   ]
  },
  {
   "cell_type": "code",
   "execution_count": 12,
   "metadata": {},
   "outputs": [
    {
     "data": {
      "text/html": [
       "<div>\n",
       "<style scoped>\n",
       "    .dataframe tbody tr th:only-of-type {\n",
       "        vertical-align: middle;\n",
       "    }\n",
       "\n",
       "    .dataframe tbody tr th {\n",
       "        vertical-align: top;\n",
       "    }\n",
       "\n",
       "    .dataframe thead th {\n",
       "        text-align: right;\n",
       "    }\n",
       "</style>\n",
       "<table border=\"1\" class=\"dataframe\">\n",
       "  <thead>\n",
       "    <tr style=\"text-align: right;\">\n",
       "      <th></th>\n",
       "      <th>activity_id</th>\n",
       "      <th>assay_chembl_id</th>\n",
       "      <th>assay_description</th>\n",
       "      <th>assay_type</th>\n",
       "      <th>molecule_chembl_id</th>\n",
       "      <th>relation</th>\n",
       "      <th>standard_units</th>\n",
       "      <th>standard_value</th>\n",
       "      <th>target_chembl_id</th>\n",
       "      <th>target_organism</th>\n",
       "      <th>type</th>\n",
       "      <th>units</th>\n",
       "      <th>value</th>\n",
       "    </tr>\n",
       "  </thead>\n",
       "  <tbody>\n",
       "    <tr>\n",
       "      <th>0</th>\n",
       "      <td>32260</td>\n",
       "      <td>CHEMBL674637</td>\n",
       "      <td>Inhibitory activity towards tyrosine phosphory...</td>\n",
       "      <td>B</td>\n",
       "      <td>CHEMBL68920</td>\n",
       "      <td>=</td>\n",
       "      <td>nM</td>\n",
       "      <td>41.0</td>\n",
       "      <td>CHEMBL203</td>\n",
       "      <td>Homo sapiens</td>\n",
       "      <td>IC50</td>\n",
       "      <td>uM</td>\n",
       "      <td>0.041</td>\n",
       "    </tr>\n",
       "    <tr>\n",
       "      <th>1</th>\n",
       "      <td>32260</td>\n",
       "      <td>CHEMBL674637</td>\n",
       "      <td>Inhibitory activity towards tyrosine phosphory...</td>\n",
       "      <td>B</td>\n",
       "      <td>CHEMBL68920</td>\n",
       "      <td>=</td>\n",
       "      <td>nM</td>\n",
       "      <td>41.0</td>\n",
       "      <td>CHEMBL203</td>\n",
       "      <td>Homo sapiens</td>\n",
       "      <td>IC50</td>\n",
       "      <td>uM</td>\n",
       "      <td>0.041</td>\n",
       "    </tr>\n",
       "    <tr>\n",
       "      <th>2</th>\n",
       "      <td>32267</td>\n",
       "      <td>CHEMBL674637</td>\n",
       "      <td>Inhibitory activity towards tyrosine phosphory...</td>\n",
       "      <td>B</td>\n",
       "      <td>CHEMBL69960</td>\n",
       "      <td>=</td>\n",
       "      <td>nM</td>\n",
       "      <td>170.0</td>\n",
       "      <td>CHEMBL203</td>\n",
       "      <td>Homo sapiens</td>\n",
       "      <td>IC50</td>\n",
       "      <td>uM</td>\n",
       "      <td>0.17</td>\n",
       "    </tr>\n",
       "    <tr>\n",
       "      <th>3</th>\n",
       "      <td>32680</td>\n",
       "      <td>CHEMBL677833</td>\n",
       "      <td>In vitro inhibition of Epidermal growth factor...</td>\n",
       "      <td>B</td>\n",
       "      <td>CHEMBL137635</td>\n",
       "      <td>=</td>\n",
       "      <td>nM</td>\n",
       "      <td>9300.0</td>\n",
       "      <td>CHEMBL203</td>\n",
       "      <td>Homo sapiens</td>\n",
       "      <td>IC50</td>\n",
       "      <td>uM</td>\n",
       "      <td>9.3</td>\n",
       "    </tr>\n",
       "    <tr>\n",
       "      <th>4</th>\n",
       "      <td>32770</td>\n",
       "      <td>CHEMBL674643</td>\n",
       "      <td>Inhibitory concentration of EGF dependent auto...</td>\n",
       "      <td>B</td>\n",
       "      <td>CHEMBL306988</td>\n",
       "      <td>=</td>\n",
       "      <td>nM</td>\n",
       "      <td>500000.0</td>\n",
       "      <td>CHEMBL203</td>\n",
       "      <td>Homo sapiens</td>\n",
       "      <td>IC50</td>\n",
       "      <td>uM</td>\n",
       "      <td>500.0</td>\n",
       "    </tr>\n",
       "  </tbody>\n",
       "</table>\n",
       "</div>"
      ],
      "text/plain": [
       "   activity_id assay_chembl_id  \\\n",
       "0        32260    CHEMBL674637   \n",
       "1        32260    CHEMBL674637   \n",
       "2        32267    CHEMBL674637   \n",
       "3        32680    CHEMBL677833   \n",
       "4        32770    CHEMBL674643   \n",
       "\n",
       "                                   assay_description assay_type  \\\n",
       "0  Inhibitory activity towards tyrosine phosphory...          B   \n",
       "1  Inhibitory activity towards tyrosine phosphory...          B   \n",
       "2  Inhibitory activity towards tyrosine phosphory...          B   \n",
       "3  In vitro inhibition of Epidermal growth factor...          B   \n",
       "4  Inhibitory concentration of EGF dependent auto...          B   \n",
       "\n",
       "  molecule_chembl_id relation standard_units standard_value target_chembl_id  \\\n",
       "0        CHEMBL68920        =             nM           41.0        CHEMBL203   \n",
       "1        CHEMBL68920        =             nM           41.0        CHEMBL203   \n",
       "2        CHEMBL69960        =             nM          170.0        CHEMBL203   \n",
       "3       CHEMBL137635        =             nM         9300.0        CHEMBL203   \n",
       "4       CHEMBL306988        =             nM       500000.0        CHEMBL203   \n",
       "\n",
       "  target_organism  type units  value  \n",
       "0    Homo sapiens  IC50    uM  0.041  \n",
       "1    Homo sapiens  IC50    uM  0.041  \n",
       "2    Homo sapiens  IC50    uM   0.17  \n",
       "3    Homo sapiens  IC50    uM    9.3  \n",
       "4    Homo sapiens  IC50    uM  500.0  "
      ]
     },
     "execution_count": 12,
     "metadata": {},
     "output_type": "execute_result"
    }
   ],
   "source": [
    "if 0:\n",
    "    bioactivities_df = pd.DataFrame.from_records(bioactivities)\n",
    "    print(f\"DataFrame shape: {bioactivities_df.shape}\")\n",
    "    with open(DATA / \"egfr_data.pkl\",'wb+') as outf:\n",
    "        pickle.dump(bioactivities_df,outf)\n",
    "else:\n",
    "    with open(DATA / \"egfr_data.pkl\",'rb') as inf:\n",
    "        bioactivities_df = pickle.load(inf)\n",
    "bioactivities_df.head()"
   ]
  },
  {
   "cell_type": "markdown",
   "metadata": {},
   "source": [
    "Note, that we have columns for `standard_units`/`units` and `standard_values`/`values` - in the following we will use the standardized columns (standardization by ChEMBL). Thus, we drop the other two columns.\n",
    "\n",
    "If we used the `units` and `values` columns, we would need to convert all values with many different units to nM:"
   ]
  },
  {
   "cell_type": "code",
   "execution_count": 13,
   "metadata": {},
   "outputs": [
    {
     "data": {
      "text/plain": [
       "array(['uM', 'nM', 'pM', 'M', \"10'3 uM\", \"10'1 ug/ml\", 'ug ml-1',\n",
       "       \"10'-1microM\", \"10'1 uM\", \"10'-1 ug/ml\", \"10'-2 ug/ml\", \"10'2 uM\",\n",
       "       \"10'-3 ug/ml\", \"10'-2microM\", '/uM', \"10'-6g/ml\", 'mM', 'umol/L',\n",
       "       'nmol/L', \"10'-10M\", \"10'-7M\", 'nmol'], dtype=object)"
      ]
     },
     "execution_count": 13,
     "metadata": {},
     "output_type": "execute_result"
    }
   ],
   "source": [
    "bioactivities_df[\"units\"].unique()"
   ]
  },
  {
   "cell_type": "code",
   "execution_count": 14,
   "metadata": {},
   "outputs": [
    {
     "data": {
      "text/html": [
       "<div>\n",
       "<style scoped>\n",
       "    .dataframe tbody tr th:only-of-type {\n",
       "        vertical-align: middle;\n",
       "    }\n",
       "\n",
       "    .dataframe tbody tr th {\n",
       "        vertical-align: top;\n",
       "    }\n",
       "\n",
       "    .dataframe thead th {\n",
       "        text-align: right;\n",
       "    }\n",
       "</style>\n",
       "<table border=\"1\" class=\"dataframe\">\n",
       "  <thead>\n",
       "    <tr style=\"text-align: right;\">\n",
       "      <th></th>\n",
       "      <th>activity_id</th>\n",
       "      <th>assay_chembl_id</th>\n",
       "      <th>assay_description</th>\n",
       "      <th>assay_type</th>\n",
       "      <th>molecule_chembl_id</th>\n",
       "      <th>relation</th>\n",
       "      <th>standard_units</th>\n",
       "      <th>standard_value</th>\n",
       "      <th>target_chembl_id</th>\n",
       "      <th>target_organism</th>\n",
       "      <th>type</th>\n",
       "    </tr>\n",
       "  </thead>\n",
       "  <tbody>\n",
       "    <tr>\n",
       "      <th>0</th>\n",
       "      <td>32260</td>\n",
       "      <td>CHEMBL674637</td>\n",
       "      <td>Inhibitory activity towards tyrosine phosphory...</td>\n",
       "      <td>B</td>\n",
       "      <td>CHEMBL68920</td>\n",
       "      <td>=</td>\n",
       "      <td>nM</td>\n",
       "      <td>41.0</td>\n",
       "      <td>CHEMBL203</td>\n",
       "      <td>Homo sapiens</td>\n",
       "      <td>IC50</td>\n",
       "    </tr>\n",
       "    <tr>\n",
       "      <th>1</th>\n",
       "      <td>32260</td>\n",
       "      <td>CHEMBL674637</td>\n",
       "      <td>Inhibitory activity towards tyrosine phosphory...</td>\n",
       "      <td>B</td>\n",
       "      <td>CHEMBL68920</td>\n",
       "      <td>=</td>\n",
       "      <td>nM</td>\n",
       "      <td>41.0</td>\n",
       "      <td>CHEMBL203</td>\n",
       "      <td>Homo sapiens</td>\n",
       "      <td>IC50</td>\n",
       "    </tr>\n",
       "    <tr>\n",
       "      <th>2</th>\n",
       "      <td>32267</td>\n",
       "      <td>CHEMBL674637</td>\n",
       "      <td>Inhibitory activity towards tyrosine phosphory...</td>\n",
       "      <td>B</td>\n",
       "      <td>CHEMBL69960</td>\n",
       "      <td>=</td>\n",
       "      <td>nM</td>\n",
       "      <td>170.0</td>\n",
       "      <td>CHEMBL203</td>\n",
       "      <td>Homo sapiens</td>\n",
       "      <td>IC50</td>\n",
       "    </tr>\n",
       "    <tr>\n",
       "      <th>3</th>\n",
       "      <td>32680</td>\n",
       "      <td>CHEMBL677833</td>\n",
       "      <td>In vitro inhibition of Epidermal growth factor...</td>\n",
       "      <td>B</td>\n",
       "      <td>CHEMBL137635</td>\n",
       "      <td>=</td>\n",
       "      <td>nM</td>\n",
       "      <td>9300.0</td>\n",
       "      <td>CHEMBL203</td>\n",
       "      <td>Homo sapiens</td>\n",
       "      <td>IC50</td>\n",
       "    </tr>\n",
       "    <tr>\n",
       "      <th>4</th>\n",
       "      <td>32770</td>\n",
       "      <td>CHEMBL674643</td>\n",
       "      <td>Inhibitory concentration of EGF dependent auto...</td>\n",
       "      <td>B</td>\n",
       "      <td>CHEMBL306988</td>\n",
       "      <td>=</td>\n",
       "      <td>nM</td>\n",
       "      <td>500000.0</td>\n",
       "      <td>CHEMBL203</td>\n",
       "      <td>Homo sapiens</td>\n",
       "      <td>IC50</td>\n",
       "    </tr>\n",
       "  </tbody>\n",
       "</table>\n",
       "</div>"
      ],
      "text/plain": [
       "   activity_id assay_chembl_id  \\\n",
       "0        32260    CHEMBL674637   \n",
       "1        32260    CHEMBL674637   \n",
       "2        32267    CHEMBL674637   \n",
       "3        32680    CHEMBL677833   \n",
       "4        32770    CHEMBL674643   \n",
       "\n",
       "                                   assay_description assay_type  \\\n",
       "0  Inhibitory activity towards tyrosine phosphory...          B   \n",
       "1  Inhibitory activity towards tyrosine phosphory...          B   \n",
       "2  Inhibitory activity towards tyrosine phosphory...          B   \n",
       "3  In vitro inhibition of Epidermal growth factor...          B   \n",
       "4  Inhibitory concentration of EGF dependent auto...          B   \n",
       "\n",
       "  molecule_chembl_id relation standard_units standard_value target_chembl_id  \\\n",
       "0        CHEMBL68920        =             nM           41.0        CHEMBL203   \n",
       "1        CHEMBL68920        =             nM           41.0        CHEMBL203   \n",
       "2        CHEMBL69960        =             nM          170.0        CHEMBL203   \n",
       "3       CHEMBL137635        =             nM         9300.0        CHEMBL203   \n",
       "4       CHEMBL306988        =             nM       500000.0        CHEMBL203   \n",
       "\n",
       "  target_organism  type  \n",
       "0    Homo sapiens  IC50  \n",
       "1    Homo sapiens  IC50  \n",
       "2    Homo sapiens  IC50  \n",
       "3    Homo sapiens  IC50  \n",
       "4    Homo sapiens  IC50  "
      ]
     },
     "execution_count": 14,
     "metadata": {},
     "output_type": "execute_result"
    }
   ],
   "source": [
    "bioactivities_df.drop([\"units\", \"value\"], axis=1, inplace=True)\n",
    "bioactivities_df.head()"
   ]
  },
  {
   "cell_type": "markdown",
   "metadata": {},
   "source": [
    "#### Freeze bioactivity data to ChEMBL 27\n",
    "\n",
    "This is a technical step: Usually, we would continue to work with the dataset that we just downloaded (latest dataset). \n",
    "\n",
    "However, here on the TeachOpenCADD platform, we prefer to freeze the dataset to a certain ChEMBL releases (i.e. [ChEMBL 27](http://doi.org/10.6019/CHEMBL.database.27)), \n",
    "so that this talktorial and other talktorials downstream in our CADD pipeline do not change in the future (helping us to maintain the talktorials)."
   ]
  },
  {
   "cell_type": "markdown",
   "metadata": {},
   "source": [
    "This cell will load bioactivity IDs in ChEMBL 27 release from file `data/chembl27_activities.npz.zip`. We have to uncompress it to a temporary file first, and then load it with `numpy`.\n",
    "\n",
    "If you are interested, you can check out how this file was generated in `data/all_chembl_activities.ipynb`."
   ]
  },
  {
   "cell_type": "code",
   "execution_count": 15,
   "metadata": {},
   "outputs": [
    {
     "name": "stdout",
     "output_type": "stream",
     "text": [
      "Number of bioactivity values in full ChEMBL 27 release: 16066124\n"
     ]
    }
   ],
   "source": [
    "with ZipFile(DATA / \"chembl27_activities.npz.zip\") as z, TemporaryDirectory() as tmpdir:\n",
    "    z.extract(\"chembl27_activities.npz\", tmpdir)\n",
    "    with np.load(Path(tmpdir) / \"chembl27_activities.npz\") as f:\n",
    "        bioactivity_ids_chembl_27 = set(f[\"activities\"])\n",
    "\n",
    "print(f\"Number of bioactivity values in full ChEMBL 27 release: {len(bioactivity_ids_chembl_27)}\")\n",
    "# NBVAL_CHECK_OUTPUT"
   ]
  },
  {
   "cell_type": "markdown",
   "metadata": {},
   "source": [
    "Keep only bioactivities with bioactivity IDs from the ChEMBL 27 release."
   ]
  },
  {
   "cell_type": "code",
   "execution_count": 16,
   "metadata": {},
   "outputs": [
    {
     "name": "stdout",
     "output_type": "stream",
     "text": [
      "Number of bioactivities queried for EGFR in this notebook: 8817\n",
      "Number of bioactivities after ChEMBL 27 intersection: 8031\n"
     ]
    }
   ],
   "source": [
    "print(f\"Number of bioactivities queried for EGFR in this notebook: {bioactivities_df.shape[0]}\")\n",
    "# Get the intersection between the current and the frozen ChEMBL version\n",
    "bioactivities_df = bioactivities_df[\n",
    "    bioactivities_df[\"activity_id\"].isin(bioactivity_ids_chembl_27)\n",
    "].copy()\n",
    "# NBVAL_CHECK_OUTPUT\n",
    "print(f\"Number of bioactivities after ChEMBL 27 intersection: {bioactivities_df.shape[0]}\")"
   ]
  },
  {
   "cell_type": "markdown",
   "metadata": {},
   "source": [
    "Note: If these numbers are the same, it means the latest ChEMBL release is still ChEMBL 27. \n",
    "\n",
    "You can check out the current [ChEMBL](https://chembl.gitbook.io/chembl-interface-documentation/downloads) release."
   ]
  },
  {
   "cell_type": "markdown",
   "metadata": {},
   "source": [
    "#### Preprocess and filter bioactivity data\n",
    "\n",
    "1. Convert `standard_value`'s datatype from `object` to `float`\n",
    "2. Delete entries with missing values\n",
    "3. Keep only entries with `standard_unit == nM`\n",
    "4. Delete duplicate molecules\n",
    "5. Reset `DataFrame` index\n",
    "6. Rename columns"
   ]
  },
  {
   "cell_type": "markdown",
   "metadata": {},
   "source": [
    "**1. Convert datatype of \"standard_value\" from \"object\" to \"float\"**\n",
    "\n",
    "The field `standard_value` holds standardized (here IC50) values. In order to make these values usable in calculations later on, convert values to floats."
   ]
  },
  {
   "cell_type": "code",
   "execution_count": 17,
   "metadata": {},
   "outputs": [
    {
     "data": {
      "text/plain": [
       "activity_id            int64\n",
       "assay_chembl_id       object\n",
       "assay_description     object\n",
       "assay_type            object\n",
       "molecule_chembl_id    object\n",
       "relation              object\n",
       "standard_units        object\n",
       "standard_value        object\n",
       "target_chembl_id      object\n",
       "target_organism       object\n",
       "type                  object\n",
       "dtype: object"
      ]
     },
     "execution_count": 17,
     "metadata": {},
     "output_type": "execute_result"
    }
   ],
   "source": [
    "bioactivities_df.dtypes"
   ]
  },
  {
   "cell_type": "code",
   "execution_count": 18,
   "metadata": {},
   "outputs": [
    {
     "data": {
      "text/plain": [
       "activity_id             int64\n",
       "assay_chembl_id        object\n",
       "assay_description      object\n",
       "assay_type             object\n",
       "molecule_chembl_id     object\n",
       "relation               object\n",
       "standard_units         object\n",
       "standard_value        float64\n",
       "target_chembl_id       object\n",
       "target_organism        object\n",
       "type                   object\n",
       "dtype: object"
      ]
     },
     "execution_count": 18,
     "metadata": {},
     "output_type": "execute_result"
    }
   ],
   "source": [
    "bioactivities_df = bioactivities_df.astype({\"standard_value\": \"float64\"})\n",
    "bioactivities_df.dtypes"
   ]
  },
  {
   "cell_type": "markdown",
   "metadata": {},
   "source": [
    "**2. Delete entries with missing values**\n",
    "\n",
    "Use the parameter `inplace=True` to drop values in the current `DataFrame` directly."
   ]
  },
  {
   "cell_type": "code",
   "execution_count": 19,
   "metadata": {},
   "outputs": [
    {
     "name": "stdout",
     "output_type": "stream",
     "text": [
      "DataFrame shape: (8030, 11)\n"
     ]
    }
   ],
   "source": [
    "bioactivities_df.dropna(axis=0, how=\"any\", inplace=True)\n",
    "print(f\"DataFrame shape: {bioactivities_df.shape}\")"
   ]
  },
  {
   "cell_type": "markdown",
   "metadata": {},
   "source": [
    "**3. Keep only entries with \"standard_unit == nM\"** \n",
    "\n",
    "We only want to keep bioactivity entries in `nM`, thus we remove all entries with other units."
   ]
  },
  {
   "cell_type": "code",
   "execution_count": 20,
   "metadata": {},
   "outputs": [
    {
     "name": "stdout",
     "output_type": "stream",
     "text": [
      "Units in downloaded data: ['nM' 'ug.mL-1' '/uM']\n",
      "Number of non-nM entries:    64\n"
     ]
    }
   ],
   "source": [
    "print(f\"Units in downloaded data: {bioactivities_df['standard_units'].unique()}\")\n",
    "print(\n",
    "    f\"Number of non-nM entries:\\\n",
    "    {bioactivities_df[bioactivities_df['standard_units'] != 'nM'].shape[0]}\"\n",
    ")"
   ]
  },
  {
   "cell_type": "code",
   "execution_count": 21,
   "metadata": {},
   "outputs": [
    {
     "name": "stdout",
     "output_type": "stream",
     "text": [
      "Units after filtering: ['nM']\n"
     ]
    }
   ],
   "source": [
    "bioactivities_df = bioactivities_df[bioactivities_df[\"standard_units\"] == \"nM\"]\n",
    "print(f\"Units after filtering: {bioactivities_df['standard_units'].unique()}\")"
   ]
  },
  {
   "cell_type": "code",
   "execution_count": 22,
   "metadata": {},
   "outputs": [
    {
     "name": "stdout",
     "output_type": "stream",
     "text": [
      "DataFrame shape: (7966, 11)\n"
     ]
    }
   ],
   "source": [
    "print(f\"DataFrame shape: {bioactivities_df.shape}\")"
   ]
  },
  {
   "cell_type": "markdown",
   "metadata": {},
   "source": [
    "**4. Delete duplicate molecules**\n",
    "\n",
    "Sometimes the same molecule (`molecule_chembl_id`) has been tested more than once, in this case, we only keep the first one.\n",
    "\n",
    "Note other choices could be to keep the one with the best value or a mean value of all assay results for the respective compound."
   ]
  },
  {
   "cell_type": "code",
   "execution_count": 23,
   "metadata": {},
   "outputs": [
    {
     "name": "stdout",
     "output_type": "stream",
     "text": [
      "DataFrame shape: (5640, 11)\n"
     ]
    }
   ],
   "source": [
    "bioactivities_df.drop_duplicates(\"molecule_chembl_id\", keep=\"first\", inplace=True)\n",
    "print(f\"DataFrame shape: {bioactivities_df.shape}\")"
   ]
  },
  {
   "cell_type": "markdown",
   "metadata": {},
   "source": [
    "**5. Reset \"DataFrame\" index**\n",
    "\n",
    "Since we deleted some rows, but we want to iterate over the index later, we reset the index to be continuous."
   ]
  },
  {
   "cell_type": "code",
   "execution_count": 24,
   "metadata": {},
   "outputs": [
    {
     "data": {
      "text/html": [
       "<div>\n",
       "<style scoped>\n",
       "    .dataframe tbody tr th:only-of-type {\n",
       "        vertical-align: middle;\n",
       "    }\n",
       "\n",
       "    .dataframe tbody tr th {\n",
       "        vertical-align: top;\n",
       "    }\n",
       "\n",
       "    .dataframe thead th {\n",
       "        text-align: right;\n",
       "    }\n",
       "</style>\n",
       "<table border=\"1\" class=\"dataframe\">\n",
       "  <thead>\n",
       "    <tr style=\"text-align: right;\">\n",
       "      <th></th>\n",
       "      <th>activity_id</th>\n",
       "      <th>assay_chembl_id</th>\n",
       "      <th>assay_description</th>\n",
       "      <th>assay_type</th>\n",
       "      <th>molecule_chembl_id</th>\n",
       "      <th>relation</th>\n",
       "      <th>standard_units</th>\n",
       "      <th>standard_value</th>\n",
       "      <th>target_chembl_id</th>\n",
       "      <th>target_organism</th>\n",
       "      <th>type</th>\n",
       "    </tr>\n",
       "  </thead>\n",
       "  <tbody>\n",
       "    <tr>\n",
       "      <th>0</th>\n",
       "      <td>32260</td>\n",
       "      <td>CHEMBL674637</td>\n",
       "      <td>Inhibitory activity towards tyrosine phosphory...</td>\n",
       "      <td>B</td>\n",
       "      <td>CHEMBL68920</td>\n",
       "      <td>=</td>\n",
       "      <td>nM</td>\n",
       "      <td>41.0</td>\n",
       "      <td>CHEMBL203</td>\n",
       "      <td>Homo sapiens</td>\n",
       "      <td>IC50</td>\n",
       "    </tr>\n",
       "    <tr>\n",
       "      <th>1</th>\n",
       "      <td>32267</td>\n",
       "      <td>CHEMBL674637</td>\n",
       "      <td>Inhibitory activity towards tyrosine phosphory...</td>\n",
       "      <td>B</td>\n",
       "      <td>CHEMBL69960</td>\n",
       "      <td>=</td>\n",
       "      <td>nM</td>\n",
       "      <td>170.0</td>\n",
       "      <td>CHEMBL203</td>\n",
       "      <td>Homo sapiens</td>\n",
       "      <td>IC50</td>\n",
       "    </tr>\n",
       "    <tr>\n",
       "      <th>2</th>\n",
       "      <td>32680</td>\n",
       "      <td>CHEMBL677833</td>\n",
       "      <td>In vitro inhibition of Epidermal growth factor...</td>\n",
       "      <td>B</td>\n",
       "      <td>CHEMBL137635</td>\n",
       "      <td>=</td>\n",
       "      <td>nM</td>\n",
       "      <td>9300.0</td>\n",
       "      <td>CHEMBL203</td>\n",
       "      <td>Homo sapiens</td>\n",
       "      <td>IC50</td>\n",
       "    </tr>\n",
       "    <tr>\n",
       "      <th>3</th>\n",
       "      <td>32770</td>\n",
       "      <td>CHEMBL674643</td>\n",
       "      <td>Inhibitory concentration of EGF dependent auto...</td>\n",
       "      <td>B</td>\n",
       "      <td>CHEMBL306988</td>\n",
       "      <td>=</td>\n",
       "      <td>nM</td>\n",
       "      <td>500000.0</td>\n",
       "      <td>CHEMBL203</td>\n",
       "      <td>Homo sapiens</td>\n",
       "      <td>IC50</td>\n",
       "    </tr>\n",
       "    <tr>\n",
       "      <th>4</th>\n",
       "      <td>32772</td>\n",
       "      <td>CHEMBL674643</td>\n",
       "      <td>Inhibitory concentration of EGF dependent auto...</td>\n",
       "      <td>B</td>\n",
       "      <td>CHEMBL66879</td>\n",
       "      <td>=</td>\n",
       "      <td>nM</td>\n",
       "      <td>3000000.0</td>\n",
       "      <td>CHEMBL203</td>\n",
       "      <td>Homo sapiens</td>\n",
       "      <td>IC50</td>\n",
       "    </tr>\n",
       "  </tbody>\n",
       "</table>\n",
       "</div>"
      ],
      "text/plain": [
       "   activity_id assay_chembl_id  \\\n",
       "0        32260    CHEMBL674637   \n",
       "1        32267    CHEMBL674637   \n",
       "2        32680    CHEMBL677833   \n",
       "3        32770    CHEMBL674643   \n",
       "4        32772    CHEMBL674643   \n",
       "\n",
       "                                   assay_description assay_type  \\\n",
       "0  Inhibitory activity towards tyrosine phosphory...          B   \n",
       "1  Inhibitory activity towards tyrosine phosphory...          B   \n",
       "2  In vitro inhibition of Epidermal growth factor...          B   \n",
       "3  Inhibitory concentration of EGF dependent auto...          B   \n",
       "4  Inhibitory concentration of EGF dependent auto...          B   \n",
       "\n",
       "  molecule_chembl_id relation standard_units  standard_value target_chembl_id  \\\n",
       "0        CHEMBL68920        =             nM            41.0        CHEMBL203   \n",
       "1        CHEMBL69960        =             nM           170.0        CHEMBL203   \n",
       "2       CHEMBL137635        =             nM          9300.0        CHEMBL203   \n",
       "3       CHEMBL306988        =             nM        500000.0        CHEMBL203   \n",
       "4        CHEMBL66879        =             nM       3000000.0        CHEMBL203   \n",
       "\n",
       "  target_organism  type  \n",
       "0    Homo sapiens  IC50  \n",
       "1    Homo sapiens  IC50  \n",
       "2    Homo sapiens  IC50  \n",
       "3    Homo sapiens  IC50  \n",
       "4    Homo sapiens  IC50  "
      ]
     },
     "execution_count": 24,
     "metadata": {},
     "output_type": "execute_result"
    }
   ],
   "source": [
    "bioactivities_df.reset_index(drop=True, inplace=True)\n",
    "bioactivities_df.head()"
   ]
  },
  {
   "cell_type": "markdown",
   "metadata": {},
   "source": [
    "**6. Rename columns**"
   ]
  },
  {
   "cell_type": "code",
   "execution_count": 25,
   "metadata": {},
   "outputs": [
    {
     "data": {
      "text/html": [
       "<div>\n",
       "<style scoped>\n",
       "    .dataframe tbody tr th:only-of-type {\n",
       "        vertical-align: middle;\n",
       "    }\n",
       "\n",
       "    .dataframe tbody tr th {\n",
       "        vertical-align: top;\n",
       "    }\n",
       "\n",
       "    .dataframe thead th {\n",
       "        text-align: right;\n",
       "    }\n",
       "</style>\n",
       "<table border=\"1\" class=\"dataframe\">\n",
       "  <thead>\n",
       "    <tr style=\"text-align: right;\">\n",
       "      <th></th>\n",
       "      <th>activity_id</th>\n",
       "      <th>assay_chembl_id</th>\n",
       "      <th>assay_description</th>\n",
       "      <th>assay_type</th>\n",
       "      <th>molecule_chembl_id</th>\n",
       "      <th>relation</th>\n",
       "      <th>units</th>\n",
       "      <th>IC50</th>\n",
       "      <th>target_chembl_id</th>\n",
       "      <th>target_organism</th>\n",
       "      <th>type</th>\n",
       "    </tr>\n",
       "  </thead>\n",
       "  <tbody>\n",
       "    <tr>\n",
       "      <th>0</th>\n",
       "      <td>32260</td>\n",
       "      <td>CHEMBL674637</td>\n",
       "      <td>Inhibitory activity towards tyrosine phosphory...</td>\n",
       "      <td>B</td>\n",
       "      <td>CHEMBL68920</td>\n",
       "      <td>=</td>\n",
       "      <td>nM</td>\n",
       "      <td>41.0</td>\n",
       "      <td>CHEMBL203</td>\n",
       "      <td>Homo sapiens</td>\n",
       "      <td>IC50</td>\n",
       "    </tr>\n",
       "    <tr>\n",
       "      <th>1</th>\n",
       "      <td>32267</td>\n",
       "      <td>CHEMBL674637</td>\n",
       "      <td>Inhibitory activity towards tyrosine phosphory...</td>\n",
       "      <td>B</td>\n",
       "      <td>CHEMBL69960</td>\n",
       "      <td>=</td>\n",
       "      <td>nM</td>\n",
       "      <td>170.0</td>\n",
       "      <td>CHEMBL203</td>\n",
       "      <td>Homo sapiens</td>\n",
       "      <td>IC50</td>\n",
       "    </tr>\n",
       "    <tr>\n",
       "      <th>2</th>\n",
       "      <td>32680</td>\n",
       "      <td>CHEMBL677833</td>\n",
       "      <td>In vitro inhibition of Epidermal growth factor...</td>\n",
       "      <td>B</td>\n",
       "      <td>CHEMBL137635</td>\n",
       "      <td>=</td>\n",
       "      <td>nM</td>\n",
       "      <td>9300.0</td>\n",
       "      <td>CHEMBL203</td>\n",
       "      <td>Homo sapiens</td>\n",
       "      <td>IC50</td>\n",
       "    </tr>\n",
       "    <tr>\n",
       "      <th>3</th>\n",
       "      <td>32770</td>\n",
       "      <td>CHEMBL674643</td>\n",
       "      <td>Inhibitory concentration of EGF dependent auto...</td>\n",
       "      <td>B</td>\n",
       "      <td>CHEMBL306988</td>\n",
       "      <td>=</td>\n",
       "      <td>nM</td>\n",
       "      <td>500000.0</td>\n",
       "      <td>CHEMBL203</td>\n",
       "      <td>Homo sapiens</td>\n",
       "      <td>IC50</td>\n",
       "    </tr>\n",
       "    <tr>\n",
       "      <th>4</th>\n",
       "      <td>32772</td>\n",
       "      <td>CHEMBL674643</td>\n",
       "      <td>Inhibitory concentration of EGF dependent auto...</td>\n",
       "      <td>B</td>\n",
       "      <td>CHEMBL66879</td>\n",
       "      <td>=</td>\n",
       "      <td>nM</td>\n",
       "      <td>3000000.0</td>\n",
       "      <td>CHEMBL203</td>\n",
       "      <td>Homo sapiens</td>\n",
       "      <td>IC50</td>\n",
       "    </tr>\n",
       "  </tbody>\n",
       "</table>\n",
       "</div>"
      ],
      "text/plain": [
       "   activity_id assay_chembl_id  \\\n",
       "0        32260    CHEMBL674637   \n",
       "1        32267    CHEMBL674637   \n",
       "2        32680    CHEMBL677833   \n",
       "3        32770    CHEMBL674643   \n",
       "4        32772    CHEMBL674643   \n",
       "\n",
       "                                   assay_description assay_type  \\\n",
       "0  Inhibitory activity towards tyrosine phosphory...          B   \n",
       "1  Inhibitory activity towards tyrosine phosphory...          B   \n",
       "2  In vitro inhibition of Epidermal growth factor...          B   \n",
       "3  Inhibitory concentration of EGF dependent auto...          B   \n",
       "4  Inhibitory concentration of EGF dependent auto...          B   \n",
       "\n",
       "  molecule_chembl_id relation units       IC50 target_chembl_id  \\\n",
       "0        CHEMBL68920        =    nM       41.0        CHEMBL203   \n",
       "1        CHEMBL69960        =    nM      170.0        CHEMBL203   \n",
       "2       CHEMBL137635        =    nM     9300.0        CHEMBL203   \n",
       "3       CHEMBL306988        =    nM   500000.0        CHEMBL203   \n",
       "4        CHEMBL66879        =    nM  3000000.0        CHEMBL203   \n",
       "\n",
       "  target_organism  type  \n",
       "0    Homo sapiens  IC50  \n",
       "1    Homo sapiens  IC50  \n",
       "2    Homo sapiens  IC50  \n",
       "3    Homo sapiens  IC50  \n",
       "4    Homo sapiens  IC50  "
      ]
     },
     "execution_count": 25,
     "metadata": {},
     "output_type": "execute_result"
    }
   ],
   "source": [
    "bioactivities_df.rename(\n",
    "    columns={\"standard_value\": \"IC50\", \"standard_units\": \"units\"}, inplace=True\n",
    ")\n",
    "bioactivities_df.head()"
   ]
  },
  {
   "cell_type": "code",
   "execution_count": 26,
   "metadata": {},
   "outputs": [
    {
     "name": "stdout",
     "output_type": "stream",
     "text": [
      "DataFrame shape: (5640, 11)\n"
     ]
    }
   ],
   "source": [
    "print(f\"DataFrame shape: {bioactivities_df.shape}\")\n",
    "# NBVAL_CHECK_OUTPUT"
   ]
  },
  {
   "cell_type": "markdown",
   "metadata": {},
   "source": [
    "We now have a set of **5640** molecule ids with respective IC50 values for our target kinase."
   ]
  },
  {
   "cell_type": "markdown",
   "metadata": {},
   "source": [
    "### Get compound data\n",
    "\n",
    "We have a `DataFrame` containing all molecules tested against EGFR (with the respective measured bioactivity). \n",
    "\n",
    "Now, we want to get the molecular structures of the molecules that are linked to respective bioactivity ChEMBL IDs. "
   ]
  },
  {
   "cell_type": "markdown",
   "metadata": {},
   "source": [
    "#### Fetch compound data from ChEMBL\n",
    "\n",
    "Let's have a look at the compounds from ChEMBL which we have defined bioactivity data for: We fetch compound ChEMBL IDs and structures for the compounds linked to our filtered bioactivity data."
   ]
  },
  {
   "cell_type": "code",
   "execution_count": 27,
   "metadata": {},
   "outputs": [],
   "source": [
    "compounds = compounds_api.filter(\n",
    "    molecule_chembl_id__in=list(bioactivities_df[\"molecule_chembl_id\"])\n",
    ").only(\"molecule_chembl_id\", \"molecule_structures\")"
   ]
  },
  {
   "cell_type": "markdown",
   "metadata": {},
   "source": [
    "#### Download compound data from ChEMBL\n",
    "\n",
    "Again, we download the `QuerySet` in the form of a `pandas` `DataFrame`. **This may take some time.**"
   ]
  },
  {
   "cell_type": "code",
   "execution_count": 28,
   "metadata": {},
   "outputs": [
    {
     "name": "stdout",
     "output_type": "stream",
     "text": [
      "DataFrame shape: (5641, 2)\n"
     ]
    }
   ],
   "source": [
    "if 0:\n",
    "    compounds_df = pd.DataFrame.from_records(compounds)\n",
    "    with open(DATA / \"egfr_compounds_df.pkl\",'wb+') as outf:\n",
    "        pickle.dump(compounds_df,outf)\n",
    "else:\n",
    "    with open(DATA / \"egfr_compounds_df.pkl\",'rb') as inf:\n",
    "        compounds_df = pickle.load(inf)\n",
    "    \n",
    "print(f\"DataFrame shape: {compounds_df.shape}\")"
   ]
  },
  {
   "cell_type": "code",
   "execution_count": 29,
   "metadata": {},
   "outputs": [
    {
     "data": {
      "text/html": [
       "<div>\n",
       "<style scoped>\n",
       "    .dataframe tbody tr th:only-of-type {\n",
       "        vertical-align: middle;\n",
       "    }\n",
       "\n",
       "    .dataframe tbody tr th {\n",
       "        vertical-align: top;\n",
       "    }\n",
       "\n",
       "    .dataframe thead th {\n",
       "        text-align: right;\n",
       "    }\n",
       "</style>\n",
       "<table border=\"1\" class=\"dataframe\">\n",
       "  <thead>\n",
       "    <tr style=\"text-align: right;\">\n",
       "      <th></th>\n",
       "      <th>molecule_chembl_id</th>\n",
       "      <th>molecule_structures</th>\n",
       "    </tr>\n",
       "  </thead>\n",
       "  <tbody>\n",
       "    <tr>\n",
       "      <th>0</th>\n",
       "      <td>CHEMBL6246</td>\n",
       "      <td>{'canonical_smiles': 'O=c1oc2c(O)c(O)cc3c(=O)o...</td>\n",
       "    </tr>\n",
       "    <tr>\n",
       "      <th>1</th>\n",
       "      <td>CHEMBL6246</td>\n",
       "      <td>{'canonical_smiles': 'O=c1oc2c(O)c(O)cc3c(=O)o...</td>\n",
       "    </tr>\n",
       "    <tr>\n",
       "      <th>2</th>\n",
       "      <td>CHEMBL10</td>\n",
       "      <td>{'canonical_smiles': 'C[S+]([O-])c1ccc(-c2nc(-...</td>\n",
       "    </tr>\n",
       "    <tr>\n",
       "      <th>3</th>\n",
       "      <td>CHEMBL6976</td>\n",
       "      <td>{'canonical_smiles': 'COc1cc2c(cc1OC)Nc1ncn(C)...</td>\n",
       "    </tr>\n",
       "    <tr>\n",
       "      <th>4</th>\n",
       "      <td>CHEMBL7002</td>\n",
       "      <td>{'canonical_smiles': 'CC1(COc2ccc(CC3SC(=O)NC3...</td>\n",
       "    </tr>\n",
       "  </tbody>\n",
       "</table>\n",
       "</div>"
      ],
      "text/plain": [
       "  molecule_chembl_id                                molecule_structures\n",
       "0         CHEMBL6246  {'canonical_smiles': 'O=c1oc2c(O)c(O)cc3c(=O)o...\n",
       "1         CHEMBL6246  {'canonical_smiles': 'O=c1oc2c(O)c(O)cc3c(=O)o...\n",
       "2           CHEMBL10  {'canonical_smiles': 'C[S+]([O-])c1ccc(-c2nc(-...\n",
       "3         CHEMBL6976  {'canonical_smiles': 'COc1cc2c(cc1OC)Nc1ncn(C)...\n",
       "4         CHEMBL7002  {'canonical_smiles': 'CC1(COc2ccc(CC3SC(=O)NC3..."
      ]
     },
     "execution_count": 29,
     "metadata": {},
     "output_type": "execute_result"
    }
   ],
   "source": [
    "compounds_df.head()"
   ]
  },
  {
   "cell_type": "markdown",
   "metadata": {},
   "source": [
    "#### Preprocess and filter compound data\n",
    "\n",
    "1. Remove entries with missing entries\n",
    "2. Delete duplicate molecules (by molecule_chembl_id)\n",
    "3. Get molecules with canonical SMILES"
   ]
  },
  {
   "cell_type": "markdown",
   "metadata": {},
   "source": [
    "**1. Remove entries with missing molecule structure entry**"
   ]
  },
  {
   "cell_type": "code",
   "execution_count": 30,
   "metadata": {},
   "outputs": [
    {
     "name": "stdout",
     "output_type": "stream",
     "text": [
      "DataFrame shape: (5634, 2)\n"
     ]
    }
   ],
   "source": [
    "compounds_df.dropna(axis=0, how=\"any\", inplace=True)\n",
    "print(f\"DataFrame shape: {compounds_df.shape}\")"
   ]
  },
  {
   "cell_type": "markdown",
   "metadata": {},
   "source": [
    "**2. Delete duplicate molecules**"
   ]
  },
  {
   "cell_type": "code",
   "execution_count": 31,
   "metadata": {},
   "outputs": [
    {
     "name": "stdout",
     "output_type": "stream",
     "text": [
      "DataFrame shape: (5633, 2)\n"
     ]
    }
   ],
   "source": [
    "compounds_df.drop_duplicates(\"molecule_chembl_id\", keep=\"first\", inplace=True)\n",
    "print(f\"DataFrame shape: {compounds_df.shape}\")"
   ]
  },
  {
   "cell_type": "markdown",
   "metadata": {},
   "source": [
    "**3. Get molecules with canonical SMILES**\n",
    "\n",
    "So far, we have multiple different molecular structure representations. We only want to keep the canonical SMILES."
   ]
  },
  {
   "cell_type": "code",
   "execution_count": 32,
   "metadata": {},
   "outputs": [
    {
     "data": {
      "text/plain": [
       "dict_keys(['canonical_smiles', 'molfile', 'standard_inchi', 'standard_inchi_key'])"
      ]
     },
     "execution_count": 32,
     "metadata": {},
     "output_type": "execute_result"
    }
   ],
   "source": [
    "compounds_df.iloc[0].molecule_structures.keys()"
   ]
  },
  {
   "cell_type": "code",
   "execution_count": 33,
   "metadata": {},
   "outputs": [
    {
     "name": "stdout",
     "output_type": "stream",
     "text": [
      "DataFrame shape: (5633, 2)\n"
     ]
    }
   ],
   "source": [
    "canonical_smiles = []\n",
    "\n",
    "for i, compounds in compounds_df.iterrows():\n",
    "    try:\n",
    "        canonical_smiles.append(compounds[\"molecule_structures\"][\"canonical_smiles\"])\n",
    "    except KeyError:\n",
    "        canonical_smiles.append(None)\n",
    "\n",
    "compounds_df[\"smiles\"] = canonical_smiles\n",
    "compounds_df.drop(\"molecule_structures\", axis=1, inplace=True)\n",
    "print(f\"DataFrame shape: {compounds_df.shape}\")"
   ]
  },
  {
   "cell_type": "markdown",
   "metadata": {},
   "source": [
    "Sanity check: Remove all molecules without a canonical SMILES string."
   ]
  },
  {
   "cell_type": "code",
   "execution_count": 34,
   "metadata": {},
   "outputs": [
    {
     "name": "stdout",
     "output_type": "stream",
     "text": [
      "DataFrame shape: (5633, 2)\n"
     ]
    }
   ],
   "source": [
    "compounds_df.dropna(axis=0, how=\"any\", inplace=True)\n",
    "print(f\"DataFrame shape: {compounds_df.shape}\")\n",
    "# NBVAL_CHECK_OUTPUT"
   ]
  },
  {
   "cell_type": "markdown",
   "metadata": {},
   "source": [
    "We now have a set of **5633** molecule ids with respective IC50 values for our target kinase."
   ]
  },
  {
   "cell_type": "markdown",
   "metadata": {},
   "source": [
    "### Output (bioactivity-compound) data\n",
    "**Summary of compound and bioactivity data**"
   ]
  },
  {
   "cell_type": "code",
   "execution_count": 35,
   "metadata": {},
   "outputs": [
    {
     "name": "stdout",
     "output_type": "stream",
     "text": [
      "Bioactivities filtered: 5640\n"
     ]
    },
    {
     "data": {
      "text/plain": [
       "Index(['activity_id', 'assay_chembl_id', 'assay_description', 'assay_type',\n",
       "       'molecule_chembl_id', 'relation', 'units', 'IC50', 'target_chembl_id',\n",
       "       'target_organism', 'type'],\n",
       "      dtype='object')"
      ]
     },
     "execution_count": 35,
     "metadata": {},
     "output_type": "execute_result"
    }
   ],
   "source": [
    "print(f\"Bioactivities filtered: {bioactivities_df.shape[0]}\")\n",
    "bioactivities_df.columns"
   ]
  },
  {
   "cell_type": "code",
   "execution_count": 36,
   "metadata": {},
   "outputs": [
    {
     "name": "stdout",
     "output_type": "stream",
     "text": [
      "Compounds filtered: 5633\n"
     ]
    },
    {
     "data": {
      "text/plain": [
       "Index(['molecule_chembl_id', 'smiles'], dtype='object')"
      ]
     },
     "execution_count": 36,
     "metadata": {},
     "output_type": "execute_result"
    }
   ],
   "source": [
    "print(f\"Compounds filtered: {compounds_df.shape[0]}\")\n",
    "compounds_df.columns"
   ]
  },
  {
   "cell_type": "markdown",
   "metadata": {},
   "source": [
    "#### Merge both datasets\n",
    "\n",
    "Merge values of interest from `bioactivities_df` and `compounds_df` in an `output_df` based on the compounds' ChEMBL IDs (`molecule_chembl_id`), keeping the following columns:\n",
    "\n",
    "* ChEMBL IDs: `molecule_chembl_id`\n",
    "* SMILES: `smiles`\n",
    "* units: `units`\n",
    "* IC50: `IC50`"
   ]
  },
  {
   "cell_type": "code",
   "execution_count": 37,
   "metadata": {},
   "outputs": [
    {
     "name": "stdout",
     "output_type": "stream",
     "text": [
      "Dataset with 5633 entries.\n"
     ]
    }
   ],
   "source": [
    "# Merge DataFrames\n",
    "output_df = pd.merge(\n",
    "    bioactivities_df[[\"molecule_chembl_id\", \"IC50\", \"units\"]],\n",
    "    compounds_df,\n",
    "    on=\"molecule_chembl_id\",\n",
    ")\n",
    "\n",
    "# Reset row indices\n",
    "output_df.reset_index(drop=True, inplace=True)\n",
    "\n",
    "print(f\"Dataset with {output_df.shape[0]} entries.\")\n",
    "# NBVAL_CHECK_OUTPUT"
   ]
  },
  {
   "cell_type": "markdown",
   "metadata": {},
   "source": [
    "Sanity check: The merged bioactivities/compound data set contains **5633** entries."
   ]
  },
  {
   "cell_type": "code",
   "execution_count": 38,
   "metadata": {},
   "outputs": [
    {
     "data": {
      "text/plain": [
       "molecule_chembl_id     object\n",
       "IC50                  float64\n",
       "units                  object\n",
       "smiles                 object\n",
       "dtype: object"
      ]
     },
     "execution_count": 38,
     "metadata": {},
     "output_type": "execute_result"
    }
   ],
   "source": [
    "output_df.dtypes"
   ]
  },
  {
   "cell_type": "code",
   "execution_count": 39,
   "metadata": {},
   "outputs": [
    {
     "data": {
      "text/html": [
       "<div>\n",
       "<style scoped>\n",
       "    .dataframe tbody tr th:only-of-type {\n",
       "        vertical-align: middle;\n",
       "    }\n",
       "\n",
       "    .dataframe tbody tr th {\n",
       "        vertical-align: top;\n",
       "    }\n",
       "\n",
       "    .dataframe thead th {\n",
       "        text-align: right;\n",
       "    }\n",
       "</style>\n",
       "<table border=\"1\" class=\"dataframe\">\n",
       "  <thead>\n",
       "    <tr style=\"text-align: right;\">\n",
       "      <th></th>\n",
       "      <th>molecule_chembl_id</th>\n",
       "      <th>IC50</th>\n",
       "      <th>units</th>\n",
       "      <th>smiles</th>\n",
       "    </tr>\n",
       "  </thead>\n",
       "  <tbody>\n",
       "    <tr>\n",
       "      <th>0</th>\n",
       "      <td>CHEMBL68920</td>\n",
       "      <td>41.0</td>\n",
       "      <td>nM</td>\n",
       "      <td>Cc1cc(C)c(/C=C2\\C(=O)Nc3ncnc(Nc4ccc(F)c(Cl)c4)...</td>\n",
       "    </tr>\n",
       "    <tr>\n",
       "      <th>1</th>\n",
       "      <td>CHEMBL69960</td>\n",
       "      <td>170.0</td>\n",
       "      <td>nM</td>\n",
       "      <td>Cc1cc(C(=O)N2CCOCC2)[nH]c1/C=C1\\C(=O)Nc2ncnc(N...</td>\n",
       "    </tr>\n",
       "    <tr>\n",
       "      <th>2</th>\n",
       "      <td>CHEMBL137635</td>\n",
       "      <td>9300.0</td>\n",
       "      <td>nM</td>\n",
       "      <td>CN(c1ccccc1)c1ncnc2ccc(N/N=N/Cc3ccccn3)cc12</td>\n",
       "    </tr>\n",
       "    <tr>\n",
       "      <th>3</th>\n",
       "      <td>CHEMBL306988</td>\n",
       "      <td>500000.0</td>\n",
       "      <td>nM</td>\n",
       "      <td>CC(=C(C#N)C#N)c1ccc(NC(=O)CCC(=O)O)cc1</td>\n",
       "    </tr>\n",
       "    <tr>\n",
       "      <th>4</th>\n",
       "      <td>CHEMBL66879</td>\n",
       "      <td>3000000.0</td>\n",
       "      <td>nM</td>\n",
       "      <td>O=C(O)/C=C/c1ccc(O)cc1</td>\n",
       "    </tr>\n",
       "    <tr>\n",
       "      <th>5</th>\n",
       "      <td>CHEMBL77085</td>\n",
       "      <td>96000.0</td>\n",
       "      <td>nM</td>\n",
       "      <td>N#CC(C#N)=Cc1cc(O)ccc1[N+](=O)[O-]</td>\n",
       "    </tr>\n",
       "    <tr>\n",
       "      <th>6</th>\n",
       "      <td>CHEMBL443268</td>\n",
       "      <td>5310.0</td>\n",
       "      <td>nM</td>\n",
       "      <td>Cc1cc(C(=O)NCCN2CCOCC2)[nH]c1/C=C1\\C(=O)N(C)c2...</td>\n",
       "    </tr>\n",
       "    <tr>\n",
       "      <th>7</th>\n",
       "      <td>CHEMBL76979</td>\n",
       "      <td>264000.0</td>\n",
       "      <td>nM</td>\n",
       "      <td>COc1cc(/C=C(\\C#N)C(=O)O)cc(OC)c1O</td>\n",
       "    </tr>\n",
       "    <tr>\n",
       "      <th>8</th>\n",
       "      <td>CHEMBL76589</td>\n",
       "      <td>125.0</td>\n",
       "      <td>nM</td>\n",
       "      <td>N#CC(C#N)=C(N)/C(C#N)=C/c1ccc(O)cc1</td>\n",
       "    </tr>\n",
       "    <tr>\n",
       "      <th>9</th>\n",
       "      <td>CHEMBL76904</td>\n",
       "      <td>35000.0</td>\n",
       "      <td>nM</td>\n",
       "      <td>N#CC(C#N)=Cc1ccc(O)c(O)c1</td>\n",
       "    </tr>\n",
       "  </tbody>\n",
       "</table>\n",
       "</div>"
      ],
      "text/plain": [
       "  molecule_chembl_id       IC50 units  \\\n",
       "0        CHEMBL68920       41.0    nM   \n",
       "1        CHEMBL69960      170.0    nM   \n",
       "2       CHEMBL137635     9300.0    nM   \n",
       "3       CHEMBL306988   500000.0    nM   \n",
       "4        CHEMBL66879  3000000.0    nM   \n",
       "5        CHEMBL77085    96000.0    nM   \n",
       "6       CHEMBL443268     5310.0    nM   \n",
       "7        CHEMBL76979   264000.0    nM   \n",
       "8        CHEMBL76589      125.0    nM   \n",
       "9        CHEMBL76904    35000.0    nM   \n",
       "\n",
       "                                              smiles  \n",
       "0  Cc1cc(C)c(/C=C2\\C(=O)Nc3ncnc(Nc4ccc(F)c(Cl)c4)...  \n",
       "1  Cc1cc(C(=O)N2CCOCC2)[nH]c1/C=C1\\C(=O)Nc2ncnc(N...  \n",
       "2        CN(c1ccccc1)c1ncnc2ccc(N/N=N/Cc3ccccn3)cc12  \n",
       "3             CC(=C(C#N)C#N)c1ccc(NC(=O)CCC(=O)O)cc1  \n",
       "4                             O=C(O)/C=C/c1ccc(O)cc1  \n",
       "5                 N#CC(C#N)=Cc1cc(O)ccc1[N+](=O)[O-]  \n",
       "6  Cc1cc(C(=O)NCCN2CCOCC2)[nH]c1/C=C1\\C(=O)N(C)c2...  \n",
       "7                  COc1cc(/C=C(\\C#N)C(=O)O)cc(OC)c1O  \n",
       "8                N#CC(C#N)=C(N)/C(C#N)=C/c1ccc(O)cc1  \n",
       "9                          N#CC(C#N)=Cc1ccc(O)c(O)c1  "
      ]
     },
     "execution_count": 39,
     "metadata": {},
     "output_type": "execute_result"
    }
   ],
   "source": [
    "output_df.head(10)"
   ]
  },
  {
   "cell_type": "markdown",
   "metadata": {},
   "source": [
    "#### Add pIC50 values"
   ]
  },
  {
   "cell_type": "markdown",
   "metadata": {},
   "source": [
    "As you can see the low IC50 values are difficult to read (values are distributed over multiple scales), which is why we convert the IC50 values to pIC50."
   ]
  },
  {
   "cell_type": "code",
   "execution_count": 40,
   "metadata": {},
   "outputs": [],
   "source": [
    "def convert_ic50_to_pic50(IC50_value):\n",
    "    pIC50_value = 9 - math.log10(IC50_value)\n",
    "    return pIC50_value"
   ]
  },
  {
   "cell_type": "code",
   "execution_count": 41,
   "metadata": {},
   "outputs": [],
   "source": [
    "# Apply conversion to each row of the compounds DataFrame\n",
    "output_df[\"pIC50\"] = output_df.apply(lambda x: convert_ic50_to_pic50(x.IC50), axis=1)"
   ]
  },
  {
   "cell_type": "code",
   "execution_count": 42,
   "metadata": {},
   "outputs": [
    {
     "data": {
      "text/html": [
       "<div>\n",
       "<style scoped>\n",
       "    .dataframe tbody tr th:only-of-type {\n",
       "        vertical-align: middle;\n",
       "    }\n",
       "\n",
       "    .dataframe tbody tr th {\n",
       "        vertical-align: top;\n",
       "    }\n",
       "\n",
       "    .dataframe thead th {\n",
       "        text-align: right;\n",
       "    }\n",
       "</style>\n",
       "<table border=\"1\" class=\"dataframe\">\n",
       "  <thead>\n",
       "    <tr style=\"text-align: right;\">\n",
       "      <th></th>\n",
       "      <th>molecule_chembl_id</th>\n",
       "      <th>IC50</th>\n",
       "      <th>units</th>\n",
       "      <th>smiles</th>\n",
       "      <th>pIC50</th>\n",
       "    </tr>\n",
       "  </thead>\n",
       "  <tbody>\n",
       "    <tr>\n",
       "      <th>0</th>\n",
       "      <td>CHEMBL68920</td>\n",
       "      <td>41.0</td>\n",
       "      <td>nM</td>\n",
       "      <td>Cc1cc(C)c(/C=C2\\C(=O)Nc3ncnc(Nc4ccc(F)c(Cl)c4)...</td>\n",
       "      <td>7.387216</td>\n",
       "    </tr>\n",
       "    <tr>\n",
       "      <th>1</th>\n",
       "      <td>CHEMBL69960</td>\n",
       "      <td>170.0</td>\n",
       "      <td>nM</td>\n",
       "      <td>Cc1cc(C(=O)N2CCOCC2)[nH]c1/C=C1\\C(=O)Nc2ncnc(N...</td>\n",
       "      <td>6.769551</td>\n",
       "    </tr>\n",
       "    <tr>\n",
       "      <th>2</th>\n",
       "      <td>CHEMBL137635</td>\n",
       "      <td>9300.0</td>\n",
       "      <td>nM</td>\n",
       "      <td>CN(c1ccccc1)c1ncnc2ccc(N/N=N/Cc3ccccn3)cc12</td>\n",
       "      <td>5.031517</td>\n",
       "    </tr>\n",
       "    <tr>\n",
       "      <th>3</th>\n",
       "      <td>CHEMBL306988</td>\n",
       "      <td>500000.0</td>\n",
       "      <td>nM</td>\n",
       "      <td>CC(=C(C#N)C#N)c1ccc(NC(=O)CCC(=O)O)cc1</td>\n",
       "      <td>3.301030</td>\n",
       "    </tr>\n",
       "    <tr>\n",
       "      <th>4</th>\n",
       "      <td>CHEMBL66879</td>\n",
       "      <td>3000000.0</td>\n",
       "      <td>nM</td>\n",
       "      <td>O=C(O)/C=C/c1ccc(O)cc1</td>\n",
       "      <td>2.522879</td>\n",
       "    </tr>\n",
       "  </tbody>\n",
       "</table>\n",
       "</div>"
      ],
      "text/plain": [
       "  molecule_chembl_id       IC50 units  \\\n",
       "0        CHEMBL68920       41.0    nM   \n",
       "1        CHEMBL69960      170.0    nM   \n",
       "2       CHEMBL137635     9300.0    nM   \n",
       "3       CHEMBL306988   500000.0    nM   \n",
       "4        CHEMBL66879  3000000.0    nM   \n",
       "\n",
       "                                              smiles     pIC50  \n",
       "0  Cc1cc(C)c(/C=C2\\C(=O)Nc3ncnc(Nc4ccc(F)c(Cl)c4)...  7.387216  \n",
       "1  Cc1cc(C(=O)N2CCOCC2)[nH]c1/C=C1\\C(=O)Nc2ncnc(N...  6.769551  \n",
       "2        CN(c1ccccc1)c1ncnc2ccc(N/N=N/Cc3ccccn3)cc12  5.031517  \n",
       "3             CC(=C(C#N)C#N)c1ccc(NC(=O)CCC(=O)O)cc1  3.301030  \n",
       "4                             O=C(O)/C=C/c1ccc(O)cc1  2.522879  "
      ]
     },
     "execution_count": 42,
     "metadata": {},
     "output_type": "execute_result"
    }
   ],
   "source": [
    "output_df.head()"
   ]
  },
  {
   "cell_type": "markdown",
   "metadata": {},
   "source": [
    "#### Draw compound data\n",
    "\n",
    "Let's have a look at our collected data set.\n",
    "\n",
    "First, we plot the pIC50 value distribution"
   ]
  },
  {
   "cell_type": "code",
   "execution_count": 43,
   "metadata": {
    "tags": [
     "nbsphinx-thumbnail"
    ]
   },
   "outputs": [
    {
     "data": {
      "text/plain": [
       "array([[<AxesSubplot:title={'center':'pIC50'}>]], dtype=object)"
      ]
     },
     "execution_count": 43,
     "metadata": {},
     "output_type": "execute_result"
    },
    {
     "data": {
      "image/png": "[encoded data removed]",
      "text/plain": [
       "<Figure size 432x288 with 1 Axes>"
      ]
     },
     "metadata": {
      "needs_background": "light"
     },
     "output_type": "display_data"
    }
   ],
   "source": [
    "output_df.hist(column=\"pIC50\")"
   ]
  },
  {
   "cell_type": "markdown",
   "metadata": {},
   "source": [
    "In the next steps, we add a column for RDKit molecule objects to our `DataFrame` and look at the structures of the molecules with the highest pIC50 values. "
   ]
  },
  {
   "cell_type": "code",
   "execution_count": 44,
   "metadata": {},
   "outputs": [],
   "source": [
    "# Add molecule column\n",
    "PandasTools.AddMoleculeColumnToFrame(output_df, smilesCol=\"smiles\")"
   ]
  },
  {
   "cell_type": "code",
   "execution_count": 45,
   "metadata": {},
   "outputs": [],
   "source": [
    "# Sort molecules by pIC50\n",
    "output_df.sort_values(by=\"pIC50\", ascending=False, inplace=True)\n",
    "\n",
    "# Reset index\n",
    "output_df.reset_index(drop=True, inplace=True)"
   ]
  },
  {
   "cell_type": "markdown",
   "metadata": {},
   "source": [
    "Show the three most active molecules, i.e. molecules with the highest pIC50 values."
   ]
  },
  {
   "cell_type": "code",
   "execution_count": 46,
   "metadata": {},
   "outputs": [
    {
     "data": {
      "text/html": [
       "<div>\n",
       "<style scoped>\n",
       "    .dataframe tbody tr th:only-of-type {\n",
       "        vertical-align: middle;\n",
       "    }\n",
       "\n",
       "    .dataframe tbody tr th {\n",
       "        vertical-align: top;\n",
       "    }\n",
       "\n",
       "    .dataframe thead th {\n",
       "        text-align: right;\n",
       "    }\n",
       "</style>\n",
       "<table border=\"1\" class=\"dataframe\">\n",
       "  <thead>\n",
       "    <tr style=\"text-align: right;\">\n",
       "      <th></th>\n",
       "      <th>molecule_chembl_id</th>\n",
       "      <th>IC50</th>\n",
       "      <th>units</th>\n",
       "      <th>pIC50</th>\n",
       "      <th>ROMol</th>\n",
       "    </tr>\n",
       "  </thead>\n",
       "  <tbody>\n",
       "    <tr>\n",
       "      <th>0</th>\n",
       "      <td>CHEMBL63786</td>\n",
       "      <td>0.003</td>\n",
       "      <td>nM</td>\n",
       "      <td>11.522879</td>\n",
       "      <td style=\"text-align: center;\"><img data-content=\"rdkit/molecule\" src=\"data:image/png;base64,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\" alt=\"Mol\"/></td>\n",
       "    </tr>\n",
       "    <tr>\n",
       "      <th>1</th>\n",
       "      <td>CHEMBL35820</td>\n",
       "      <td>0.006</td>\n",
       "      <td>nM</td>\n",
       "      <td>11.221849</td>\n",
       "      <td style=\"text-align: center;\"><img data-content=\"rdkit/molecule\" src=\"data:image/png;base64,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\" alt=\"Mol\"/></td>\n",
       "    </tr>\n",
       "    <tr>\n",
       "      <th>2</th>\n",
       "      <td>CHEMBL53711</td>\n",
       "      <td>0.006</td>\n",
       "      <td>nM</td>\n",
       "      <td>11.221849</td>\n",
       "      <td style=\"text-align: center;\"><img data-content=\"rdkit/molecule\" src=\"data:image/png;base64,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\" alt=\"Mol\"/></td>\n",
       "    </tr>\n",
       "  </tbody>\n",
       "</table>\n",
       "</div>"
      ],
      "text/plain": [
       "  molecule_chembl_id   IC50 units      pIC50  \\\n",
       "0        CHEMBL63786  0.003    nM  11.522879   \n",
       "1        CHEMBL35820  0.006    nM  11.221849   \n",
       "2        CHEMBL53711  0.006    nM  11.221849   \n",
       "\n",
       "                                               ROMol  \n",
       "0  <img data-content=\"rdkit/molecule\" src=\"data:i...  \n",
       "1  <img data-content=\"rdkit/molecule\" src=\"data:i...  \n",
       "2  <img data-content=\"rdkit/molecule\" src=\"data:i...  "
      ]
     },
     "execution_count": 46,
     "metadata": {},
     "output_type": "execute_result"
    }
   ],
   "source": [
    "output_df.drop(\"smiles\", axis=1).head(3)"
   ]
  },
  {
   "cell_type": "markdown",
   "metadata": {},
   "source": [
    "#### Write output data to file\n",
    "\n",
    "We want to use this bioactivity-compound dataset in the following talktorials, thus we save the data as `csv` file. \n",
    "Note that it is advisable to drop the molecule column (which only contains an image of the molecules) when saving the data."
   ]
  },
  {
   "cell_type": "code",
   "execution_count": 47,
   "metadata": {
    "scrolled": true
   },
   "outputs": [],
   "source": [
    "output_df.drop(\"ROMol\", axis=1).to_csv(DATA / \"EGFR_compounds.csv\")"
   ]
  },
  {
   "cell_type": "code",
   "execution_count": 48,
   "metadata": {},
   "outputs": [
    {
     "name": "stdout",
     "output_type": "stream",
     "text": [
      "DataFrame shape: (5633, 6)\n"
     ]
    }
   ],
   "source": [
    "print(f\"DataFrame shape: {output_df.shape}\")"
   ]
  },
  {
   "cell_type": "markdown",
   "metadata": {},
   "source": [
    "## Discussion"
   ]
  },
  {
   "cell_type": "markdown",
   "metadata": {},
   "source": [
    "In this tutorial, we collected bioactivity data for our target of interest from the ChEMBL database. \n",
    "We filtered the data set in order to only contain molecules with measured IC50 bioactivity values. \n",
    "\n",
    "Be aware that ChEMBL data originates from various sources. Compound data has been generated in different labs by different people all over the world. Therefore, we have to be cautious with the predictions we make using this data set. It is always important to consider the source of the data and consistency of data production assays when interpreting the results and determining how much confidence we have in our predictions.\n",
    "\n",
    "In the next tutorials, we will filter our acquired data by Lipinski's rule of five and by unwanted substructures. Another important step would be to *clean* the molecular data. As this is not shown in any of our talktorials (yet), we would like to refer to the [Standardiser library](https://github.com/flatkinson/standardiser) or [MolVS](https://molvs.readthedocs.io/en/latest/) as useful tools for this task."
   ]
  },
  {
   "cell_type": "markdown",
   "metadata": {},
   "source": [
    "## Quiz"
   ]
  },
  {
   "cell_type": "markdown",
   "metadata": {},
   "source": [
    "* We have downloaded in this talktorial molecules and bioactivity data from ChEMBL. What else is the ChEMBL database useful for?\n",
    "* What is the difference between IC50 and EC50?\n",
    "* What can we use the data extracted from ChEMBL for?"
   ]
  }
 ],
 "metadata": {
  "kernelspec": {
   "display_name": "Python 3 (ipykernel)",
   "language": "python",
   "name": "python3"
  },
  "language_info": {
   "codemirror_mode": {
    "name": "ipython",
    "version": 3
   },
   "file_extension": ".py",
   "mimetype": "text/x-python",
   "name": "python",
   "nbconvert_exporter": "python",
   "pygments_lexer": "ipython3",
   "version": "3.9.12"
  },
  "toc": {
   "base_numbering": 1,
   "nav_menu": {},
   "number_sections": true,
   "sideBar": true,
   "skip_h1_title": false,
   "title_cell": "Table of Contents",
   "title_sidebar": "Contents",
   "toc_cell": false,
   "toc_position": {},
   "toc_section_display": true,
   "toc_window_display": false
  },
  "toc-autonumbering": true,
  "toc-showmarkdowntxt": false,
  "toc-showtags": false,
  "widgets": {
   "application/vnd.jupyter.widget-state+json": {
    "state": {},
    "version_major": 2,
    "version_minor": 0
   }
  }
 },
 "nbformat": 4,
 "nbformat_minor": 4
}
