{
 "cells": [
  {
   "cell_type": "markdown",
   "metadata": {},
   "source": [
    "# T001 · Compound data acquisition (ChEMBL)\n",
    "\n",
    "Authors:\n",
    "\n",
    "- Svetlana Leng, CADD seminar 2017, Volkamer lab, Charité/FU Berlin \n",
    "- Paula Junge, CADD seminar 2018, Volkamer lab, Charité/FU Berlin\n",
    "- Dominique Sydow, 2019-2020, [Volkamer lab, Charité](https://volkamerlab.org/)\n",
    "- Andrea Volkamer, 2020, [Volkamer lab, Charité](https://volkamerlab.org/)\n",
    "- Yonghui Chen, 2020, [Volkamer lab, Charité](https://volkamerlab.org/)"
   ]
  },
  {
   "cell_type": "markdown",
   "metadata": {},
   "source": [
    "__Talktorial T001__: This talktorial is part of the TeachOpenCADD pipeline described in the [first TeachOpenCADD paper](https://jcheminf.biomedcentral.com/articles/10.1186/s13321-019-0351-x), comprising of talktorials T001-T010."
   ]
  },
  {
   "cell_type": "markdown",
   "metadata": {},
   "source": [
    "## Aim of this talktorial\n",
    "\n",
    "In this notebook, we will learn more about the ChEMBL database and how to extract data from ChEMBL, i.e. (compound, activity data) pairs for a target of interest. These data sets can be used for many cheminformatics tasks, such as similarity search, clustering or machine learning.\n",
    "\n",
    "Our work here will include finding compounds which were tested against a certain target and filtering available bioactivity data."
   ]
  },
  {
   "cell_type": "markdown",
   "metadata": {},
   "source": [
    "### Contents in *Theory*\n",
    "\n",
    "* ChEMBL database\n",
    "    * ChEMBL web services\n",
    "    * ChEMBL webresource client\n",
    "* Compound activity measures\n",
    "    * IC50 measure\n",
    "    * pIC50 value"
   ]
  },
  {
   "cell_type": "markdown",
   "metadata": {},
   "source": [
    "### Contents in *Practical*\n",
    "    \n",
    "**Goal: Get a list of compounds with bioactivity data for a given target**\n",
    "\n",
    "* Connect to ChEMBL database\n",
    "* Get target data (example: EGFR kinase)\n",
    "    * Fetch and download target data\n",
    "    * Select target ChEMBL ID\n",
    "* Get bioactivity data\n",
    "    * Fetch and download bioactivity data for target\n",
    "    * Preprocess and filter bioactivities\n",
    "* Get compound data\n",
    "    * Fetch and download compound data\n",
    "    * Preprocess and filter compound data\n",
    "* Output bioactivity-compound data\n",
    "    * Merge bioactivity and compound data, and add pIC50 values\n",
    "    * Draw molecules with highest pIC50\n",
    "    * Write output file"
   ]
  },
  {
   "cell_type": "markdown",
   "metadata": {},
   "source": [
    "### References\n",
    "\n",
    "* ChEMBL bioactivity database: [Gaulton *et al.*, <i>Nucleic Acids Res.</i> (2017), 45(Database issue), D945–D954](https://www.ncbi.nlm.nih.gov/pmc/articles/PMC5210557/)\n",
    "* ChEMBL web services: [Davies *et al.*, <i>Nucleic Acids Res.</i> (2015), <b>43</b>, 612-620](https://academic.oup.com/nar/article/43/W1/W612/2467881) \n",
    "* [ChEMBL web-interface](https://www.ebi.ac.uk/chembl/)\n",
    "*  GitHub [ChEMBL webrescource client](https://github.com/chembl/chembl_webresource_client)\n",
    "* [myChEMBL web services version 2.x](https://github.com/chembl/mychembl/blob/master/ipython_notebooks/09_myChEMBL_web_services.ipynb)\n",
    "* The EBI RDF platform: [Jupp *et al.*, <i>Bioinformatics </i> (2014), 30(9), 1338-9](https://www.ncbi.nlm.nih.gov/pubmed/24413672)\n",
    "* Info on half maximal inhibitory concentration: [(p)IC50](https://en.wikipedia.org/wiki/IC50)\n",
    "* [UniProt website](https://www.uniprot.org/)"
   ]
  },
  {
   "cell_type": "markdown",
   "metadata": {},
   "source": [
    "## Theory"
   ]
  },
  {
   "cell_type": "markdown",
   "metadata": {},
   "source": [
    "### ChEMBL database\n",
    ">\"ChEMBL is a manually curated database of bioactive molecules with drug-like properties. It brings together chemical, bioactivity and genomic data to aid the translation of genomic information into effective new drugs.\" ([ChEMBL website](https://www.ebi.ac.uk/chembl/))\n",
    "\n",
    "* Open large-scale bioactivity database\n",
    "* **Current data content (as of 09.2020, ChEMBL 27):**\n",
    "    * \\>1.9 million distinct compounds\n",
    "    * \\>16 million activity values\n",
    "    * Assays are mapped to ~13,000 targets\n",
    "* **Data sources** include scientific literature, PubChem bioassays, Drugs for Neglected Diseases Initiative (DNDi), BindingDB database, ...\n",
    "* ChEMBL data can be accessed via a [web-interface](https://www.ebi.ac.uk/chembl/), the [EBI-RDF platform](https://www.ncbi.nlm.nih.gov/pubmed/24413672) and the [ChEMBL web services](https://github.com/chembl/mychembl/blob/master/ipython_notebooks/09_myChEMBL_web_services.ipynb)"
   ]
  },
  {
   "cell_type": "markdown",
   "metadata": {},
   "source": [
    "#### ChEMBL web services\n",
    "\n",
    "* RESTful web service\n",
    "* ChEMBL web service version 2.x resource schema: \n",
    "\n",
    "![ChEMBL web service schema](images/chembl_webservices_schema_diagram.jpg)\n",
    "\n",
    "*Figure 1:* \n",
    "\"[ChEMBL web service schema diagram](https://www.ncbi.nlm.nih.gov/pmc/articles/PMC4489243/figure/F2/). The oval shapes represent ChEMBL web service resources and the line between two resources indicates that they share a common attribute. The arrow direction shows where the primary information about a resource type can be found. A dashed line indicates the relationship between two resources behaves differently. For example, the `Image` resource provides a graphical based representation of a `Molecule`.\"\n",
    "Figure and description taken from: [<i>Nucleic Acids Res.</i> (2015), <b>43</b>, 612-620](https://academic.oup.com/nar/article/43/W1/W612/2467881)."
   ]
  },
  {
   "cell_type": "markdown",
   "metadata": {},
   "source": [
    "#### ChEMBL webresource client\n",
    "\n",
    "* Python client library for accessing ChEMBL data\n",
    "* Handles interaction with the HTTPS protocol\n",
    "* Lazy evaluation of results -> reduced number of network requests"
   ]
  },
  {
   "cell_type": "markdown",
   "metadata": {},
   "source": [
    "### Compound activity measures"
   ]
  },
  {
   "cell_type": "markdown",
   "metadata": {},
   "source": [
    "#### IC50 measure\n",
    "\n",
    "* [Half maximal inhibitory concentration](https://en.wikipedia.org/wiki/IC50)\n",
    "* Indicates how much of a particular drug or other substance is needed to inhibit a given biological process by half\n",
    "\n",
    "![Wiki_Example_IC50_curve_demonstrating_visually_how_IC50_is_derived](images/Wiki_Example_IC50_curve_demonstrating_visually_how_IC50_is_derived.png)\n",
    "\n",
    "*Figure 2:* Visual demonstration of how to derive an IC50 value: \n",
    "(i) Arrange inhibition data on y-axis and log(concentration) on x-axis. (ii) Identify maximum and minimum inhibition. (iii) The IC50 is the concentration at which the curve passes through the 50% inhibition level. Figure [\"Example IC50 curve demonstrating visually how IC50 is derived\"](https://en.wikipedia.org/wiki/IC50#/media/File:Example_IC50_curve_demonstrating_visually_how_IC50_is_derived.png) by JesseAlanGordon is licensed under [CC BY-SA 3.0](https://creativecommons.org/licenses/by-sa/3.0/)."
   ]
  },
  {
   "cell_type": "markdown",
   "metadata": {},
   "source": [
    "#### pIC50 value\n",
    "\n",
    "* To facilitate the comparison of IC50 values, which have a large value range and are given in different units (M, nM, ...), often pIC50 values are used\n",
    "* The pIC50 is the negative log of the IC50 value when converted to molar units: \n",
    "    $ pIC_{50} = -log_{10}(IC_{50}) $, where $ IC_{50}$ is specified in units of M\n",
    "* Higher pIC50 values indicate exponentially greater potency of the drug\n",
    "* Note that the conversion can be adapted to the respective IC50 unit, e.g. for nM: $pIC_{50} = -log_{10}(IC_{50}*10^{-9})= 9-log_{10}(IC_{50}) $\n",
    "\n",
    "Other activity measures:\n",
    "\n",
    "Besides, IC50 and pIC50, other bioactivity measures are used, such as the equilibrium constant [KI](https://en.wikipedia.org/wiki/Equilibrium_constant) and the half maximal effective concentration  [EC50](https://en.wikipedia.org/wiki/EC50)."
   ]
  },
  {
   "cell_type": "markdown",
   "metadata": {},
   "source": [
    "## Practical\n",
    "\n",
    "In the following, we want to download all molecules that have been tested against our target of interest, the **epidermal growth factor receptor** ([**EGFR**](https://www.uniprot.org/uniprot/P00533)) kinase."
   ]
  },
  {
   "cell_type": "markdown",
   "metadata": {},
   "source": [
    "### Connect to ChEMBL database"
   ]
  },
  {
   "cell_type": "markdown",
   "metadata": {},
   "source": [
    "First, the ChEMBL webresource client as well as other python libraries are imported."
   ]
  },
  {
   "cell_type": "code",
   "execution_count": 1,
   "metadata": {},
   "outputs": [],
   "source": [
    "import math\n",
    "import pickle\n",
    "from pathlib import Path\n",
    "from zipfile import ZipFile\n",
    "from tempfile import TemporaryDirectory\n",
    "import numpy as np\n",
    "import pandas as pd\n",
    "from rdkit.Chem import PandasTools\n",
    "from chembl_webresource_client.new_client import new_client"
   ]
  },
  {
   "cell_type": "code",
   "execution_count": 2,
   "metadata": {},
   "outputs": [],
   "source": [
    "HERE = Path(_dh[-1])\n",
    "DATA = HERE / \"data\""
   ]
  },
  {
   "cell_type": "markdown",
   "metadata": {},
   "source": [
    "Next, we create resource objects for API access."
   ]
  },
  {
   "cell_type": "code",
   "execution_count": 3,
   "metadata": {},
   "outputs": [],
   "source": [
    "targets_api = new_client.target\n",
    "compounds_api = new_client.molecule\n",
    "bioactivities_api = new_client.activity"
   ]
  },
  {
   "cell_type": "code",
   "execution_count": 4,
   "metadata": {},
   "outputs": [
    {
     "data": {
      "text/plain": [
       "chembl_webresource_client.query_set.QuerySet"
      ]
     },
     "execution_count": 4,
     "metadata": {},
     "output_type": "execute_result"
    }
   ],
   "source": [
    "type(targets_api)"
   ]
  },
  {
   "cell_type": "markdown",
   "metadata": {},
   "source": [
    "### Get target data (EGFR kinase)\n",
    "\n",
    "* Get UniProt ID of the target of interest (EGFR kinase:  [P00533](http://www.uniprot.org/uniprot/P00533)) from [UniProt website](https://www.uniprot.org/)\n",
    "* Use UniProt ID to get target information\n",
    "\n",
    "Select a different UniProt ID, if you are interested in another target."
   ]
  },
  {
   "cell_type": "code",
   "execution_count": 5,
   "metadata": {},
   "outputs": [],
   "source": [
    "uniprot_id = \"P00533\""
   ]
  },
  {
   "cell_type": "markdown",
   "metadata": {},
   "source": [
    "#### Fetch target data from ChEMBL"
   ]
  },
  {
   "cell_type": "code",
   "execution_count": 6,
   "metadata": {},
   "outputs": [
    {
     "name": "stdout",
     "output_type": "stream",
     "text": [
      "The type of the targets is \"<class 'chembl_webresource_client.query_set.QuerySet'>\"\n"
     ]
    }
   ],
   "source": [
    "# Get target information from ChEMBL but restrict it to specified values only\n",
    "targets = targets_api.get(target_components__accession=uniprot_id).only(\n",
    "    \"target_chembl_id\", \"organism\", \"pref_name\", \"target_type\"\n",
    ")\n",
    "print(f'The type of the targets is \"{type(targets)}\"')"
   ]
  },
  {
   "cell_type": "markdown",
   "metadata": {},
   "source": [
    "#### Download target data from ChEMBL\n",
    "\n",
    "The results of the query are stored in `targets`, a `QuerySet`, i.e. the results are not fetched from ChEMBL until we ask for it (here using `pandas.DataFrame.from_records`).\n",
    "\n",
    "More information about the `QuerySet` datatype:\n",
    "\n",
    "> QuerySets are lazy – the act of creating a QuerySet does not involve any database activity. You can stack filters together all day long, and Django will actually not run the query until the QuerySet is evaluated. \n",
    "([querysets-are-lazy](https://docs.djangoproject.com/en/3.0/topics/db/queries/#querysets-are-lazy))"
   ]
  },
  {
   "cell_type": "code",
   "execution_count": 7,
   "metadata": {},
   "outputs": [
    {
     "data": {
      "text/html": [
       "<div>\n",
       "<style scoped>\n",
       "    .dataframe tbody tr th:only-of-type {\n",
       "        vertical-align: middle;\n",
       "    }\n",
       "\n",
       "    .dataframe tbody tr th {\n",
       "        vertical-align: top;\n",
       "    }\n",
       "\n",
       "    .dataframe thead th {\n",
       "        text-align: right;\n",
       "    }\n",
       "</style>\n",
       "<table border=\"1\" class=\"dataframe\">\n",
       "  <thead>\n",
       "    <tr style=\"text-align: right;\">\n",
       "      <th></th>\n",
       "      <th>organism</th>\n",
       "      <th>pref_name</th>\n",
       "      <th>target_chembl_id</th>\n",
       "      <th>target_type</th>\n",
       "    </tr>\n",
       "  </thead>\n",
       "  <tbody>\n",
       "    <tr>\n",
       "      <th>0</th>\n",
       "      <td>Homo sapiens</td>\n",
       "      <td>Epidermal growth factor receptor erbB1</td>\n",
       "      <td>CHEMBL203</td>\n",
       "      <td>SINGLE PROTEIN</td>\n",
       "    </tr>\n",
       "    <tr>\n",
       "      <th>1</th>\n",
       "      <td>Homo sapiens</td>\n",
       "      <td>Epidermal growth factor receptor erbB1</td>\n",
       "      <td>CHEMBL203</td>\n",
       "      <td>SINGLE PROTEIN</td>\n",
       "    </tr>\n",
       "    <tr>\n",
       "      <th>2</th>\n",
       "      <td>Homo sapiens</td>\n",
       "      <td>Epidermal growth factor receptor and ErbB2 (HE...</td>\n",
       "      <td>CHEMBL2111431</td>\n",
       "      <td>PROTEIN FAMILY</td>\n",
       "    </tr>\n",
       "    <tr>\n",
       "      <th>3</th>\n",
       "      <td>Homo sapiens</td>\n",
       "      <td>Epidermal growth factor receptor</td>\n",
       "      <td>CHEMBL2363049</td>\n",
       "      <td>PROTEIN FAMILY</td>\n",
       "    </tr>\n",
       "    <tr>\n",
       "      <th>4</th>\n",
       "      <td>Homo sapiens</td>\n",
       "      <td>MER intracellular domain/EGFR extracellular do...</td>\n",
       "      <td>CHEMBL3137284</td>\n",
       "      <td>CHIMERIC PROTEIN</td>\n",
       "    </tr>\n",
       "    <tr>\n",
       "      <th>5</th>\n",
       "      <td>Homo sapiens</td>\n",
       "      <td>Protein cereblon/Epidermal growth factor receptor</td>\n",
       "      <td>CHEMBL4523680</td>\n",
       "      <td>PROTEIN-PROTEIN INTERACTION</td>\n",
       "    </tr>\n",
       "    <tr>\n",
       "      <th>6</th>\n",
       "      <td>Homo sapiens</td>\n",
       "      <td>EGFR/PPP1CA</td>\n",
       "      <td>CHEMBL4523747</td>\n",
       "      <td>PROTEIN-PROTEIN INTERACTION</td>\n",
       "    </tr>\n",
       "    <tr>\n",
       "      <th>7</th>\n",
       "      <td>Homo sapiens</td>\n",
       "      <td>VHL/EGFR</td>\n",
       "      <td>CHEMBL4523998</td>\n",
       "      <td>PROTEIN-PROTEIN INTERACTION</td>\n",
       "    </tr>\n",
       "    <tr>\n",
       "      <th>8</th>\n",
       "      <td>Homo sapiens</td>\n",
       "      <td>Baculoviral IAP repeat-containing protein 2/Ep...</td>\n",
       "      <td>CHEMBL4802031</td>\n",
       "      <td>PROTEIN-PROTEIN INTERACTION</td>\n",
       "    </tr>\n",
       "  </tbody>\n",
       "</table>\n",
       "</div>"
      ],
      "text/plain": [
       "       organism                                          pref_name  \\\n",
       "0  Homo sapiens             Epidermal growth factor receptor erbB1   \n",
       "1  Homo sapiens             Epidermal growth factor receptor erbB1   \n",
       "2  Homo sapiens  Epidermal growth factor receptor and ErbB2 (HE...   \n",
       "3  Homo sapiens                   Epidermal growth factor receptor   \n",
       "4  Homo sapiens  MER intracellular domain/EGFR extracellular do...   \n",
       "5  Homo sapiens  Protein cereblon/Epidermal growth factor receptor   \n",
       "6  Homo sapiens                                        EGFR/PPP1CA   \n",
       "7  Homo sapiens                                           VHL/EGFR   \n",
       "8  Homo sapiens  Baculoviral IAP repeat-containing protein 2/Ep...   \n",
       "\n",
       "  target_chembl_id                  target_type  \n",
       "0        CHEMBL203               SINGLE PROTEIN  \n",
       "1        CHEMBL203               SINGLE PROTEIN  \n",
       "2    CHEMBL2111431               PROTEIN FAMILY  \n",
       "3    CHEMBL2363049               PROTEIN FAMILY  \n",
       "4    CHEMBL3137284             CHIMERIC PROTEIN  \n",
       "5    CHEMBL4523680  PROTEIN-PROTEIN INTERACTION  \n",
       "6    CHEMBL4523747  PROTEIN-PROTEIN INTERACTION  \n",
       "7    CHEMBL4523998  PROTEIN-PROTEIN INTERACTION  \n",
       "8    CHEMBL4802031  PROTEIN-PROTEIN INTERACTION  "
      ]
     },
     "execution_count": 7,
     "metadata": {},
     "output_type": "execute_result"
    }
   ],
   "source": [
    "targets = pd.DataFrame.from_records(targets)\n",
    "targets"
   ]
  },
  {
   "cell_type": "markdown",
   "metadata": {},
   "source": [
    "#### Select target (target ChEMBL ID)\n",
    "\n",
    "After checking the entries, we select the first entry as our target of interest:\n",
    "\n",
    "`CHEMBL203`: It is a single protein and represents the human Epidermal growth factor receptor (EGFR, also named erbB1) "
   ]
  },
  {
   "cell_type": "code",
   "execution_count": 8,
   "metadata": {},
   "outputs": [
    {
     "data": {
      "text/plain": [
       "organism                                      Homo sapiens\n",
       "pref_name           Epidermal growth factor receptor erbB1\n",
       "target_chembl_id                                 CHEMBL203\n",
       "target_type                                 SINGLE PROTEIN\n",
       "Name: 0, dtype: object"
      ]
     },
     "execution_count": 8,
     "metadata": {},
     "output_type": "execute_result"
    }
   ],
   "source": [
    "target = targets.iloc[0]\n",
    "target"
   ]
  },
  {
   "cell_type": "markdown",
   "metadata": {},
   "source": [
    "Save selected ChEMBL ID."
   ]
  },
  {
   "cell_type": "code",
   "execution_count": 9,
   "metadata": {},
   "outputs": [
    {
     "name": "stdout",
     "output_type": "stream",
     "text": [
      "The target ChEMBL ID is CHEMBL203\n"
     ]
    }
   ],
   "source": [
    "chembl_id = target.target_chembl_id\n",
    "print(f\"The target ChEMBL ID is {chembl_id}\")\n",
    "# NBVAL_CHECK_OUTPUT"
   ]
  },
  {
   "cell_type": "markdown",
   "metadata": {},
   "source": [
    "### Get bioactivity data\n",
    "\n",
    "Now, we want to query bioactivity data for the target of interest."
   ]
  },
  {
   "cell_type": "markdown",
   "metadata": {},
   "source": [
    "#### Fetch bioactivity data for the target from ChEMBL"
   ]
  },
  {
   "cell_type": "markdown",
   "metadata": {},
   "source": [
    "In this step, we fetch the bioactivity data and filter it to only consider\n",
    "\n",
    "* human proteins, \n",
    "* bioactivity type IC50, \n",
    "* exact measurements (relation `'='`), and\n",
    "* binding data (assay type `'B'`)."
   ]
  },
  {
   "cell_type": "code",
   "execution_count": 10,
   "metadata": {},
   "outputs": [
    {
     "name": "stdout",
     "output_type": "stream",
     "text": [
      "Length and type of bioactivities object: 10420, <class 'chembl_webresource_client.query_set.QuerySet'>\n"
     ]
    }
   ],
   "source": [
    "bioactivities = bioactivities_api.filter(\n",
    "    target_chembl_id=chembl_id, type=\"IC50\", relation=\"=\", assay_type=\"B\"\n",
    ").only(\n",
    "    \"activity_id\",\n",
    "    \"assay_chembl_id\",\n",
    "    \"assay_description\",\n",
    "    \"assay_type\",\n",
    "    \"molecule_chembl_id\",\n",
    "    \"type\",\n",
    "    \"standard_units\",\n",
    "    \"relation\",\n",
    "    \"standard_value\",\n",
    "    \"target_chembl_id\",\n",
    "    \"target_organism\",\n",
    ")\n",
    "\n",
    "print(f\"Length and type of bioactivities object: {len(bioactivities)}, {type(bioactivities)}\")\n",
    "# NBVAL_CHECK_OUTPUT"
   ]
  },
  {
   "cell_type": "markdown",
   "metadata": {},
   "source": [
    "Our bioactivity set contains 10420 entries, each holding the following information."
   ]
  },
  {
   "cell_type": "code",
   "execution_count": 11,
   "metadata": {},
   "outputs": [
    {
     "name": "stdout",
     "output_type": "stream",
     "text": [
      "Length and type of first element: 13, <class 'dict'>\n"
     ]
    },
    {
     "data": {
      "text/plain": [
       "{'activity_id': 32260,\n",
       " 'assay_chembl_id': 'CHEMBL674637',\n",
       " 'assay_description': 'Inhibitory activity towards tyrosine phosphorylation for the epidermal growth factor-receptor kinase',\n",
       " 'assay_type': 'B',\n",
       " 'molecule_chembl_id': 'CHEMBL68920',\n",
       " 'relation': '=',\n",
       " 'standard_units': 'nM',\n",
       " 'standard_value': '41.0',\n",
       " 'target_chembl_id': 'CHEMBL203',\n",
       " 'target_organism': 'Homo sapiens',\n",
       " 'type': 'IC50',\n",
       " 'units': 'uM',\n",
       " 'value': '0.041'}"
      ]
     },
     "execution_count": 11,
     "metadata": {},
     "output_type": "execute_result"
    }
   ],
   "source": [
    "print(f\"Length and type of first element: {len(bioactivities[0])}, {type(bioactivities[0])}\")\n",
    "bioactivities[0]"
   ]
  },
  {
   "cell_type": "markdown",
   "metadata": {},
   "source": [
    "#### Download bioactivity data from ChEMBL"
   ]
  },
  {
   "cell_type": "markdown",
   "metadata": {},
   "source": [
    "Finally, we download the `QuerySet` in the form of a `pandas` `DataFrame`. \n",
    "\n",
    "> **Note**: This step should not take more than 2 minutes, if so try to rerun all cells starting from _\"Fetch bioactivity data for the target from ChEMBL\"_ or read this message below:\n",
    "\n",
    "<details>\n",
    "    \n",
    "<summary>Load a local version of the data (in case you encounter any problems while fetching the data)</summary>\n",
    "    \n",
    "If you experience difficulties to query the ChEMBL database, we also provide the resulting dataframe you will construct in the cell below. If you want to use the saved version, use the following code instead to obtain `bioactivities_df`:\n",
    "  \n",
    "```python\n",
    "# replace first line in cell below with this other line\n",
    "bioactivities_df = pd.read_csv(DATA / \"EGFR_compounds_CHEMBL27.csv.zip\", index_col=0)\n",
    "```\n",
    "\n",
    "</details>"
   ]
  },
  {
   "cell_type": "code",
   "execution_count": 12,
   "metadata": {},
   "outputs": [
    {
     "data": {
      "text/html": [
       "<div>\n",
       "<style scoped>\n",
       "    .dataframe tbody tr th:only-of-type {\n",
       "        vertical-align: middle;\n",
       "    }\n",
       "\n",
       "    .dataframe tbody tr th {\n",
       "        vertical-align: top;\n",
       "    }\n",
       "\n",
       "    .dataframe thead th {\n",
       "        text-align: right;\n",
       "    }\n",
       "</style>\n",
       "<table border=\"1\" class=\"dataframe\">\n",
       "  <thead>\n",
       "    <tr style=\"text-align: right;\">\n",
       "      <th></th>\n",
       "      <th>activity_id</th>\n",
       "      <th>assay_chembl_id</th>\n",
       "      <th>assay_description</th>\n",
       "      <th>assay_type</th>\n",
       "      <th>molecule_chembl_id</th>\n",
       "      <th>relation</th>\n",
       "      <th>standard_units</th>\n",
       "      <th>standard_value</th>\n",
       "      <th>target_chembl_id</th>\n",
       "      <th>target_organism</th>\n",
       "      <th>type</th>\n",
       "      <th>units</th>\n",
       "      <th>value</th>\n",
       "    </tr>\n",
       "  </thead>\n",
       "  <tbody>\n",
       "    <tr>\n",
       "      <th>0</th>\n",
       "      <td>32260</td>\n",
       "      <td>CHEMBL674637</td>\n",
       "      <td>Inhibitory activity towards tyrosine phosphory...</td>\n",
       "      <td>B</td>\n",
       "      <td>CHEMBL68920</td>\n",
       "      <td>=</td>\n",
       "      <td>nM</td>\n",
       "      <td>41.0</td>\n",
       "      <td>CHEMBL203</td>\n",
       "      <td>Homo sapiens</td>\n",
       "      <td>IC50</td>\n",
       "      <td>uM</td>\n",
       "      <td>0.041</td>\n",
       "    </tr>\n",
       "    <tr>\n",
       "      <th>1</th>\n",
       "      <td>32260</td>\n",
       "      <td>CHEMBL674637</td>\n",
       "      <td>Inhibitory activity towards tyrosine phosphory...</td>\n",
       "      <td>B</td>\n",
       "      <td>CHEMBL68920</td>\n",
       "      <td>=</td>\n",
       "      <td>nM</td>\n",
       "      <td>41.0</td>\n",
       "      <td>CHEMBL203</td>\n",
       "      <td>Homo sapiens</td>\n",
       "      <td>IC50</td>\n",
       "      <td>uM</td>\n",
       "      <td>0.041</td>\n",
       "    </tr>\n",
       "    <tr>\n",
       "      <th>2</th>\n",
       "      <td>32267</td>\n",
       "      <td>CHEMBL674637</td>\n",
       "      <td>Inhibitory activity towards tyrosine phosphory...</td>\n",
       "      <td>B</td>\n",
       "      <td>CHEMBL69960</td>\n",
       "      <td>=</td>\n",
       "      <td>nM</td>\n",
       "      <td>170.0</td>\n",
       "      <td>CHEMBL203</td>\n",
       "      <td>Homo sapiens</td>\n",
       "      <td>IC50</td>\n",
       "      <td>uM</td>\n",
       "      <td>0.17</td>\n",
       "    </tr>\n",
       "    <tr>\n",
       "      <th>3</th>\n",
       "      <td>32680</td>\n",
       "      <td>CHEMBL677833</td>\n",
       "      <td>In vitro inhibition of Epidermal growth factor...</td>\n",
       "      <td>B</td>\n",
       "      <td>CHEMBL137635</td>\n",
       "      <td>=</td>\n",
       "      <td>nM</td>\n",
       "      <td>9300.0</td>\n",
       "      <td>CHEMBL203</td>\n",
       "      <td>Homo sapiens</td>\n",
       "      <td>IC50</td>\n",
       "      <td>uM</td>\n",
       "      <td>9.3</td>\n",
       "    </tr>\n",
       "    <tr>\n",
       "      <th>4</th>\n",
       "      <td>32770</td>\n",
       "      <td>CHEMBL674643</td>\n",
       "      <td>Inhibitory concentration of EGF dependent auto...</td>\n",
       "      <td>B</td>\n",
       "      <td>CHEMBL306988</td>\n",
       "      <td>=</td>\n",
       "      <td>nM</td>\n",
       "      <td>500000.0</td>\n",
       "      <td>CHEMBL203</td>\n",
       "      <td>Homo sapiens</td>\n",
       "      <td>IC50</td>\n",
       "      <td>uM</td>\n",
       "      <td>500.0</td>\n",
       "    </tr>\n",
       "  </tbody>\n",
       "</table>\n",
       "</div>"
      ],
      "text/plain": [
       "   activity_id assay_chembl_id  \\\n",
       "0        32260    CHEMBL674637   \n",
       "1        32260    CHEMBL674637   \n",
       "2        32267    CHEMBL674637   \n",
       "3        32680    CHEMBL677833   \n",
       "4        32770    CHEMBL674643   \n",
       "\n",
       "                                   assay_description assay_type  \\\n",
       "0  Inhibitory activity towards tyrosine phosphory...          B   \n",
       "1  Inhibitory activity towards tyrosine phosphory...          B   \n",
       "2  Inhibitory activity towards tyrosine phosphory...          B   \n",
       "3  In vitro inhibition of Epidermal growth factor...          B   \n",
       "4  Inhibitory concentration of EGF dependent auto...          B   \n",
       "\n",
       "  molecule_chembl_id relation standard_units standard_value target_chembl_id  \\\n",
       "0        CHEMBL68920        =             nM           41.0        CHEMBL203   \n",
       "1        CHEMBL68920        =             nM           41.0        CHEMBL203   \n",
       "2        CHEMBL69960        =             nM          170.0        CHEMBL203   \n",
       "3       CHEMBL137635        =             nM         9300.0        CHEMBL203   \n",
       "4       CHEMBL306988        =             nM       500000.0        CHEMBL203   \n",
       "\n",
       "  target_organism  type units  value  \n",
       "0    Homo sapiens  IC50    uM  0.041  \n",
       "1    Homo sapiens  IC50    uM  0.041  \n",
       "2    Homo sapiens  IC50    uM   0.17  \n",
       "3    Homo sapiens  IC50    uM    9.3  \n",
       "4    Homo sapiens  IC50    uM  500.0  "
      ]
     },
     "execution_count": 12,
     "metadata": {},
     "output_type": "execute_result"
    }
   ],
   "source": [
    "if 0:\n",
    "    bioactivities_df = pd.DataFrame.from_records(bioactivities)\n",
    "    print(f\"DataFrame shape: {bioactivities_df.shape}\")\n",
    "    with open(DATA / \"egfr_data.pkl\",'wb+') as outf:\n",
    "        pickle.dump(bioactivities_df,outf)\n",
    "else:\n",
    "    with open(DATA / \"egfr_data.pkl\",'rb') as inf:\n",
    "        bioactivities_df = pickle.load(inf)\n",
    "bioactivities_df.head()"
   ]
  },
  {
   "cell_type": "markdown",
   "metadata": {},
   "source": [
    "Note, that we have columns for `standard_units`/`units` and `standard_values`/`values` - in the following we will use the standardized columns (standardization by ChEMBL). Thus, we drop the other two columns.\n",
    "\n",
    "If we used the `units` and `values` columns, we would need to convert all values with many different units to nM:"
   ]
  },
  {
   "cell_type": "code",
   "execution_count": 13,
   "metadata": {},
   "outputs": [
    {
     "data": {
      "text/plain": [
       "array(['uM', 'nM', 'pM', 'M', \"10'3 uM\", \"10'1 ug/ml\", 'ug ml-1',\n",
       "       \"10'-1microM\", \"10'1 uM\", \"10'-1 ug/ml\", \"10'-2 ug/ml\", \"10'2 uM\",\n",
       "       \"10'-3 ug/ml\", \"10'-2microM\", '/uM', \"10'-6g/ml\", 'mM', 'umol/L',\n",
       "       'nmol/L', \"10'-10M\", \"10'-7M\", 'nmol', '10^-8M', 'µM'],\n",
       "      dtype=object)"
      ]
     },
     "execution_count": 13,
     "metadata": {},
     "output_type": "execute_result"
    }
   ],
   "source": [
    "bioactivities_df[\"units\"].unique()"
   ]
  },
  {
   "cell_type": "code",
   "execution_count": 14,
   "metadata": {},
   "outputs": [
    {
     "data": {
      "text/html": [
       "<div>\n",
       "<style scoped>\n",
       "    .dataframe tbody tr th:only-of-type {\n",
       "        vertical-align: middle;\n",
       "    }\n",
       "\n",
       "    .dataframe tbody tr th {\n",
       "        vertical-align: top;\n",
       "    }\n",
       "\n",
       "    .dataframe thead th {\n",
       "        text-align: right;\n",
       "    }\n",
       "</style>\n",
       "<table border=\"1\" class=\"dataframe\">\n",
       "  <thead>\n",
       "    <tr style=\"text-align: right;\">\n",
       "      <th></th>\n",
       "      <th>activity_id</th>\n",
       "      <th>assay_chembl_id</th>\n",
       "      <th>assay_description</th>\n",
       "      <th>assay_type</th>\n",
       "      <th>molecule_chembl_id</th>\n",
       "      <th>relation</th>\n",
       "      <th>standard_units</th>\n",
       "      <th>standard_value</th>\n",
       "      <th>target_chembl_id</th>\n",
       "      <th>target_organism</th>\n",
       "      <th>type</th>\n",
       "    </tr>\n",
       "  </thead>\n",
       "  <tbody>\n",
       "    <tr>\n",
       "      <th>0</th>\n",
       "      <td>32260</td>\n",
       "      <td>CHEMBL674637</td>\n",
       "      <td>Inhibitory activity towards tyrosine phosphory...</td>\n",
       "      <td>B</td>\n",
       "      <td>CHEMBL68920</td>\n",
       "      <td>=</td>\n",
       "      <td>nM</td>\n",
       "      <td>41.0</td>\n",
       "      <td>CHEMBL203</td>\n",
       "      <td>Homo sapiens</td>\n",
       "      <td>IC50</td>\n",
       "    </tr>\n",
       "    <tr>\n",
       "      <th>1</th>\n",
       "      <td>32260</td>\n",
       "      <td>CHEMBL674637</td>\n",
       "      <td>Inhibitory activity towards tyrosine phosphory...</td>\n",
       "      <td>B</td>\n",
       "      <td>CHEMBL68920</td>\n",
       "      <td>=</td>\n",
       "      <td>nM</td>\n",
       "      <td>41.0</td>\n",
       "      <td>CHEMBL203</td>\n",
       "      <td>Homo sapiens</td>\n",
       "      <td>IC50</td>\n",
       "    </tr>\n",
       "    <tr>\n",
       "      <th>2</th>\n",
       "      <td>32267</td>\n",
       "      <td>CHEMBL674637</td>\n",
       "      <td>Inhibitory activity towards tyrosine phosphory...</td>\n",
       "      <td>B</td>\n",
       "      <td>CHEMBL69960</td>\n",
       "      <td>=</td>\n",
       "      <td>nM</td>\n",
       "      <td>170.0</td>\n",
       "      <td>CHEMBL203</td>\n",
       "      <td>Homo sapiens</td>\n",
       "      <td>IC50</td>\n",
       "    </tr>\n",
       "    <tr>\n",
       "      <th>3</th>\n",
       "      <td>32680</td>\n",
       "      <td>CHEMBL677833</td>\n",
       "      <td>In vitro inhibition of Epidermal growth factor...</td>\n",
       "      <td>B</td>\n",
       "      <td>CHEMBL137635</td>\n",
       "      <td>=</td>\n",
       "      <td>nM</td>\n",
       "      <td>9300.0</td>\n",
       "      <td>CHEMBL203</td>\n",
       "      <td>Homo sapiens</td>\n",
       "      <td>IC50</td>\n",
       "    </tr>\n",
       "    <tr>\n",
       "      <th>4</th>\n",
       "      <td>32770</td>\n",
       "      <td>CHEMBL674643</td>\n",
       "      <td>Inhibitory concentration of EGF dependent auto...</td>\n",
       "      <td>B</td>\n",
       "      <td>CHEMBL306988</td>\n",
       "      <td>=</td>\n",
       "      <td>nM</td>\n",
       "      <td>500000.0</td>\n",
       "      <td>CHEMBL203</td>\n",
       "      <td>Homo sapiens</td>\n",
       "      <td>IC50</td>\n",
       "    </tr>\n",
       "  </tbody>\n",
       "</table>\n",
       "</div>"
      ],
      "text/plain": [
       "   activity_id assay_chembl_id  \\\n",
       "0        32260    CHEMBL674637   \n",
       "1        32260    CHEMBL674637   \n",
       "2        32267    CHEMBL674637   \n",
       "3        32680    CHEMBL677833   \n",
       "4        32770    CHEMBL674643   \n",
       "\n",
       "                                   assay_description assay_type  \\\n",
       "0  Inhibitory activity towards tyrosine phosphory...          B   \n",
       "1  Inhibitory activity towards tyrosine phosphory...          B   \n",
       "2  Inhibitory activity towards tyrosine phosphory...          B   \n",
       "3  In vitro inhibition of Epidermal growth factor...          B   \n",
       "4  Inhibitory concentration of EGF dependent auto...          B   \n",
       "\n",
       "  molecule_chembl_id relation standard_units standard_value target_chembl_id  \\\n",
       "0        CHEMBL68920        =             nM           41.0        CHEMBL203   \n",
       "1        CHEMBL68920        =             nM           41.0        CHEMBL203   \n",
       "2        CHEMBL69960        =             nM          170.0        CHEMBL203   \n",
       "3       CHEMBL137635        =             nM         9300.0        CHEMBL203   \n",
       "4       CHEMBL306988        =             nM       500000.0        CHEMBL203   \n",
       "\n",
       "  target_organism  type  \n",
       "0    Homo sapiens  IC50  \n",
       "1    Homo sapiens  IC50  \n",
       "2    Homo sapiens  IC50  \n",
       "3    Homo sapiens  IC50  \n",
       "4    Homo sapiens  IC50  "
      ]
     },
     "execution_count": 14,
     "metadata": {},
     "output_type": "execute_result"
    }
   ],
   "source": [
    "bioactivities_df.drop([\"units\", \"value\"], axis=1, inplace=True)\n",
    "bioactivities_df.head()"
   ]
  },
  {
   "cell_type": "markdown",
   "metadata": {},
   "source": [
    "#### Preprocess and filter bioactivity data\n",
    "\n",
    "1. Convert `standard_value`'s datatype from `object` to `float`\n",
    "2. Delete entries with missing values\n",
    "3. Keep only entries with `standard_unit == nM`\n",
    "4. Delete duplicate molecules\n",
    "5. Reset `DataFrame` index\n",
    "6. Rename columns"
   ]
  },
  {
   "cell_type": "markdown",
   "metadata": {},
   "source": [
    "**1. Convert datatype of \"standard_value\" from \"object\" to \"float\"**\n",
    "\n",
    "The field `standard_value` holds standardized (here IC50) values. In order to make these values usable in calculations later on, convert values to floats."
   ]
  },
  {
   "cell_type": "code",
   "execution_count": 15,
   "metadata": {},
   "outputs": [
    {
     "data": {
      "text/plain": [
       "activity_id            int64\n",
       "assay_chembl_id       object\n",
       "assay_description     object\n",
       "assay_type            object\n",
       "molecule_chembl_id    object\n",
       "relation              object\n",
       "standard_units        object\n",
       "standard_value        object\n",
       "target_chembl_id      object\n",
       "target_organism       object\n",
       "type                  object\n",
       "dtype: object"
      ]
     },
     "execution_count": 15,
     "metadata": {},
     "output_type": "execute_result"
    }
   ],
   "source": [
    "bioactivities_df.dtypes"
   ]
  },
  {
   "cell_type": "code",
   "execution_count": 16,
   "metadata": {},
   "outputs": [
    {
     "data": {
      "text/plain": [
       "activity_id             int64\n",
       "assay_chembl_id        object\n",
       "assay_description      object\n",
       "assay_type             object\n",
       "molecule_chembl_id     object\n",
       "relation               object\n",
       "standard_units         object\n",
       "standard_value        float64\n",
       "target_chembl_id       object\n",
       "target_organism        object\n",
       "type                   object\n",
       "dtype: object"
      ]
     },
     "execution_count": 16,
     "metadata": {},
     "output_type": "execute_result"
    }
   ],
   "source": [
    "bioactivities_df = bioactivities_df.astype({\"standard_value\": \"float64\"})\n",
    "bioactivities_df.dtypes"
   ]
  },
  {
   "cell_type": "markdown",
   "metadata": {},
   "source": [
    "**2. Delete entries with missing values**\n",
    "\n",
    "Use the parameter `inplace=True` to drop values in the current `DataFrame` directly."
   ]
  },
  {
   "cell_type": "code",
   "execution_count": 17,
   "metadata": {},
   "outputs": [
    {
     "name": "stdout",
     "output_type": "stream",
     "text": [
      "DataFrame shape: (10420, 11)\n"
     ]
    }
   ],
   "source": [
    "bioactivities_df.dropna(axis=0, how=\"any\", inplace=True)\n",
    "print(f\"DataFrame shape: {bioactivities_df.shape}\")"
   ]
  },
  {
   "cell_type": "markdown",
   "metadata": {},
   "source": [
    "**3. Keep only entries with \"standard_unit == nM\"** \n",
    "\n",
    "We only want to keep bioactivity entries in `nM`, thus we remove all entries with other units."
   ]
  },
  {
   "cell_type": "code",
   "execution_count": 18,
   "metadata": {},
   "outputs": [
    {
     "name": "stdout",
     "output_type": "stream",
     "text": [
      "Units in downloaded data: ['nM' 'ug.mL-1' '/uM' 'µM']\n",
      "Number of non-nM entries:    70\n"
     ]
    }
   ],
   "source": [
    "print(f\"Units in downloaded data: {bioactivities_df['standard_units'].unique()}\")\n",
    "print(\n",
    "    f\"Number of non-nM entries:\\\n",
    "    {bioactivities_df[bioactivities_df['standard_units'] != 'nM'].shape[0]}\"\n",
    ")"
   ]
  },
  {
   "cell_type": "code",
   "execution_count": 19,
   "metadata": {},
   "outputs": [
    {
     "name": "stdout",
     "output_type": "stream",
     "text": [
      "Units after filtering: ['nM']\n"
     ]
    }
   ],
   "source": [
    "bioactivities_df = bioactivities_df[bioactivities_df[\"standard_units\"] == \"nM\"]\n",
    "print(f\"Units after filtering: {bioactivities_df['standard_units'].unique()}\")"
   ]
  },
  {
   "cell_type": "code",
   "execution_count": 20,
   "metadata": {},
   "outputs": [
    {
     "name": "stdout",
     "output_type": "stream",
     "text": [
      "DataFrame shape: (10350, 11)\n"
     ]
    }
   ],
   "source": [
    "print(f\"DataFrame shape: {bioactivities_df.shape}\")"
   ]
  },
  {
   "cell_type": "markdown",
   "metadata": {},
   "source": [
    "**4. Delete duplicate molecules**\n",
    "\n",
    "Sometimes the same molecule (`molecule_chembl_id`) has been tested more than once, in this case, we only keep the first one.\n",
    "\n",
    "Note other choices could be to keep the one with the best value or a mean value of all assay results for the respective compound."
   ]
  },
  {
   "cell_type": "code",
   "execution_count": 21,
   "metadata": {},
   "outputs": [
    {
     "name": "stdout",
     "output_type": "stream",
     "text": [
      "DataFrame shape: (6823, 11)\n"
     ]
    }
   ],
   "source": [
    "bioactivities_df.drop_duplicates(\"molecule_chembl_id\", keep=\"first\", inplace=True)\n",
    "print(f\"DataFrame shape: {bioactivities_df.shape}\")"
   ]
  },
  {
   "cell_type": "markdown",
   "metadata": {},
   "source": [
    "**5. Reset \"DataFrame\" index**\n",
    "\n",
    "Since we deleted some rows, but we want to iterate over the index later, we reset the index to be continuous."
   ]
  },
  {
   "cell_type": "code",
   "execution_count": 22,
   "metadata": {},
   "outputs": [
    {
     "data": {
      "text/html": [
       "<div>\n",
       "<style scoped>\n",
       "    .dataframe tbody tr th:only-of-type {\n",
       "        vertical-align: middle;\n",
       "    }\n",
       "\n",
       "    .dataframe tbody tr th {\n",
       "        vertical-align: top;\n",
       "    }\n",
       "\n",
       "    .dataframe thead th {\n",
       "        text-align: right;\n",
       "    }\n",
       "</style>\n",
       "<table border=\"1\" class=\"dataframe\">\n",
       "  <thead>\n",
       "    <tr style=\"text-align: right;\">\n",
       "      <th></th>\n",
       "      <th>activity_id</th>\n",
       "      <th>assay_chembl_id</th>\n",
       "      <th>assay_description</th>\n",
       "      <th>assay_type</th>\n",
       "      <th>molecule_chembl_id</th>\n",
       "      <th>relation</th>\n",
       "      <th>standard_units</th>\n",
       "      <th>standard_value</th>\n",
       "      <th>target_chembl_id</th>\n",
       "      <th>target_organism</th>\n",
       "      <th>type</th>\n",
       "    </tr>\n",
       "  </thead>\n",
       "  <tbody>\n",
       "    <tr>\n",
       "      <th>0</th>\n",
       "      <td>32260</td>\n",
       "      <td>CHEMBL674637</td>\n",
       "      <td>Inhibitory activity towards tyrosine phosphory...</td>\n",
       "      <td>B</td>\n",
       "      <td>CHEMBL68920</td>\n",
       "      <td>=</td>\n",
       "      <td>nM</td>\n",
       "      <td>41.0</td>\n",
       "      <td>CHEMBL203</td>\n",
       "      <td>Homo sapiens</td>\n",
       "      <td>IC50</td>\n",
       "    </tr>\n",
       "    <tr>\n",
       "      <th>1</th>\n",
       "      <td>32267</td>\n",
       "      <td>CHEMBL674637</td>\n",
       "      <td>Inhibitory activity towards tyrosine phosphory...</td>\n",
       "      <td>B</td>\n",
       "      <td>CHEMBL69960</td>\n",
       "      <td>=</td>\n",
       "      <td>nM</td>\n",
       "      <td>170.0</td>\n",
       "      <td>CHEMBL203</td>\n",
       "      <td>Homo sapiens</td>\n",
       "      <td>IC50</td>\n",
       "    </tr>\n",
       "    <tr>\n",
       "      <th>2</th>\n",
       "      <td>32680</td>\n",
       "      <td>CHEMBL677833</td>\n",
       "      <td>In vitro inhibition of Epidermal growth factor...</td>\n",
       "      <td>B</td>\n",
       "      <td>CHEMBL137635</td>\n",
       "      <td>=</td>\n",
       "      <td>nM</td>\n",
       "      <td>9300.0</td>\n",
       "      <td>CHEMBL203</td>\n",
       "      <td>Homo sapiens</td>\n",
       "      <td>IC50</td>\n",
       "    </tr>\n",
       "    <tr>\n",
       "      <th>3</th>\n",
       "      <td>32770</td>\n",
       "      <td>CHEMBL674643</td>\n",
       "      <td>Inhibitory concentration of EGF dependent auto...</td>\n",
       "      <td>B</td>\n",
       "      <td>CHEMBL306988</td>\n",
       "      <td>=</td>\n",
       "      <td>nM</td>\n",
       "      <td>500000.0</td>\n",
       "      <td>CHEMBL203</td>\n",
       "      <td>Homo sapiens</td>\n",
       "      <td>IC50</td>\n",
       "    </tr>\n",
       "    <tr>\n",
       "      <th>4</th>\n",
       "      <td>32772</td>\n",
       "      <td>CHEMBL674643</td>\n",
       "      <td>Inhibitory concentration of EGF dependent auto...</td>\n",
       "      <td>B</td>\n",
       "      <td>CHEMBL66879</td>\n",
       "      <td>=</td>\n",
       "      <td>nM</td>\n",
       "      <td>3000000.0</td>\n",
       "      <td>CHEMBL203</td>\n",
       "      <td>Homo sapiens</td>\n",
       "      <td>IC50</td>\n",
       "    </tr>\n",
       "  </tbody>\n",
       "</table>\n",
       "</div>"
      ],
      "text/plain": [
       "   activity_id assay_chembl_id  \\\n",
       "0        32260    CHEMBL674637   \n",
       "1        32267    CHEMBL674637   \n",
       "2        32680    CHEMBL677833   \n",
       "3        32770    CHEMBL674643   \n",
       "4        32772    CHEMBL674643   \n",
       "\n",
       "                                   assay_description assay_type  \\\n",
       "0  Inhibitory activity towards tyrosine phosphory...          B   \n",
       "1  Inhibitory activity towards tyrosine phosphory...          B   \n",
       "2  In vitro inhibition of Epidermal growth factor...          B   \n",
       "3  Inhibitory concentration of EGF dependent auto...          B   \n",
       "4  Inhibitory concentration of EGF dependent auto...          B   \n",
       "\n",
       "  molecule_chembl_id relation standard_units  standard_value target_chembl_id  \\\n",
       "0        CHEMBL68920        =             nM            41.0        CHEMBL203   \n",
       "1        CHEMBL69960        =             nM           170.0        CHEMBL203   \n",
       "2       CHEMBL137635        =             nM          9300.0        CHEMBL203   \n",
       "3       CHEMBL306988        =             nM        500000.0        CHEMBL203   \n",
       "4        CHEMBL66879        =             nM       3000000.0        CHEMBL203   \n",
       "\n",
       "  target_organism  type  \n",
       "0    Homo sapiens  IC50  \n",
       "1    Homo sapiens  IC50  \n",
       "2    Homo sapiens  IC50  \n",
       "3    Homo sapiens  IC50  \n",
       "4    Homo sapiens  IC50  "
      ]
     },
     "execution_count": 22,
     "metadata": {},
     "output_type": "execute_result"
    }
   ],
   "source": [
    "bioactivities_df.reset_index(drop=True, inplace=True)\n",
    "bioactivities_df.head()"
   ]
  },
  {
   "cell_type": "markdown",
   "metadata": {},
   "source": [
    "**6. Rename columns**"
   ]
  },
  {
   "cell_type": "code",
   "execution_count": 23,
   "metadata": {},
   "outputs": [
    {
     "data": {
      "text/html": [
       "<div>\n",
       "<style scoped>\n",
       "    .dataframe tbody tr th:only-of-type {\n",
       "        vertical-align: middle;\n",
       "    }\n",
       "\n",
       "    .dataframe tbody tr th {\n",
       "        vertical-align: top;\n",
       "    }\n",
       "\n",
       "    .dataframe thead th {\n",
       "        text-align: right;\n",
       "    }\n",
       "</style>\n",
       "<table border=\"1\" class=\"dataframe\">\n",
       "  <thead>\n",
       "    <tr style=\"text-align: right;\">\n",
       "      <th></th>\n",
       "      <th>activity_id</th>\n",
       "      <th>assay_chembl_id</th>\n",
       "      <th>assay_description</th>\n",
       "      <th>assay_type</th>\n",
       "      <th>molecule_chembl_id</th>\n",
       "      <th>relation</th>\n",
       "      <th>units</th>\n",
       "      <th>IC50</th>\n",
       "      <th>target_chembl_id</th>\n",
       "      <th>target_organism</th>\n",
       "      <th>type</th>\n",
       "    </tr>\n",
       "  </thead>\n",
       "  <tbody>\n",
       "    <tr>\n",
       "      <th>0</th>\n",
       "      <td>32260</td>\n",
       "      <td>CHEMBL674637</td>\n",
       "      <td>Inhibitory activity towards tyrosine phosphory...</td>\n",
       "      <td>B</td>\n",
       "      <td>CHEMBL68920</td>\n",
       "      <td>=</td>\n",
       "      <td>nM</td>\n",
       "      <td>41.0</td>\n",
       "      <td>CHEMBL203</td>\n",
       "      <td>Homo sapiens</td>\n",
       "      <td>IC50</td>\n",
       "    </tr>\n",
       "    <tr>\n",
       "      <th>1</th>\n",
       "      <td>32267</td>\n",
       "      <td>CHEMBL674637</td>\n",
       "      <td>Inhibitory activity towards tyrosine phosphory...</td>\n",
       "      <td>B</td>\n",
       "      <td>CHEMBL69960</td>\n",
       "      <td>=</td>\n",
       "      <td>nM</td>\n",
       "      <td>170.0</td>\n",
       "      <td>CHEMBL203</td>\n",
       "      <td>Homo sapiens</td>\n",
       "      <td>IC50</td>\n",
       "    </tr>\n",
       "    <tr>\n",
       "      <th>2</th>\n",
       "      <td>32680</td>\n",
       "      <td>CHEMBL677833</td>\n",
       "      <td>In vitro inhibition of Epidermal growth factor...</td>\n",
       "      <td>B</td>\n",
       "      <td>CHEMBL137635</td>\n",
       "      <td>=</td>\n",
       "      <td>nM</td>\n",
       "      <td>9300.0</td>\n",
       "      <td>CHEMBL203</td>\n",
       "      <td>Homo sapiens</td>\n",
       "      <td>IC50</td>\n",
       "    </tr>\n",
       "    <tr>\n",
       "      <th>3</th>\n",
       "      <td>32770</td>\n",
       "      <td>CHEMBL674643</td>\n",
       "      <td>Inhibitory concentration of EGF dependent auto...</td>\n",
       "      <td>B</td>\n",
       "      <td>CHEMBL306988</td>\n",
       "      <td>=</td>\n",
       "      <td>nM</td>\n",
       "      <td>500000.0</td>\n",
       "      <td>CHEMBL203</td>\n",
       "      <td>Homo sapiens</td>\n",
       "      <td>IC50</td>\n",
       "    </tr>\n",
       "    <tr>\n",
       "      <th>4</th>\n",
       "      <td>32772</td>\n",
       "      <td>CHEMBL674643</td>\n",
       "      <td>Inhibitory concentration of EGF dependent auto...</td>\n",
       "      <td>B</td>\n",
       "      <td>CHEMBL66879</td>\n",
       "      <td>=</td>\n",
       "      <td>nM</td>\n",
       "      <td>3000000.0</td>\n",
       "      <td>CHEMBL203</td>\n",
       "      <td>Homo sapiens</td>\n",
       "      <td>IC50</td>\n",
       "    </tr>\n",
       "  </tbody>\n",
       "</table>\n",
       "</div>"
      ],
      "text/plain": [
       "   activity_id assay_chembl_id  \\\n",
       "0        32260    CHEMBL674637   \n",
       "1        32267    CHEMBL674637   \n",
       "2        32680    CHEMBL677833   \n",
       "3        32770    CHEMBL674643   \n",
       "4        32772    CHEMBL674643   \n",
       "\n",
       "                                   assay_description assay_type  \\\n",
       "0  Inhibitory activity towards tyrosine phosphory...          B   \n",
       "1  Inhibitory activity towards tyrosine phosphory...          B   \n",
       "2  In vitro inhibition of Epidermal growth factor...          B   \n",
       "3  Inhibitory concentration of EGF dependent auto...          B   \n",
       "4  Inhibitory concentration of EGF dependent auto...          B   \n",
       "\n",
       "  molecule_chembl_id relation units       IC50 target_chembl_id  \\\n",
       "0        CHEMBL68920        =    nM       41.0        CHEMBL203   \n",
       "1        CHEMBL69960        =    nM      170.0        CHEMBL203   \n",
       "2       CHEMBL137635        =    nM     9300.0        CHEMBL203   \n",
       "3       CHEMBL306988        =    nM   500000.0        CHEMBL203   \n",
       "4        CHEMBL66879        =    nM  3000000.0        CHEMBL203   \n",
       "\n",
       "  target_organism  type  \n",
       "0    Homo sapiens  IC50  \n",
       "1    Homo sapiens  IC50  \n",
       "2    Homo sapiens  IC50  \n",
       "3    Homo sapiens  IC50  \n",
       "4    Homo sapiens  IC50  "
      ]
     },
     "execution_count": 23,
     "metadata": {},
     "output_type": "execute_result"
    }
   ],
   "source": [
    "bioactivities_df.rename(\n",
    "    columns={\"standard_value\": \"IC50\", \"standard_units\": \"units\"}, inplace=True\n",
    ")\n",
    "bioactivities_df.head()"
   ]
  },
  {
   "cell_type": "code",
   "execution_count": 24,
   "metadata": {},
   "outputs": [
    {
     "name": "stdout",
     "output_type": "stream",
     "text": [
      "DataFrame shape: (6823, 11)\n"
     ]
    }
   ],
   "source": [
    "print(f\"DataFrame shape: {bioactivities_df.shape}\")\n",
    "# NBVAL_CHECK_OUTPUT"
   ]
  },
  {
   "cell_type": "markdown",
   "metadata": {},
   "source": [
    "We now have a set of **6823** molecule ids with respective IC50 values for our target kinase."
   ]
  },
  {
   "cell_type": "markdown",
   "metadata": {},
   "source": [
    "### Get compound data\n",
    "\n",
    "We have a `DataFrame` containing all molecules tested against EGFR (with the respective measured bioactivity). \n",
    "\n",
    "Now, we want to get the molecular structures of the molecules that are linked to respective bioactivity ChEMBL IDs. "
   ]
  },
  {
   "cell_type": "markdown",
   "metadata": {},
   "source": [
    "#### Fetch compound data from ChEMBL\n",
    "\n",
    "Let's have a look at the compounds from ChEMBL which we have defined bioactivity data for: We fetch compound ChEMBL IDs and structures for the compounds linked to our filtered bioactivity data."
   ]
  },
  {
   "cell_type": "code",
   "execution_count": 25,
   "metadata": {},
   "outputs": [],
   "source": [
    "compounds = compounds_api.filter(\n",
    "    molecule_chembl_id__in=list(bioactivities_df[\"molecule_chembl_id\"])\n",
    ").only(\"molecule_chembl_id\", \"molecule_structures\")"
   ]
  },
  {
   "cell_type": "markdown",
   "metadata": {},
   "source": [
    "#### Download compound data from ChEMBL\n",
    "\n",
    "Again, we download the `QuerySet` in the form of a `pandas` `DataFrame`. **This may take some time.**"
   ]
  },
  {
   "cell_type": "code",
   "execution_count": 26,
   "metadata": {},
   "outputs": [
    {
     "name": "stdout",
     "output_type": "stream",
     "text": [
      "DataFrame shape: (6824, 2)\n"
     ]
    }
   ],
   "source": [
    "if 0:\n",
    "    compounds_df = pd.DataFrame.from_records(compounds)\n",
    "    with open(DATA / \"egfr_compounds_df.pkl\",'wb+') as outf:\n",
    "        pickle.dump(compounds_df,outf)\n",
    "else:\n",
    "    with open(DATA / \"egfr_compounds_df.pkl\",'rb') as inf:\n",
    "        compounds_df = pickle.load(inf)\n",
    "    \n",
    "print(f\"DataFrame shape: {compounds_df.shape}\")"
   ]
  },
  {
   "cell_type": "code",
   "execution_count": 27,
   "metadata": {},
   "outputs": [
    {
     "data": {
      "text/html": [
       "<div>\n",
       "<style scoped>\n",
       "    .dataframe tbody tr th:only-of-type {\n",
       "        vertical-align: middle;\n",
       "    }\n",
       "\n",
       "    .dataframe tbody tr th {\n",
       "        vertical-align: top;\n",
       "    }\n",
       "\n",
       "    .dataframe thead th {\n",
       "        text-align: right;\n",
       "    }\n",
       "</style>\n",
       "<table border=\"1\" class=\"dataframe\">\n",
       "  <thead>\n",
       "    <tr style=\"text-align: right;\">\n",
       "      <th></th>\n",
       "      <th>molecule_chembl_id</th>\n",
       "      <th>molecule_structures</th>\n",
       "    </tr>\n",
       "  </thead>\n",
       "  <tbody>\n",
       "    <tr>\n",
       "      <th>0</th>\n",
       "      <td>CHEMBL6246</td>\n",
       "      <td>{'canonical_smiles': 'O=c1oc2c(O)c(O)cc3c(=O)o...</td>\n",
       "    </tr>\n",
       "    <tr>\n",
       "      <th>1</th>\n",
       "      <td>CHEMBL6246</td>\n",
       "      <td>{'canonical_smiles': 'O=c1oc2c(O)c(O)cc3c(=O)o...</td>\n",
       "    </tr>\n",
       "    <tr>\n",
       "      <th>2</th>\n",
       "      <td>CHEMBL10</td>\n",
       "      <td>{'canonical_smiles': 'C[S+]([O-])c1ccc(-c2nc(-...</td>\n",
       "    </tr>\n",
       "    <tr>\n",
       "      <th>3</th>\n",
       "      <td>CHEMBL6976</td>\n",
       "      <td>{'canonical_smiles': 'COc1cc2c(cc1OC)Nc1ncn(C)...</td>\n",
       "    </tr>\n",
       "    <tr>\n",
       "      <th>4</th>\n",
       "      <td>CHEMBL7002</td>\n",
       "      <td>{'canonical_smiles': 'CC1(COc2ccc(CC3SC(=O)NC3...</td>\n",
       "    </tr>\n",
       "  </tbody>\n",
       "</table>\n",
       "</div>"
      ],
      "text/plain": [
       "  molecule_chembl_id                                molecule_structures\n",
       "0         CHEMBL6246  {'canonical_smiles': 'O=c1oc2c(O)c(O)cc3c(=O)o...\n",
       "1         CHEMBL6246  {'canonical_smiles': 'O=c1oc2c(O)c(O)cc3c(=O)o...\n",
       "2           CHEMBL10  {'canonical_smiles': 'C[S+]([O-])c1ccc(-c2nc(-...\n",
       "3         CHEMBL6976  {'canonical_smiles': 'COc1cc2c(cc1OC)Nc1ncn(C)...\n",
       "4         CHEMBL7002  {'canonical_smiles': 'CC1(COc2ccc(CC3SC(=O)NC3..."
      ]
     },
     "execution_count": 27,
     "metadata": {},
     "output_type": "execute_result"
    }
   ],
   "source": [
    "compounds_df.head()"
   ]
  },
  {
   "cell_type": "markdown",
   "metadata": {},
   "source": [
    "#### Preprocess and filter compound data\n",
    "\n",
    "1. Remove entries with missing entries\n",
    "2. Delete duplicate molecules (by molecule_chembl_id)\n",
    "3. Get molecules with canonical SMILES"
   ]
  },
  {
   "cell_type": "markdown",
   "metadata": {},
   "source": [
    "**1. Remove entries with missing molecule structure entry**"
   ]
  },
  {
   "cell_type": "code",
   "execution_count": 28,
   "metadata": {},
   "outputs": [
    {
     "name": "stdout",
     "output_type": "stream",
     "text": [
      "DataFrame shape: (6817, 2)\n"
     ]
    }
   ],
   "source": [
    "compounds_df.dropna(axis=0, how=\"any\", inplace=True)\n",
    "print(f\"DataFrame shape: {compounds_df.shape}\")"
   ]
  },
  {
   "cell_type": "markdown",
   "metadata": {},
   "source": [
    "**2. Delete duplicate molecules**"
   ]
  },
  {
   "cell_type": "code",
   "execution_count": 29,
   "metadata": {},
   "outputs": [
    {
     "name": "stdout",
     "output_type": "stream",
     "text": [
      "DataFrame shape: (6816, 2)\n"
     ]
    }
   ],
   "source": [
    "compounds_df.drop_duplicates(\"molecule_chembl_id\", keep=\"first\", inplace=True)\n",
    "print(f\"DataFrame shape: {compounds_df.shape}\")"
   ]
  },
  {
   "cell_type": "markdown",
   "metadata": {},
   "source": [
    "**3. Get molecules with canonical SMILES**\n",
    "\n",
    "So far, we have multiple different molecular structure representations. We only want to keep the canonical SMILES."
   ]
  },
  {
   "cell_type": "code",
   "execution_count": 30,
   "metadata": {},
   "outputs": [
    {
     "data": {
      "text/plain": [
       "dict_keys(['canonical_smiles', 'molfile', 'standard_inchi', 'standard_inchi_key'])"
      ]
     },
     "execution_count": 30,
     "metadata": {},
     "output_type": "execute_result"
    }
   ],
   "source": [
    "compounds_df.iloc[0].molecule_structures.keys()"
   ]
  },
  {
   "cell_type": "code",
   "execution_count": 31,
   "metadata": {},
   "outputs": [
    {
     "name": "stdout",
     "output_type": "stream",
     "text": [
      "DataFrame shape: (6816, 2)\n"
     ]
    }
   ],
   "source": [
    "canonical_smiles = []\n",
    "\n",
    "for i, compounds in compounds_df.iterrows():\n",
    "    try:\n",
    "        canonical_smiles.append(compounds[\"molecule_structures\"][\"canonical_smiles\"])\n",
    "    except KeyError:\n",
    "        canonical_smiles.append(None)\n",
    "\n",
    "compounds_df[\"smiles\"] = canonical_smiles\n",
    "compounds_df.drop(\"molecule_structures\", axis=1, inplace=True)\n",
    "print(f\"DataFrame shape: {compounds_df.shape}\")"
   ]
  },
  {
   "cell_type": "markdown",
   "metadata": {},
   "source": [
    "Sanity check: Remove all molecules without a canonical SMILES string."
   ]
  },
  {
   "cell_type": "code",
   "execution_count": 32,
   "metadata": {},
   "outputs": [
    {
     "name": "stdout",
     "output_type": "stream",
     "text": [
      "DataFrame shape: (6816, 2)\n"
     ]
    }
   ],
   "source": [
    "compounds_df.dropna(axis=0, how=\"any\", inplace=True)\n",
    "print(f\"DataFrame shape: {compounds_df.shape}\")\n",
    "# NBVAL_CHECK_OUTPUT"
   ]
  },
  {
   "cell_type": "markdown",
   "metadata": {},
   "source": [
    "We now have a set of **6816** molecule ids with respective IC50 values for our target kinase."
   ]
  },
  {
   "cell_type": "markdown",
   "metadata": {},
   "source": [
    "### Output (bioactivity-compound) data\n",
    "**Summary of compound and bioactivity data**"
   ]
  },
  {
   "cell_type": "code",
   "execution_count": 33,
   "metadata": {},
   "outputs": [
    {
     "name": "stdout",
     "output_type": "stream",
     "text": [
      "Bioactivities filtered: 6823\n"
     ]
    },
    {
     "data": {
      "text/plain": [
       "Index(['activity_id', 'assay_chembl_id', 'assay_description', 'assay_type',\n",
       "       'molecule_chembl_id', 'relation', 'units', 'IC50', 'target_chembl_id',\n",
       "       'target_organism', 'type'],\n",
       "      dtype='object')"
      ]
     },
     "execution_count": 33,
     "metadata": {},
     "output_type": "execute_result"
    }
   ],
   "source": [
    "print(f\"Bioactivities filtered: {bioactivities_df.shape[0]}\")\n",
    "bioactivities_df.columns"
   ]
  },
  {
   "cell_type": "code",
   "execution_count": 34,
   "metadata": {},
   "outputs": [
    {
     "name": "stdout",
     "output_type": "stream",
     "text": [
      "Compounds filtered: 6816\n"
     ]
    },
    {
     "data": {
      "text/plain": [
       "Index(['molecule_chembl_id', 'smiles'], dtype='object')"
      ]
     },
     "execution_count": 34,
     "metadata": {},
     "output_type": "execute_result"
    }
   ],
   "source": [
    "print(f\"Compounds filtered: {compounds_df.shape[0]}\")\n",
    "compounds_df.columns"
   ]
  },
  {
   "cell_type": "markdown",
   "metadata": {},
   "source": [
    "#### Merge both datasets\n",
    "\n",
    "Merge values of interest from `bioactivities_df` and `compounds_df` in an `output_df` based on the compounds' ChEMBL IDs (`molecule_chembl_id`), keeping the following columns:\n",
    "\n",
    "* ChEMBL IDs: `molecule_chembl_id`\n",
    "* SMILES: `smiles`\n",
    "* units: `units`\n",
    "* IC50: `IC50`"
   ]
  },
  {
   "cell_type": "code",
   "execution_count": 35,
   "metadata": {},
   "outputs": [
    {
     "name": "stdout",
     "output_type": "stream",
     "text": [
      "Dataset with 6816 entries.\n"
     ]
    }
   ],
   "source": [
    "# Merge DataFrames\n",
    "output_df = pd.merge(\n",
    "    bioactivities_df[[\"molecule_chembl_id\", \"IC50\", \"units\"]],\n",
    "    compounds_df,\n",
    "    on=\"molecule_chembl_id\",\n",
    ")\n",
    "\n",
    "# Reset row indices\n",
    "output_df.reset_index(drop=True, inplace=True)\n",
    "\n",
    "print(f\"Dataset with {output_df.shape[0]} entries.\")\n",
    "# NBVAL_CHECK_OUTPUT"
   ]
  },
  {
   "cell_type": "markdown",
   "metadata": {},
   "source": [
    "Sanity check: The merged bioactivities/compound data set contains **6816** entries."
   ]
  },
  {
   "cell_type": "code",
   "execution_count": 36,
   "metadata": {},
   "outputs": [
    {
     "data": {
      "text/plain": [
       "molecule_chembl_id     object\n",
       "IC50                  float64\n",
       "units                  object\n",
       "smiles                 object\n",
       "dtype: object"
      ]
     },
     "execution_count": 36,
     "metadata": {},
     "output_type": "execute_result"
    }
   ],
   "source": [
    "output_df.dtypes"
   ]
  },
  {
   "cell_type": "code",
   "execution_count": 37,
   "metadata": {},
   "outputs": [
    {
     "data": {
      "text/html": [
       "<div>\n",
       "<style scoped>\n",
       "    .dataframe tbody tr th:only-of-type {\n",
       "        vertical-align: middle;\n",
       "    }\n",
       "\n",
       "    .dataframe tbody tr th {\n",
       "        vertical-align: top;\n",
       "    }\n",
       "\n",
       "    .dataframe thead th {\n",
       "        text-align: right;\n",
       "    }\n",
       "</style>\n",
       "<table border=\"1\" class=\"dataframe\">\n",
       "  <thead>\n",
       "    <tr style=\"text-align: right;\">\n",
       "      <th></th>\n",
       "      <th>molecule_chembl_id</th>\n",
       "      <th>IC50</th>\n",
       "      <th>units</th>\n",
       "      <th>smiles</th>\n",
       "    </tr>\n",
       "  </thead>\n",
       "  <tbody>\n",
       "    <tr>\n",
       "      <th>0</th>\n",
       "      <td>CHEMBL68920</td>\n",
       "      <td>41.0</td>\n",
       "      <td>nM</td>\n",
       "      <td>Cc1cc(C)c(/C=C2\\C(=O)Nc3ncnc(Nc4ccc(F)c(Cl)c4)...</td>\n",
       "    </tr>\n",
       "    <tr>\n",
       "      <th>1</th>\n",
       "      <td>CHEMBL69960</td>\n",
       "      <td>170.0</td>\n",
       "      <td>nM</td>\n",
       "      <td>Cc1cc(C(=O)N2CCOCC2)[nH]c1/C=C1\\C(=O)Nc2ncnc(N...</td>\n",
       "    </tr>\n",
       "    <tr>\n",
       "      <th>2</th>\n",
       "      <td>CHEMBL137635</td>\n",
       "      <td>9300.0</td>\n",
       "      <td>nM</td>\n",
       "      <td>CN(c1ccccc1)c1ncnc2ccc(N/N=N/Cc3ccccn3)cc12</td>\n",
       "    </tr>\n",
       "    <tr>\n",
       "      <th>3</th>\n",
       "      <td>CHEMBL306988</td>\n",
       "      <td>500000.0</td>\n",
       "      <td>nM</td>\n",
       "      <td>CC(=C(C#N)C#N)c1ccc(NC(=O)CCC(=O)O)cc1</td>\n",
       "    </tr>\n",
       "    <tr>\n",
       "      <th>4</th>\n",
       "      <td>CHEMBL66879</td>\n",
       "      <td>3000000.0</td>\n",
       "      <td>nM</td>\n",
       "      <td>O=C(O)/C=C/c1ccc(O)cc1</td>\n",
       "    </tr>\n",
       "    <tr>\n",
       "      <th>5</th>\n",
       "      <td>CHEMBL77085</td>\n",
       "      <td>96000.0</td>\n",
       "      <td>nM</td>\n",
       "      <td>N#CC(C#N)=Cc1cc(O)ccc1[N+](=O)[O-]</td>\n",
       "    </tr>\n",
       "    <tr>\n",
       "      <th>6</th>\n",
       "      <td>CHEMBL443268</td>\n",
       "      <td>5310.0</td>\n",
       "      <td>nM</td>\n",
       "      <td>Cc1cc(C(=O)NCCN2CCOCC2)[nH]c1/C=C1\\C(=O)N(C)c2...</td>\n",
       "    </tr>\n",
       "    <tr>\n",
       "      <th>7</th>\n",
       "      <td>CHEMBL76979</td>\n",
       "      <td>264000.0</td>\n",
       "      <td>nM</td>\n",
       "      <td>COc1cc(/C=C(\\C#N)C(=O)O)cc(OC)c1O</td>\n",
       "    </tr>\n",
       "    <tr>\n",
       "      <th>8</th>\n",
       "      <td>CHEMBL76589</td>\n",
       "      <td>125.0</td>\n",
       "      <td>nM</td>\n",
       "      <td>N#CC(C#N)=C(N)/C(C#N)=C/c1ccc(O)cc1</td>\n",
       "    </tr>\n",
       "    <tr>\n",
       "      <th>9</th>\n",
       "      <td>CHEMBL76904</td>\n",
       "      <td>35000.0</td>\n",
       "      <td>nM</td>\n",
       "      <td>N#CC(C#N)=Cc1ccc(O)c(O)c1</td>\n",
       "    </tr>\n",
       "  </tbody>\n",
       "</table>\n",
       "</div>"
      ],
      "text/plain": [
       "  molecule_chembl_id       IC50 units  \\\n",
       "0        CHEMBL68920       41.0    nM   \n",
       "1        CHEMBL69960      170.0    nM   \n",
       "2       CHEMBL137635     9300.0    nM   \n",
       "3       CHEMBL306988   500000.0    nM   \n",
       "4        CHEMBL66879  3000000.0    nM   \n",
       "5        CHEMBL77085    96000.0    nM   \n",
       "6       CHEMBL443268     5310.0    nM   \n",
       "7        CHEMBL76979   264000.0    nM   \n",
       "8        CHEMBL76589      125.0    nM   \n",
       "9        CHEMBL76904    35000.0    nM   \n",
       "\n",
       "                                              smiles  \n",
       "0  Cc1cc(C)c(/C=C2\\C(=O)Nc3ncnc(Nc4ccc(F)c(Cl)c4)...  \n",
       "1  Cc1cc(C(=O)N2CCOCC2)[nH]c1/C=C1\\C(=O)Nc2ncnc(N...  \n",
       "2        CN(c1ccccc1)c1ncnc2ccc(N/N=N/Cc3ccccn3)cc12  \n",
       "3             CC(=C(C#N)C#N)c1ccc(NC(=O)CCC(=O)O)cc1  \n",
       "4                             O=C(O)/C=C/c1ccc(O)cc1  \n",
       "5                 N#CC(C#N)=Cc1cc(O)ccc1[N+](=O)[O-]  \n",
       "6  Cc1cc(C(=O)NCCN2CCOCC2)[nH]c1/C=C1\\C(=O)N(C)c2...  \n",
       "7                  COc1cc(/C=C(\\C#N)C(=O)O)cc(OC)c1O  \n",
       "8                N#CC(C#N)=C(N)/C(C#N)=C/c1ccc(O)cc1  \n",
       "9                          N#CC(C#N)=Cc1ccc(O)c(O)c1  "
      ]
     },
     "execution_count": 37,
     "metadata": {},
     "output_type": "execute_result"
    }
   ],
   "source": [
    "output_df.head(10)"
   ]
  },
  {
   "cell_type": "markdown",
   "metadata": {},
   "source": [
    "#### Add pIC50 values"
   ]
  },
  {
   "cell_type": "markdown",
   "metadata": {},
   "source": [
    "As you can see the low IC50 values are difficult to read (values are distributed over multiple scales), which is why we convert the IC50 values to pIC50."
   ]
  },
  {
   "cell_type": "code",
   "execution_count": 38,
   "metadata": {},
   "outputs": [],
   "source": [
    "def convert_ic50_to_pic50(IC50_value):\n",
    "    pIC50_value = 9 - math.log10(IC50_value)\n",
    "    return pIC50_value"
   ]
  },
  {
   "cell_type": "code",
   "execution_count": 39,
   "metadata": {},
   "outputs": [],
   "source": [
    "# Apply conversion to each row of the compounds DataFrame\n",
    "output_df[\"pIC50\"] = output_df.apply(lambda x: convert_ic50_to_pic50(x.IC50), axis=1)"
   ]
  },
  {
   "cell_type": "code",
   "execution_count": 40,
   "metadata": {},
   "outputs": [
    {
     "data": {
      "text/html": [
       "<div>\n",
       "<style scoped>\n",
       "    .dataframe tbody tr th:only-of-type {\n",
       "        vertical-align: middle;\n",
       "    }\n",
       "\n",
       "    .dataframe tbody tr th {\n",
       "        vertical-align: top;\n",
       "    }\n",
       "\n",
       "    .dataframe thead th {\n",
       "        text-align: right;\n",
       "    }\n",
       "</style>\n",
       "<table border=\"1\" class=\"dataframe\">\n",
       "  <thead>\n",
       "    <tr style=\"text-align: right;\">\n",
       "      <th></th>\n",
       "      <th>molecule_chembl_id</th>\n",
       "      <th>IC50</th>\n",
       "      <th>units</th>\n",
       "      <th>smiles</th>\n",
       "      <th>pIC50</th>\n",
       "    </tr>\n",
       "  </thead>\n",
       "  <tbody>\n",
       "    <tr>\n",
       "      <th>0</th>\n",
       "      <td>CHEMBL68920</td>\n",
       "      <td>41.0</td>\n",
       "      <td>nM</td>\n",
       "      <td>Cc1cc(C)c(/C=C2\\C(=O)Nc3ncnc(Nc4ccc(F)c(Cl)c4)...</td>\n",
       "      <td>7.387216</td>\n",
       "    </tr>\n",
       "    <tr>\n",
       "      <th>1</th>\n",
       "      <td>CHEMBL69960</td>\n",
       "      <td>170.0</td>\n",
       "      <td>nM</td>\n",
       "      <td>Cc1cc(C(=O)N2CCOCC2)[nH]c1/C=C1\\C(=O)Nc2ncnc(N...</td>\n",
       "      <td>6.769551</td>\n",
       "    </tr>\n",
       "    <tr>\n",
       "      <th>2</th>\n",
       "      <td>CHEMBL137635</td>\n",
       "      <td>9300.0</td>\n",
       "      <td>nM</td>\n",
       "      <td>CN(c1ccccc1)c1ncnc2ccc(N/N=N/Cc3ccccn3)cc12</td>\n",
       "      <td>5.031517</td>\n",
       "    </tr>\n",
       "    <tr>\n",
       "      <th>3</th>\n",
       "      <td>CHEMBL306988</td>\n",
       "      <td>500000.0</td>\n",
       "      <td>nM</td>\n",
       "      <td>CC(=C(C#N)C#N)c1ccc(NC(=O)CCC(=O)O)cc1</td>\n",
       "      <td>3.301030</td>\n",
       "    </tr>\n",
       "    <tr>\n",
       "      <th>4</th>\n",
       "      <td>CHEMBL66879</td>\n",
       "      <td>3000000.0</td>\n",
       "      <td>nM</td>\n",
       "      <td>O=C(O)/C=C/c1ccc(O)cc1</td>\n",
       "      <td>2.522879</td>\n",
       "    </tr>\n",
       "  </tbody>\n",
       "</table>\n",
       "</div>"
      ],
      "text/plain": [
       "  molecule_chembl_id       IC50 units  \\\n",
       "0        CHEMBL68920       41.0    nM   \n",
       "1        CHEMBL69960      170.0    nM   \n",
       "2       CHEMBL137635     9300.0    nM   \n",
       "3       CHEMBL306988   500000.0    nM   \n",
       "4        CHEMBL66879  3000000.0    nM   \n",
       "\n",
       "                                              smiles     pIC50  \n",
       "0  Cc1cc(C)c(/C=C2\\C(=O)Nc3ncnc(Nc4ccc(F)c(Cl)c4)...  7.387216  \n",
       "1  Cc1cc(C(=O)N2CCOCC2)[nH]c1/C=C1\\C(=O)Nc2ncnc(N...  6.769551  \n",
       "2        CN(c1ccccc1)c1ncnc2ccc(N/N=N/Cc3ccccn3)cc12  5.031517  \n",
       "3             CC(=C(C#N)C#N)c1ccc(NC(=O)CCC(=O)O)cc1  3.301030  \n",
       "4                             O=C(O)/C=C/c1ccc(O)cc1  2.522879  "
      ]
     },
     "execution_count": 40,
     "metadata": {},
     "output_type": "execute_result"
    }
   ],
   "source": [
    "output_df.head()"
   ]
  },
  {
   "cell_type": "markdown",
   "metadata": {},
   "source": [
    "#### Draw compound data\n",
    "\n",
    "Let's have a look at our collected data set.\n",
    "\n",
    "First, we plot the pIC50 value distribution"
   ]
  },
  {
   "cell_type": "code",
   "execution_count": 41,
   "metadata": {
    "tags": [
     "nbsphinx-thumbnail"
    ]
   },
   "outputs": [
    {
     "data": {
      "text/plain": [
       "array([[<Axes: title={'center': 'pIC50'}>]], dtype=object)"
      ]
     },
     "execution_count": 41,
     "metadata": {},
     "output_type": "execute_result"
    },
    {
     "data": {
      "image/png": "[encoded data removed]",
      "text/plain": [
       "<Figure size 640x480 with 1 Axes>"
      ]
     },
     "metadata": {},
     "output_type": "display_data"
    }
   ],
   "source": [
    "output_df.hist(column=\"pIC50\")"
   ]
  },
  {
   "cell_type": "markdown",
   "metadata": {},
   "source": [
    "In the next steps, we add a column for RDKit molecule objects to our `DataFrame` and look at the structures of the molecules with the highest pIC50 values. "
   ]
  },
  {
   "cell_type": "code",
   "execution_count": 42,
   "metadata": {},
   "outputs": [],
   "source": [
    "# Add molecule column\n",
    "PandasTools.AddMoleculeColumnToFrame(output_df, smilesCol=\"smiles\")\n",
    "PandasTools.RenderImagesInAllDataFrames(True)"
   ]
  },
  {
   "cell_type": "code",
   "execution_count": 43,
   "metadata": {},
   "outputs": [],
   "source": [
    "# Sort molecules by pIC50\n",
    "output_df.sort_values(by=\"pIC50\", ascending=False, inplace=True)\n",
    "\n",
    "# Reset index\n",
    "output_df.reset_index(drop=True, inplace=True)"
   ]
  },
  {
   "cell_type": "markdown",
   "metadata": {},
   "source": [
    "Show the three most active molecules, i.e. molecules with the highest pIC50 values."
   ]
  },
  {
   "cell_type": "code",
   "execution_count": 44,
   "metadata": {},
   "outputs": [
    {
     "data": {
      "text/html": [
       "<div>\n",
       "<style scoped>\n",
       "    .dataframe tbody tr th:only-of-type {\n",
       "        vertical-align: middle;\n",
       "    }\n",
       "\n",
       "    .dataframe tbody tr th {\n",
       "        vertical-align: top;\n",
       "    }\n",
       "\n",
       "    .dataframe thead th {\n",
       "        text-align: right;\n",
       "    }\n",
       "</style>\n",
       "<table border=\"1\" class=\"dataframe\">\n",
       "  <thead>\n",
       "    <tr style=\"text-align: right;\">\n",
       "      <th></th>\n",
       "      <th>molecule_chembl_id</th>\n",
       "      <th>IC50</th>\n",
       "      <th>units</th>\n",
       "      <th>pIC50</th>\n",
       "      <th>ROMol</th>\n",
       "    </tr>\n",
       "  </thead>\n",
       "  <tbody>\n",
       "    <tr>\n",
       "      <th>0</th>\n",
       "      <td>CHEMBL63786</td>\n",
       "      <td>0.003</td>\n",
       "      <td>nM</td>\n",
       "      <td>11.522879</td>\n",
       "      <td style=\"text-align: center;\"><div style=\"width: 200px; height: 200px\" data-content=\"rdkit/molecule\"><img src=\"data:image/png;base64,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\" alt=\"Mol\"/></div></td>\n",
       "    </tr>\n",
       "    <tr>\n",
       "      <th>1</th>\n",
       "      <td>CHEMBL53711</td>\n",
       "      <td>0.006</td>\n",
       "      <td>nM</td>\n",
       "      <td>11.221849</td>\n",
       "      <td style=\"text-align: center;\"><div style=\"width: 200px; height: 200px\" data-content=\"rdkit/molecule\"><img src=\"data:image/png;base64,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\" alt=\"Mol\"/></div></td>\n",
       "    </tr>\n",
       "    <tr>\n",
       "      <th>2</th>\n",
       "      <td>CHEMBL35820</td>\n",
       "      <td>0.006</td>\n",
       "      <td>nM</td>\n",
       "      <td>11.221849</td>\n",
       "      <td style=\"text-align: center;\"><div style=\"width: 200px; height: 200px\" data-content=\"rdkit/molecule\"><img src=\"data:image/png;base64,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\" alt=\"Mol\"/></div></td>\n",
       "    </tr>\n",
       "  </tbody>\n",
       "</table>\n",
       "</div>"
      ],
      "text/plain": [
       "  molecule_chembl_id   IC50 units      pIC50  \\\n",
       "0        CHEMBL63786  0.003    nM  11.522879   \n",
       "1        CHEMBL53711  0.006    nM  11.221849   \n",
       "2        CHEMBL35820  0.006    nM  11.221849   \n",
       "\n",
       "                                              ROMol  \n",
       "0  <rdkit.Chem.rdchem.Mol object at 0x7fc3f6699380>  \n",
       "1  <rdkit.Chem.rdchem.Mol object at 0x7fc3f6690b30>  \n",
       "2  <rdkit.Chem.rdchem.Mol object at 0x7fc3f6683c30>  "
      ]
     },
     "execution_count": 44,
     "metadata": {},
     "output_type": "execute_result"
    }
   ],
   "source": [
    "output_df.drop(\"smiles\", axis=1).head(3)"
   ]
  },
  {
   "cell_type": "markdown",
   "metadata": {},
   "source": [
    "#### Write output data to file\n",
    "\n",
    "We want to use this bioactivity-compound dataset in the following talktorials, thus we save the data as `csv` file. \n",
    "Note that it is advisable to drop the molecule column (which only contains an image of the molecules) when saving the data."
   ]
  },
  {
   "cell_type": "code",
   "execution_count": 45,
   "metadata": {
    "scrolled": true
   },
   "outputs": [],
   "source": [
    "output_df.drop(\"ROMol\", axis=1).to_csv(DATA / \"EGFR_compounds.csv\")"
   ]
  },
  {
   "cell_type": "code",
   "execution_count": 46,
   "metadata": {},
   "outputs": [
    {
     "name": "stdout",
     "output_type": "stream",
     "text": [
      "DataFrame shape: (6816, 6)\n"
     ]
    }
   ],
   "source": [
    "print(f\"DataFrame shape: {output_df.shape}\")"
   ]
  },
  {
   "cell_type": "markdown",
   "metadata": {},
   "source": [
    "## Discussion"
   ]
  },
  {
   "cell_type": "markdown",
   "metadata": {},
   "source": [
    "In this tutorial, we collected bioactivity data for our target of interest from the ChEMBL database. \n",
    "We filtered the data set in order to only contain molecules with measured IC50 bioactivity values. \n",
    "\n",
    "Be aware that ChEMBL data originates from various sources. Compound data has been generated in different labs by different people all over the world. Therefore, we have to be cautious with the predictions we make using this data set. It is always important to consider the source of the data and consistency of data production assays when interpreting the results and determining how much confidence we have in our predictions.\n",
    "\n",
    "In the next tutorials, we will filter our acquired data by Lipinski's rule of five and by unwanted substructures. Another important step would be to *clean* the molecular data. As this is not shown in any of our talktorials (yet), we would like to refer to the [Standardiser library](https://github.com/flatkinson/standardiser) or [MolVS](https://molvs.readthedocs.io/en/latest/) as useful tools for this task."
   ]
  },
  {
   "cell_type": "markdown",
   "metadata": {},
   "source": [
    "## Quiz"
   ]
  },
  {
   "cell_type": "markdown",
   "metadata": {},
   "source": [
    "* We have downloaded in this talktorial molecules and bioactivity data from ChEMBL. What else is the ChEMBL database useful for?\n",
    "* What is the difference between IC50 and EC50?\n",
    "* What can we use the data extracted from ChEMBL for?"
   ]
  }
 ],
 "metadata": {
  "kernelspec": {
   "display_name": "Python 3 (ipykernel)",
   "language": "python",
   "name": "python3"
  },
  "language_info": {
   "codemirror_mode": {
    "name": "ipython",
    "version": 3
   },
   "file_extension": ".py",
   "mimetype": "text/x-python",
   "name": "python",
   "nbconvert_exporter": "python",
   "pygments_lexer": "ipython3",
   "version": "3.11.5"
  },
  "toc": {
   "base_numbering": 1,
   "nav_menu": {},
   "number_sections": true,
   "sideBar": true,
   "skip_h1_title": false,
   "title_cell": "Table of Contents",
   "title_sidebar": "Contents",
   "toc_cell": false,
   "toc_position": {},
   "toc_section_display": true,
   "toc_window_display": false
  },
  "toc-autonumbering": true,
  "toc-showmarkdowntxt": false,
  "toc-showtags": false,
  "widgets": {
   "application/vnd.jupyter.widget-state+json": {
    "state": {},
    "version_major": 2,
    "version_minor": 0
   }
  }
 },
 "nbformat": 4,
 "nbformat_minor": 4
}
